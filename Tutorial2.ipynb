{
  "nbformat": 4,
  "nbformat_minor": 0,
  "metadata": {
    "colab": {
      "provenance": [],
      "gpuType": "T4",
      "authorship_tag": "ABX9TyOnZdFpkbSHSo8t0Lh0h2VW",
      "include_colab_link": true
    },
    "kernelspec": {
      "name": "python3",
      "display_name": "Python 3"
    },
    "language_info": {
      "name": "python"
    },
    "accelerator": "GPU",
    "widgets": {
      "application/vnd.jupyter.widget-state+json": {
        "48fa9138047546d98746bed13ad786fb": {
          "model_module": "@jupyter-widgets/controls",
          "model_name": "HBoxModel",
          "model_module_version": "1.5.0",
          "state": {
            "_dom_classes": [],
            "_model_module": "@jupyter-widgets/controls",
            "_model_module_version": "1.5.0",
            "_model_name": "HBoxModel",
            "_view_count": null,
            "_view_module": "@jupyter-widgets/controls",
            "_view_module_version": "1.5.0",
            "_view_name": "HBoxView",
            "box_style": "",
            "children": [
              "IPY_MODEL_52910a1ecd814de39ccd23bab05b067b",
              "IPY_MODEL_045afbb5d30b4d22b3340645203f8bc1",
              "IPY_MODEL_fb43f3a808224401bba619420a25cda5"
            ],
            "layout": "IPY_MODEL_922be5e9847a46398e5e23876ecd9a0a"
          }
        },
        "52910a1ecd814de39ccd23bab05b067b": {
          "model_module": "@jupyter-widgets/controls",
          "model_name": "HTMLModel",
          "model_module_version": "1.5.0",
          "state": {
            "_dom_classes": [],
            "_model_module": "@jupyter-widgets/controls",
            "_model_module_version": "1.5.0",
            "_model_name": "HTMLModel",
            "_view_count": null,
            "_view_module": "@jupyter-widgets/controls",
            "_view_module_version": "1.5.0",
            "_view_name": "HTMLView",
            "description": "",
            "description_tooltip": null,
            "layout": "IPY_MODEL_624336b1f7ec44aa894ff47518d49197",
            "placeholder": "​",
            "style": "IPY_MODEL_f3e1d234e3894010b043738184d54463",
            "value": "100%"
          }
        },
        "045afbb5d30b4d22b3340645203f8bc1": {
          "model_module": "@jupyter-widgets/controls",
          "model_name": "FloatProgressModel",
          "model_module_version": "1.5.0",
          "state": {
            "_dom_classes": [],
            "_model_module": "@jupyter-widgets/controls",
            "_model_module_version": "1.5.0",
            "_model_name": "FloatProgressModel",
            "_view_count": null,
            "_view_module": "@jupyter-widgets/controls",
            "_view_module_version": "1.5.0",
            "_view_name": "ProgressView",
            "bar_style": "success",
            "description": "",
            "description_tooltip": null,
            "layout": "IPY_MODEL_4cda49e9c9394fa5bfb8c419929fb377",
            "max": 26421880,
            "min": 0,
            "orientation": "horizontal",
            "style": "IPY_MODEL_633a528cc4344ba78247f6dde3b9f424",
            "value": 26421880
          }
        },
        "fb43f3a808224401bba619420a25cda5": {
          "model_module": "@jupyter-widgets/controls",
          "model_name": "HTMLModel",
          "model_module_version": "1.5.0",
          "state": {
            "_dom_classes": [],
            "_model_module": "@jupyter-widgets/controls",
            "_model_module_version": "1.5.0",
            "_model_name": "HTMLModel",
            "_view_count": null,
            "_view_module": "@jupyter-widgets/controls",
            "_view_module_version": "1.5.0",
            "_view_name": "HTMLView",
            "description": "",
            "description_tooltip": null,
            "layout": "IPY_MODEL_af4377c02af94e7597709cb4c417f770",
            "placeholder": "​",
            "style": "IPY_MODEL_ec8cab90d1a34ce1be97bbb4cc1b6f56",
            "value": " 26421880/26421880 [00:02&lt;00:00, 19291853.24it/s]"
          }
        },
        "922be5e9847a46398e5e23876ecd9a0a": {
          "model_module": "@jupyter-widgets/base",
          "model_name": "LayoutModel",
          "model_module_version": "1.2.0",
          "state": {
            "_model_module": "@jupyter-widgets/base",
            "_model_module_version": "1.2.0",
            "_model_name": "LayoutModel",
            "_view_count": null,
            "_view_module": "@jupyter-widgets/base",
            "_view_module_version": "1.2.0",
            "_view_name": "LayoutView",
            "align_content": null,
            "align_items": null,
            "align_self": null,
            "border": null,
            "bottom": null,
            "display": null,
            "flex": null,
            "flex_flow": null,
            "grid_area": null,
            "grid_auto_columns": null,
            "grid_auto_flow": null,
            "grid_auto_rows": null,
            "grid_column": null,
            "grid_gap": null,
            "grid_row": null,
            "grid_template_areas": null,
            "grid_template_columns": null,
            "grid_template_rows": null,
            "height": null,
            "justify_content": null,
            "justify_items": null,
            "left": null,
            "margin": null,
            "max_height": null,
            "max_width": null,
            "min_height": null,
            "min_width": null,
            "object_fit": null,
            "object_position": null,
            "order": null,
            "overflow": null,
            "overflow_x": null,
            "overflow_y": null,
            "padding": null,
            "right": null,
            "top": null,
            "visibility": null,
            "width": null
          }
        },
        "624336b1f7ec44aa894ff47518d49197": {
          "model_module": "@jupyter-widgets/base",
          "model_name": "LayoutModel",
          "model_module_version": "1.2.0",
          "state": {
            "_model_module": "@jupyter-widgets/base",
            "_model_module_version": "1.2.0",
            "_model_name": "LayoutModel",
            "_view_count": null,
            "_view_module": "@jupyter-widgets/base",
            "_view_module_version": "1.2.0",
            "_view_name": "LayoutView",
            "align_content": null,
            "align_items": null,
            "align_self": null,
            "border": null,
            "bottom": null,
            "display": null,
            "flex": null,
            "flex_flow": null,
            "grid_area": null,
            "grid_auto_columns": null,
            "grid_auto_flow": null,
            "grid_auto_rows": null,
            "grid_column": null,
            "grid_gap": null,
            "grid_row": null,
            "grid_template_areas": null,
            "grid_template_columns": null,
            "grid_template_rows": null,
            "height": null,
            "justify_content": null,
            "justify_items": null,
            "left": null,
            "margin": null,
            "max_height": null,
            "max_width": null,
            "min_height": null,
            "min_width": null,
            "object_fit": null,
            "object_position": null,
            "order": null,
            "overflow": null,
            "overflow_x": null,
            "overflow_y": null,
            "padding": null,
            "right": null,
            "top": null,
            "visibility": null,
            "width": null
          }
        },
        "f3e1d234e3894010b043738184d54463": {
          "model_module": "@jupyter-widgets/controls",
          "model_name": "DescriptionStyleModel",
          "model_module_version": "1.5.0",
          "state": {
            "_model_module": "@jupyter-widgets/controls",
            "_model_module_version": "1.5.0",
            "_model_name": "DescriptionStyleModel",
            "_view_count": null,
            "_view_module": "@jupyter-widgets/base",
            "_view_module_version": "1.2.0",
            "_view_name": "StyleView",
            "description_width": ""
          }
        },
        "4cda49e9c9394fa5bfb8c419929fb377": {
          "model_module": "@jupyter-widgets/base",
          "model_name": "LayoutModel",
          "model_module_version": "1.2.0",
          "state": {
            "_model_module": "@jupyter-widgets/base",
            "_model_module_version": "1.2.0",
            "_model_name": "LayoutModel",
            "_view_count": null,
            "_view_module": "@jupyter-widgets/base",
            "_view_module_version": "1.2.0",
            "_view_name": "LayoutView",
            "align_content": null,
            "align_items": null,
            "align_self": null,
            "border": null,
            "bottom": null,
            "display": null,
            "flex": null,
            "flex_flow": null,
            "grid_area": null,
            "grid_auto_columns": null,
            "grid_auto_flow": null,
            "grid_auto_rows": null,
            "grid_column": null,
            "grid_gap": null,
            "grid_row": null,
            "grid_template_areas": null,
            "grid_template_columns": null,
            "grid_template_rows": null,
            "height": null,
            "justify_content": null,
            "justify_items": null,
            "left": null,
            "margin": null,
            "max_height": null,
            "max_width": null,
            "min_height": null,
            "min_width": null,
            "object_fit": null,
            "object_position": null,
            "order": null,
            "overflow": null,
            "overflow_x": null,
            "overflow_y": null,
            "padding": null,
            "right": null,
            "top": null,
            "visibility": null,
            "width": null
          }
        },
        "633a528cc4344ba78247f6dde3b9f424": {
          "model_module": "@jupyter-widgets/controls",
          "model_name": "ProgressStyleModel",
          "model_module_version": "1.5.0",
          "state": {
            "_model_module": "@jupyter-widgets/controls",
            "_model_module_version": "1.5.0",
            "_model_name": "ProgressStyleModel",
            "_view_count": null,
            "_view_module": "@jupyter-widgets/base",
            "_view_module_version": "1.2.0",
            "_view_name": "StyleView",
            "bar_color": null,
            "description_width": ""
          }
        },
        "af4377c02af94e7597709cb4c417f770": {
          "model_module": "@jupyter-widgets/base",
          "model_name": "LayoutModel",
          "model_module_version": "1.2.0",
          "state": {
            "_model_module": "@jupyter-widgets/base",
            "_model_module_version": "1.2.0",
            "_model_name": "LayoutModel",
            "_view_count": null,
            "_view_module": "@jupyter-widgets/base",
            "_view_module_version": "1.2.0",
            "_view_name": "LayoutView",
            "align_content": null,
            "align_items": null,
            "align_self": null,
            "border": null,
            "bottom": null,
            "display": null,
            "flex": null,
            "flex_flow": null,
            "grid_area": null,
            "grid_auto_columns": null,
            "grid_auto_flow": null,
            "grid_auto_rows": null,
            "grid_column": null,
            "grid_gap": null,
            "grid_row": null,
            "grid_template_areas": null,
            "grid_template_columns": null,
            "grid_template_rows": null,
            "height": null,
            "justify_content": null,
            "justify_items": null,
            "left": null,
            "margin": null,
            "max_height": null,
            "max_width": null,
            "min_height": null,
            "min_width": null,
            "object_fit": null,
            "object_position": null,
            "order": null,
            "overflow": null,
            "overflow_x": null,
            "overflow_y": null,
            "padding": null,
            "right": null,
            "top": null,
            "visibility": null,
            "width": null
          }
        },
        "ec8cab90d1a34ce1be97bbb4cc1b6f56": {
          "model_module": "@jupyter-widgets/controls",
          "model_name": "DescriptionStyleModel",
          "model_module_version": "1.5.0",
          "state": {
            "_model_module": "@jupyter-widgets/controls",
            "_model_module_version": "1.5.0",
            "_model_name": "DescriptionStyleModel",
            "_view_count": null,
            "_view_module": "@jupyter-widgets/base",
            "_view_module_version": "1.2.0",
            "_view_name": "StyleView",
            "description_width": ""
          }
        },
        "315e8cde906f498abbfd9c3c37989cf5": {
          "model_module": "@jupyter-widgets/controls",
          "model_name": "HBoxModel",
          "model_module_version": "1.5.0",
          "state": {
            "_dom_classes": [],
            "_model_module": "@jupyter-widgets/controls",
            "_model_module_version": "1.5.0",
            "_model_name": "HBoxModel",
            "_view_count": null,
            "_view_module": "@jupyter-widgets/controls",
            "_view_module_version": "1.5.0",
            "_view_name": "HBoxView",
            "box_style": "",
            "children": [
              "IPY_MODEL_8fa45edfd8804b8da9f04f0dc14c43eb",
              "IPY_MODEL_4d4ef643cfe64e788a18d3545a626523",
              "IPY_MODEL_8adfd33131634e11b51b17761a91b3be"
            ],
            "layout": "IPY_MODEL_d2c418c3ee4d4077ad93cbaebc78b7a9"
          }
        },
        "8fa45edfd8804b8da9f04f0dc14c43eb": {
          "model_module": "@jupyter-widgets/controls",
          "model_name": "HTMLModel",
          "model_module_version": "1.5.0",
          "state": {
            "_dom_classes": [],
            "_model_module": "@jupyter-widgets/controls",
            "_model_module_version": "1.5.0",
            "_model_name": "HTMLModel",
            "_view_count": null,
            "_view_module": "@jupyter-widgets/controls",
            "_view_module_version": "1.5.0",
            "_view_name": "HTMLView",
            "description": "",
            "description_tooltip": null,
            "layout": "IPY_MODEL_636c40c1e12040b1ba904d5e17c5cffc",
            "placeholder": "​",
            "style": "IPY_MODEL_ac951774e046474a958557c7ee7f7443",
            "value": "100%"
          }
        },
        "4d4ef643cfe64e788a18d3545a626523": {
          "model_module": "@jupyter-widgets/controls",
          "model_name": "FloatProgressModel",
          "model_module_version": "1.5.0",
          "state": {
            "_dom_classes": [],
            "_model_module": "@jupyter-widgets/controls",
            "_model_module_version": "1.5.0",
            "_model_name": "FloatProgressModel",
            "_view_count": null,
            "_view_module": "@jupyter-widgets/controls",
            "_view_module_version": "1.5.0",
            "_view_name": "ProgressView",
            "bar_style": "success",
            "description": "",
            "description_tooltip": null,
            "layout": "IPY_MODEL_a986f237ce9d452dbae5c5e22fb0a5db",
            "max": 29515,
            "min": 0,
            "orientation": "horizontal",
            "style": "IPY_MODEL_530704da075142048f786ae5b062e410",
            "value": 29515
          }
        },
        "8adfd33131634e11b51b17761a91b3be": {
          "model_module": "@jupyter-widgets/controls",
          "model_name": "HTMLModel",
          "model_module_version": "1.5.0",
          "state": {
            "_dom_classes": [],
            "_model_module": "@jupyter-widgets/controls",
            "_model_module_version": "1.5.0",
            "_model_name": "HTMLModel",
            "_view_count": null,
            "_view_module": "@jupyter-widgets/controls",
            "_view_module_version": "1.5.0",
            "_view_name": "HTMLView",
            "description": "",
            "description_tooltip": null,
            "layout": "IPY_MODEL_f4eec2b3a19a4b479f020505e8d37caa",
            "placeholder": "​",
            "style": "IPY_MODEL_f00d0abe568149d782a3214b6a1463c8",
            "value": " 29515/29515 [00:00&lt;00:00, 211423.28it/s]"
          }
        },
        "d2c418c3ee4d4077ad93cbaebc78b7a9": {
          "model_module": "@jupyter-widgets/base",
          "model_name": "LayoutModel",
          "model_module_version": "1.2.0",
          "state": {
            "_model_module": "@jupyter-widgets/base",
            "_model_module_version": "1.2.0",
            "_model_name": "LayoutModel",
            "_view_count": null,
            "_view_module": "@jupyter-widgets/base",
            "_view_module_version": "1.2.0",
            "_view_name": "LayoutView",
            "align_content": null,
            "align_items": null,
            "align_self": null,
            "border": null,
            "bottom": null,
            "display": null,
            "flex": null,
            "flex_flow": null,
            "grid_area": null,
            "grid_auto_columns": null,
            "grid_auto_flow": null,
            "grid_auto_rows": null,
            "grid_column": null,
            "grid_gap": null,
            "grid_row": null,
            "grid_template_areas": null,
            "grid_template_columns": null,
            "grid_template_rows": null,
            "height": null,
            "justify_content": null,
            "justify_items": null,
            "left": null,
            "margin": null,
            "max_height": null,
            "max_width": null,
            "min_height": null,
            "min_width": null,
            "object_fit": null,
            "object_position": null,
            "order": null,
            "overflow": null,
            "overflow_x": null,
            "overflow_y": null,
            "padding": null,
            "right": null,
            "top": null,
            "visibility": null,
            "width": null
          }
        },
        "636c40c1e12040b1ba904d5e17c5cffc": {
          "model_module": "@jupyter-widgets/base",
          "model_name": "LayoutModel",
          "model_module_version": "1.2.0",
          "state": {
            "_model_module": "@jupyter-widgets/base",
            "_model_module_version": "1.2.0",
            "_model_name": "LayoutModel",
            "_view_count": null,
            "_view_module": "@jupyter-widgets/base",
            "_view_module_version": "1.2.0",
            "_view_name": "LayoutView",
            "align_content": null,
            "align_items": null,
            "align_self": null,
            "border": null,
            "bottom": null,
            "display": null,
            "flex": null,
            "flex_flow": null,
            "grid_area": null,
            "grid_auto_columns": null,
            "grid_auto_flow": null,
            "grid_auto_rows": null,
            "grid_column": null,
            "grid_gap": null,
            "grid_row": null,
            "grid_template_areas": null,
            "grid_template_columns": null,
            "grid_template_rows": null,
            "height": null,
            "justify_content": null,
            "justify_items": null,
            "left": null,
            "margin": null,
            "max_height": null,
            "max_width": null,
            "min_height": null,
            "min_width": null,
            "object_fit": null,
            "object_position": null,
            "order": null,
            "overflow": null,
            "overflow_x": null,
            "overflow_y": null,
            "padding": null,
            "right": null,
            "top": null,
            "visibility": null,
            "width": null
          }
        },
        "ac951774e046474a958557c7ee7f7443": {
          "model_module": "@jupyter-widgets/controls",
          "model_name": "DescriptionStyleModel",
          "model_module_version": "1.5.0",
          "state": {
            "_model_module": "@jupyter-widgets/controls",
            "_model_module_version": "1.5.0",
            "_model_name": "DescriptionStyleModel",
            "_view_count": null,
            "_view_module": "@jupyter-widgets/base",
            "_view_module_version": "1.2.0",
            "_view_name": "StyleView",
            "description_width": ""
          }
        },
        "a986f237ce9d452dbae5c5e22fb0a5db": {
          "model_module": "@jupyter-widgets/base",
          "model_name": "LayoutModel",
          "model_module_version": "1.2.0",
          "state": {
            "_model_module": "@jupyter-widgets/base",
            "_model_module_version": "1.2.0",
            "_model_name": "LayoutModel",
            "_view_count": null,
            "_view_module": "@jupyter-widgets/base",
            "_view_module_version": "1.2.0",
            "_view_name": "LayoutView",
            "align_content": null,
            "align_items": null,
            "align_self": null,
            "border": null,
            "bottom": null,
            "display": null,
            "flex": null,
            "flex_flow": null,
            "grid_area": null,
            "grid_auto_columns": null,
            "grid_auto_flow": null,
            "grid_auto_rows": null,
            "grid_column": null,
            "grid_gap": null,
            "grid_row": null,
            "grid_template_areas": null,
            "grid_template_columns": null,
            "grid_template_rows": null,
            "height": null,
            "justify_content": null,
            "justify_items": null,
            "left": null,
            "margin": null,
            "max_height": null,
            "max_width": null,
            "min_height": null,
            "min_width": null,
            "object_fit": null,
            "object_position": null,
            "order": null,
            "overflow": null,
            "overflow_x": null,
            "overflow_y": null,
            "padding": null,
            "right": null,
            "top": null,
            "visibility": null,
            "width": null
          }
        },
        "530704da075142048f786ae5b062e410": {
          "model_module": "@jupyter-widgets/controls",
          "model_name": "ProgressStyleModel",
          "model_module_version": "1.5.0",
          "state": {
            "_model_module": "@jupyter-widgets/controls",
            "_model_module_version": "1.5.0",
            "_model_name": "ProgressStyleModel",
            "_view_count": null,
            "_view_module": "@jupyter-widgets/base",
            "_view_module_version": "1.2.0",
            "_view_name": "StyleView",
            "bar_color": null,
            "description_width": ""
          }
        },
        "f4eec2b3a19a4b479f020505e8d37caa": {
          "model_module": "@jupyter-widgets/base",
          "model_name": "LayoutModel",
          "model_module_version": "1.2.0",
          "state": {
            "_model_module": "@jupyter-widgets/base",
            "_model_module_version": "1.2.0",
            "_model_name": "LayoutModel",
            "_view_count": null,
            "_view_module": "@jupyter-widgets/base",
            "_view_module_version": "1.2.0",
            "_view_name": "LayoutView",
            "align_content": null,
            "align_items": null,
            "align_self": null,
            "border": null,
            "bottom": null,
            "display": null,
            "flex": null,
            "flex_flow": null,
            "grid_area": null,
            "grid_auto_columns": null,
            "grid_auto_flow": null,
            "grid_auto_rows": null,
            "grid_column": null,
            "grid_gap": null,
            "grid_row": null,
            "grid_template_areas": null,
            "grid_template_columns": null,
            "grid_template_rows": null,
            "height": null,
            "justify_content": null,
            "justify_items": null,
            "left": null,
            "margin": null,
            "max_height": null,
            "max_width": null,
            "min_height": null,
            "min_width": null,
            "object_fit": null,
            "object_position": null,
            "order": null,
            "overflow": null,
            "overflow_x": null,
            "overflow_y": null,
            "padding": null,
            "right": null,
            "top": null,
            "visibility": null,
            "width": null
          }
        },
        "f00d0abe568149d782a3214b6a1463c8": {
          "model_module": "@jupyter-widgets/controls",
          "model_name": "DescriptionStyleModel",
          "model_module_version": "1.5.0",
          "state": {
            "_model_module": "@jupyter-widgets/controls",
            "_model_module_version": "1.5.0",
            "_model_name": "DescriptionStyleModel",
            "_view_count": null,
            "_view_module": "@jupyter-widgets/base",
            "_view_module_version": "1.2.0",
            "_view_name": "StyleView",
            "description_width": ""
          }
        },
        "24f805923d714302b9e314b5ced958dc": {
          "model_module": "@jupyter-widgets/controls",
          "model_name": "HBoxModel",
          "model_module_version": "1.5.0",
          "state": {
            "_dom_classes": [],
            "_model_module": "@jupyter-widgets/controls",
            "_model_module_version": "1.5.0",
            "_model_name": "HBoxModel",
            "_view_count": null,
            "_view_module": "@jupyter-widgets/controls",
            "_view_module_version": "1.5.0",
            "_view_name": "HBoxView",
            "box_style": "",
            "children": [
              "IPY_MODEL_c635455d89b14cbd986b9838dd999c13",
              "IPY_MODEL_dde9fd7718934521afe3426424952399",
              "IPY_MODEL_1938d8f9c6b343f5826b8bf355a13cca"
            ],
            "layout": "IPY_MODEL_bccd1d8dedfa4c1b9b47cd7f43f902fc"
          }
        },
        "c635455d89b14cbd986b9838dd999c13": {
          "model_module": "@jupyter-widgets/controls",
          "model_name": "HTMLModel",
          "model_module_version": "1.5.0",
          "state": {
            "_dom_classes": [],
            "_model_module": "@jupyter-widgets/controls",
            "_model_module_version": "1.5.0",
            "_model_name": "HTMLModel",
            "_view_count": null,
            "_view_module": "@jupyter-widgets/controls",
            "_view_module_version": "1.5.0",
            "_view_name": "HTMLView",
            "description": "",
            "description_tooltip": null,
            "layout": "IPY_MODEL_a511e7c0380342ee9a13b0026a2fa307",
            "placeholder": "​",
            "style": "IPY_MODEL_27624dbea2b7499e93423547e2e4241f",
            "value": "100%"
          }
        },
        "dde9fd7718934521afe3426424952399": {
          "model_module": "@jupyter-widgets/controls",
          "model_name": "FloatProgressModel",
          "model_module_version": "1.5.0",
          "state": {
            "_dom_classes": [],
            "_model_module": "@jupyter-widgets/controls",
            "_model_module_version": "1.5.0",
            "_model_name": "FloatProgressModel",
            "_view_count": null,
            "_view_module": "@jupyter-widgets/controls",
            "_view_module_version": "1.5.0",
            "_view_name": "ProgressView",
            "bar_style": "success",
            "description": "",
            "description_tooltip": null,
            "layout": "IPY_MODEL_bf16ef8fe4ed43d78d344189a051c1cd",
            "max": 4422102,
            "min": 0,
            "orientation": "horizontal",
            "style": "IPY_MODEL_b93d5f6445d44b41b14aa97e6b62a4b1",
            "value": 4422102
          }
        },
        "1938d8f9c6b343f5826b8bf355a13cca": {
          "model_module": "@jupyter-widgets/controls",
          "model_name": "HTMLModel",
          "model_module_version": "1.5.0",
          "state": {
            "_dom_classes": [],
            "_model_module": "@jupyter-widgets/controls",
            "_model_module_version": "1.5.0",
            "_model_name": "HTMLModel",
            "_view_count": null,
            "_view_module": "@jupyter-widgets/controls",
            "_view_module_version": "1.5.0",
            "_view_name": "HTMLView",
            "description": "",
            "description_tooltip": null,
            "layout": "IPY_MODEL_a62a6e4ab2414680902a412b4bb153f1",
            "placeholder": "​",
            "style": "IPY_MODEL_e874693fedc94f989c74ad9aa15386d3",
            "value": " 4422102/4422102 [00:01&lt;00:00, 6672360.02it/s]"
          }
        },
        "bccd1d8dedfa4c1b9b47cd7f43f902fc": {
          "model_module": "@jupyter-widgets/base",
          "model_name": "LayoutModel",
          "model_module_version": "1.2.0",
          "state": {
            "_model_module": "@jupyter-widgets/base",
            "_model_module_version": "1.2.0",
            "_model_name": "LayoutModel",
            "_view_count": null,
            "_view_module": "@jupyter-widgets/base",
            "_view_module_version": "1.2.0",
            "_view_name": "LayoutView",
            "align_content": null,
            "align_items": null,
            "align_self": null,
            "border": null,
            "bottom": null,
            "display": null,
            "flex": null,
            "flex_flow": null,
            "grid_area": null,
            "grid_auto_columns": null,
            "grid_auto_flow": null,
            "grid_auto_rows": null,
            "grid_column": null,
            "grid_gap": null,
            "grid_row": null,
            "grid_template_areas": null,
            "grid_template_columns": null,
            "grid_template_rows": null,
            "height": null,
            "justify_content": null,
            "justify_items": null,
            "left": null,
            "margin": null,
            "max_height": null,
            "max_width": null,
            "min_height": null,
            "min_width": null,
            "object_fit": null,
            "object_position": null,
            "order": null,
            "overflow": null,
            "overflow_x": null,
            "overflow_y": null,
            "padding": null,
            "right": null,
            "top": null,
            "visibility": null,
            "width": null
          }
        },
        "a511e7c0380342ee9a13b0026a2fa307": {
          "model_module": "@jupyter-widgets/base",
          "model_name": "LayoutModel",
          "model_module_version": "1.2.0",
          "state": {
            "_model_module": "@jupyter-widgets/base",
            "_model_module_version": "1.2.0",
            "_model_name": "LayoutModel",
            "_view_count": null,
            "_view_module": "@jupyter-widgets/base",
            "_view_module_version": "1.2.0",
            "_view_name": "LayoutView",
            "align_content": null,
            "align_items": null,
            "align_self": null,
            "border": null,
            "bottom": null,
            "display": null,
            "flex": null,
            "flex_flow": null,
            "grid_area": null,
            "grid_auto_columns": null,
            "grid_auto_flow": null,
            "grid_auto_rows": null,
            "grid_column": null,
            "grid_gap": null,
            "grid_row": null,
            "grid_template_areas": null,
            "grid_template_columns": null,
            "grid_template_rows": null,
            "height": null,
            "justify_content": null,
            "justify_items": null,
            "left": null,
            "margin": null,
            "max_height": null,
            "max_width": null,
            "min_height": null,
            "min_width": null,
            "object_fit": null,
            "object_position": null,
            "order": null,
            "overflow": null,
            "overflow_x": null,
            "overflow_y": null,
            "padding": null,
            "right": null,
            "top": null,
            "visibility": null,
            "width": null
          }
        },
        "27624dbea2b7499e93423547e2e4241f": {
          "model_module": "@jupyter-widgets/controls",
          "model_name": "DescriptionStyleModel",
          "model_module_version": "1.5.0",
          "state": {
            "_model_module": "@jupyter-widgets/controls",
            "_model_module_version": "1.5.0",
            "_model_name": "DescriptionStyleModel",
            "_view_count": null,
            "_view_module": "@jupyter-widgets/base",
            "_view_module_version": "1.2.0",
            "_view_name": "StyleView",
            "description_width": ""
          }
        },
        "bf16ef8fe4ed43d78d344189a051c1cd": {
          "model_module": "@jupyter-widgets/base",
          "model_name": "LayoutModel",
          "model_module_version": "1.2.0",
          "state": {
            "_model_module": "@jupyter-widgets/base",
            "_model_module_version": "1.2.0",
            "_model_name": "LayoutModel",
            "_view_count": null,
            "_view_module": "@jupyter-widgets/base",
            "_view_module_version": "1.2.0",
            "_view_name": "LayoutView",
            "align_content": null,
            "align_items": null,
            "align_self": null,
            "border": null,
            "bottom": null,
            "display": null,
            "flex": null,
            "flex_flow": null,
            "grid_area": null,
            "grid_auto_columns": null,
            "grid_auto_flow": null,
            "grid_auto_rows": null,
            "grid_column": null,
            "grid_gap": null,
            "grid_row": null,
            "grid_template_areas": null,
            "grid_template_columns": null,
            "grid_template_rows": null,
            "height": null,
            "justify_content": null,
            "justify_items": null,
            "left": null,
            "margin": null,
            "max_height": null,
            "max_width": null,
            "min_height": null,
            "min_width": null,
            "object_fit": null,
            "object_position": null,
            "order": null,
            "overflow": null,
            "overflow_x": null,
            "overflow_y": null,
            "padding": null,
            "right": null,
            "top": null,
            "visibility": null,
            "width": null
          }
        },
        "b93d5f6445d44b41b14aa97e6b62a4b1": {
          "model_module": "@jupyter-widgets/controls",
          "model_name": "ProgressStyleModel",
          "model_module_version": "1.5.0",
          "state": {
            "_model_module": "@jupyter-widgets/controls",
            "_model_module_version": "1.5.0",
            "_model_name": "ProgressStyleModel",
            "_view_count": null,
            "_view_module": "@jupyter-widgets/base",
            "_view_module_version": "1.2.0",
            "_view_name": "StyleView",
            "bar_color": null,
            "description_width": ""
          }
        },
        "a62a6e4ab2414680902a412b4bb153f1": {
          "model_module": "@jupyter-widgets/base",
          "model_name": "LayoutModel",
          "model_module_version": "1.2.0",
          "state": {
            "_model_module": "@jupyter-widgets/base",
            "_model_module_version": "1.2.0",
            "_model_name": "LayoutModel",
            "_view_count": null,
            "_view_module": "@jupyter-widgets/base",
            "_view_module_version": "1.2.0",
            "_view_name": "LayoutView",
            "align_content": null,
            "align_items": null,
            "align_self": null,
            "border": null,
            "bottom": null,
            "display": null,
            "flex": null,
            "flex_flow": null,
            "grid_area": null,
            "grid_auto_columns": null,
            "grid_auto_flow": null,
            "grid_auto_rows": null,
            "grid_column": null,
            "grid_gap": null,
            "grid_row": null,
            "grid_template_areas": null,
            "grid_template_columns": null,
            "grid_template_rows": null,
            "height": null,
            "justify_content": null,
            "justify_items": null,
            "left": null,
            "margin": null,
            "max_height": null,
            "max_width": null,
            "min_height": null,
            "min_width": null,
            "object_fit": null,
            "object_position": null,
            "order": null,
            "overflow": null,
            "overflow_x": null,
            "overflow_y": null,
            "padding": null,
            "right": null,
            "top": null,
            "visibility": null,
            "width": null
          }
        },
        "e874693fedc94f989c74ad9aa15386d3": {
          "model_module": "@jupyter-widgets/controls",
          "model_name": "DescriptionStyleModel",
          "model_module_version": "1.5.0",
          "state": {
            "_model_module": "@jupyter-widgets/controls",
            "_model_module_version": "1.5.0",
            "_model_name": "DescriptionStyleModel",
            "_view_count": null,
            "_view_module": "@jupyter-widgets/base",
            "_view_module_version": "1.2.0",
            "_view_name": "StyleView",
            "description_width": ""
          }
        },
        "63a96c45740545a68563db300f573c2d": {
          "model_module": "@jupyter-widgets/controls",
          "model_name": "HBoxModel",
          "model_module_version": "1.5.0",
          "state": {
            "_dom_classes": [],
            "_model_module": "@jupyter-widgets/controls",
            "_model_module_version": "1.5.0",
            "_model_name": "HBoxModel",
            "_view_count": null,
            "_view_module": "@jupyter-widgets/controls",
            "_view_module_version": "1.5.0",
            "_view_name": "HBoxView",
            "box_style": "",
            "children": [
              "IPY_MODEL_e6da4a9371eb45ebb88b644bae19cdc4",
              "IPY_MODEL_a6f4e7dddb3049aaa39e4e6bcd75fd7c",
              "IPY_MODEL_0a318bf3e33b4f03b16e3cabac49f048"
            ],
            "layout": "IPY_MODEL_7be491a1bec24f0d8b5058981d719b83"
          }
        },
        "e6da4a9371eb45ebb88b644bae19cdc4": {
          "model_module": "@jupyter-widgets/controls",
          "model_name": "HTMLModel",
          "model_module_version": "1.5.0",
          "state": {
            "_dom_classes": [],
            "_model_module": "@jupyter-widgets/controls",
            "_model_module_version": "1.5.0",
            "_model_name": "HTMLModel",
            "_view_count": null,
            "_view_module": "@jupyter-widgets/controls",
            "_view_module_version": "1.5.0",
            "_view_name": "HTMLView",
            "description": "",
            "description_tooltip": null,
            "layout": "IPY_MODEL_f9c5a19ac94341d2a67c13383d101edc",
            "placeholder": "​",
            "style": "IPY_MODEL_8f6b51e645bb4516bea7eca2c75001d1",
            "value": "100%"
          }
        },
        "a6f4e7dddb3049aaa39e4e6bcd75fd7c": {
          "model_module": "@jupyter-widgets/controls",
          "model_name": "FloatProgressModel",
          "model_module_version": "1.5.0",
          "state": {
            "_dom_classes": [],
            "_model_module": "@jupyter-widgets/controls",
            "_model_module_version": "1.5.0",
            "_model_name": "FloatProgressModel",
            "_view_count": null,
            "_view_module": "@jupyter-widgets/controls",
            "_view_module_version": "1.5.0",
            "_view_name": "ProgressView",
            "bar_style": "success",
            "description": "",
            "description_tooltip": null,
            "layout": "IPY_MODEL_555989d153ae4883b9ba0e875eb24b9e",
            "max": 5148,
            "min": 0,
            "orientation": "horizontal",
            "style": "IPY_MODEL_428b3125b9ac4788a5a1563b7ebb040a",
            "value": 5148
          }
        },
        "0a318bf3e33b4f03b16e3cabac49f048": {
          "model_module": "@jupyter-widgets/controls",
          "model_name": "HTMLModel",
          "model_module_version": "1.5.0",
          "state": {
            "_dom_classes": [],
            "_model_module": "@jupyter-widgets/controls",
            "_model_module_version": "1.5.0",
            "_model_name": "HTMLModel",
            "_view_count": null,
            "_view_module": "@jupyter-widgets/controls",
            "_view_module_version": "1.5.0",
            "_view_name": "HTMLView",
            "description": "",
            "description_tooltip": null,
            "layout": "IPY_MODEL_4e70ad58a4ef45ba8df392c623ce20d3",
            "placeholder": "​",
            "style": "IPY_MODEL_b2b056059db1465eaf67580e4a65ce0a",
            "value": " 5148/5148 [00:00&lt;00:00, 232745.62it/s]"
          }
        },
        "7be491a1bec24f0d8b5058981d719b83": {
          "model_module": "@jupyter-widgets/base",
          "model_name": "LayoutModel",
          "model_module_version": "1.2.0",
          "state": {
            "_model_module": "@jupyter-widgets/base",
            "_model_module_version": "1.2.0",
            "_model_name": "LayoutModel",
            "_view_count": null,
            "_view_module": "@jupyter-widgets/base",
            "_view_module_version": "1.2.0",
            "_view_name": "LayoutView",
            "align_content": null,
            "align_items": null,
            "align_self": null,
            "border": null,
            "bottom": null,
            "display": null,
            "flex": null,
            "flex_flow": null,
            "grid_area": null,
            "grid_auto_columns": null,
            "grid_auto_flow": null,
            "grid_auto_rows": null,
            "grid_column": null,
            "grid_gap": null,
            "grid_row": null,
            "grid_template_areas": null,
            "grid_template_columns": null,
            "grid_template_rows": null,
            "height": null,
            "justify_content": null,
            "justify_items": null,
            "left": null,
            "margin": null,
            "max_height": null,
            "max_width": null,
            "min_height": null,
            "min_width": null,
            "object_fit": null,
            "object_position": null,
            "order": null,
            "overflow": null,
            "overflow_x": null,
            "overflow_y": null,
            "padding": null,
            "right": null,
            "top": null,
            "visibility": null,
            "width": null
          }
        },
        "f9c5a19ac94341d2a67c13383d101edc": {
          "model_module": "@jupyter-widgets/base",
          "model_name": "LayoutModel",
          "model_module_version": "1.2.0",
          "state": {
            "_model_module": "@jupyter-widgets/base",
            "_model_module_version": "1.2.0",
            "_model_name": "LayoutModel",
            "_view_count": null,
            "_view_module": "@jupyter-widgets/base",
            "_view_module_version": "1.2.0",
            "_view_name": "LayoutView",
            "align_content": null,
            "align_items": null,
            "align_self": null,
            "border": null,
            "bottom": null,
            "display": null,
            "flex": null,
            "flex_flow": null,
            "grid_area": null,
            "grid_auto_columns": null,
            "grid_auto_flow": null,
            "grid_auto_rows": null,
            "grid_column": null,
            "grid_gap": null,
            "grid_row": null,
            "grid_template_areas": null,
            "grid_template_columns": null,
            "grid_template_rows": null,
            "height": null,
            "justify_content": null,
            "justify_items": null,
            "left": null,
            "margin": null,
            "max_height": null,
            "max_width": null,
            "min_height": null,
            "min_width": null,
            "object_fit": null,
            "object_position": null,
            "order": null,
            "overflow": null,
            "overflow_x": null,
            "overflow_y": null,
            "padding": null,
            "right": null,
            "top": null,
            "visibility": null,
            "width": null
          }
        },
        "8f6b51e645bb4516bea7eca2c75001d1": {
          "model_module": "@jupyter-widgets/controls",
          "model_name": "DescriptionStyleModel",
          "model_module_version": "1.5.0",
          "state": {
            "_model_module": "@jupyter-widgets/controls",
            "_model_module_version": "1.5.0",
            "_model_name": "DescriptionStyleModel",
            "_view_count": null,
            "_view_module": "@jupyter-widgets/base",
            "_view_module_version": "1.2.0",
            "_view_name": "StyleView",
            "description_width": ""
          }
        },
        "555989d153ae4883b9ba0e875eb24b9e": {
          "model_module": "@jupyter-widgets/base",
          "model_name": "LayoutModel",
          "model_module_version": "1.2.0",
          "state": {
            "_model_module": "@jupyter-widgets/base",
            "_model_module_version": "1.2.0",
            "_model_name": "LayoutModel",
            "_view_count": null,
            "_view_module": "@jupyter-widgets/base",
            "_view_module_version": "1.2.0",
            "_view_name": "LayoutView",
            "align_content": null,
            "align_items": null,
            "align_self": null,
            "border": null,
            "bottom": null,
            "display": null,
            "flex": null,
            "flex_flow": null,
            "grid_area": null,
            "grid_auto_columns": null,
            "grid_auto_flow": null,
            "grid_auto_rows": null,
            "grid_column": null,
            "grid_gap": null,
            "grid_row": null,
            "grid_template_areas": null,
            "grid_template_columns": null,
            "grid_template_rows": null,
            "height": null,
            "justify_content": null,
            "justify_items": null,
            "left": null,
            "margin": null,
            "max_height": null,
            "max_width": null,
            "min_height": null,
            "min_width": null,
            "object_fit": null,
            "object_position": null,
            "order": null,
            "overflow": null,
            "overflow_x": null,
            "overflow_y": null,
            "padding": null,
            "right": null,
            "top": null,
            "visibility": null,
            "width": null
          }
        },
        "428b3125b9ac4788a5a1563b7ebb040a": {
          "model_module": "@jupyter-widgets/controls",
          "model_name": "ProgressStyleModel",
          "model_module_version": "1.5.0",
          "state": {
            "_model_module": "@jupyter-widgets/controls",
            "_model_module_version": "1.5.0",
            "_model_name": "ProgressStyleModel",
            "_view_count": null,
            "_view_module": "@jupyter-widgets/base",
            "_view_module_version": "1.2.0",
            "_view_name": "StyleView",
            "bar_color": null,
            "description_width": ""
          }
        },
        "4e70ad58a4ef45ba8df392c623ce20d3": {
          "model_module": "@jupyter-widgets/base",
          "model_name": "LayoutModel",
          "model_module_version": "1.2.0",
          "state": {
            "_model_module": "@jupyter-widgets/base",
            "_model_module_version": "1.2.0",
            "_model_name": "LayoutModel",
            "_view_count": null,
            "_view_module": "@jupyter-widgets/base",
            "_view_module_version": "1.2.0",
            "_view_name": "LayoutView",
            "align_content": null,
            "align_items": null,
            "align_self": null,
            "border": null,
            "bottom": null,
            "display": null,
            "flex": null,
            "flex_flow": null,
            "grid_area": null,
            "grid_auto_columns": null,
            "grid_auto_flow": null,
            "grid_auto_rows": null,
            "grid_column": null,
            "grid_gap": null,
            "grid_row": null,
            "grid_template_areas": null,
            "grid_template_columns": null,
            "grid_template_rows": null,
            "height": null,
            "justify_content": null,
            "justify_items": null,
            "left": null,
            "margin": null,
            "max_height": null,
            "max_width": null,
            "min_height": null,
            "min_width": null,
            "object_fit": null,
            "object_position": null,
            "order": null,
            "overflow": null,
            "overflow_x": null,
            "overflow_y": null,
            "padding": null,
            "right": null,
            "top": null,
            "visibility": null,
            "width": null
          }
        },
        "b2b056059db1465eaf67580e4a65ce0a": {
          "model_module": "@jupyter-widgets/controls",
          "model_name": "DescriptionStyleModel",
          "model_module_version": "1.5.0",
          "state": {
            "_model_module": "@jupyter-widgets/controls",
            "_model_module_version": "1.5.0",
            "_model_name": "DescriptionStyleModel",
            "_view_count": null,
            "_view_module": "@jupyter-widgets/base",
            "_view_module_version": "1.2.0",
            "_view_name": "StyleView",
            "description_width": ""
          }
        }
      }
    }
  },
  "cells": [
    {
      "cell_type": "markdown",
      "metadata": {
        "id": "view-in-github",
        "colab_type": "text"
      },
      "source": [
        "<a href=\"https://colab.research.google.com/github/Hz2314/Learning_Pytorch/blob/PyTorch_Tutorial_1/Tutorial2.ipynb\" target=\"_parent\"><img src=\"https://colab.research.google.com/assets/colab-badge.svg\" alt=\"Open In Colab\"/></a>"
      ]
    },
    {
      "cell_type": "markdown",
      "source": [
        "#⚡Tutorial 2: ACTIVATION FUNCTIONS⚡\n",
        "\n",
        "이 튜토리얼에서는 (인기 있는) 활성화 기능을 자세히 살펴보고 신경망의 최적화 속성에 미치는 영향을 조사할 것입니다. 활성화 기능은 신경망에 비선형성을 추가하기 때문에 딥 러닝 모델의 중요한 부분입니다. 문헌에는 매우 다양한 활성화 기능이 있으며, 일부는 다른 기능보다 더 유익합니다. 이 튜토리얼의 목적은 올바른 활성화 기능을 선택하는 것의 중요성(및 선택 방법)과 그렇지 않을 경우 발생할 수 있는 문제를 보여주는 것입니다. 이 노트는 암스테르담 대학의 딥 러닝 강의 시리즈의 일부입니다. 튜토리얼의 전체 목록은 https://uvadlc-notebooks.rtfd.io 에서 확인할 수 있습니다."
      ],
      "metadata": {
        "id": "5rVdkGm-W5fC"
      }
    },
    {
      "cell_type": "markdown",
      "source": [
        "ctrl m d  셀 삭제\n"
      ],
      "metadata": {
        "id": "UnDv92Fngwod"
      }
    },
    {
      "cell_type": "markdown",
      "source": [
        "#Setup\n",
        "\n",
        "이 노트북은 파이토치 라이트닝 외에도 몇 가지 패키지가 필요합니다.\n",
        "\n",
        "\n",
        "\n"
      ],
      "metadata": {
        "id": "9EmYHZ29aMfF"
      }
    },
    {
      "cell_type": "code",
      "source": [
        "! pip install --quiet \"matplotlib\" \"torchvision\" \"torchmetrics>=0.7, <0.12\" \"setuptools==67.4.0\" \"seaborn\" \"lightning>=2.0.0rc0\" \"pytorch-lightning>=1.4, <2.0.0\" \"torch>=1.8.1, <1.14.0\" \"ipython[notebook]>=8.0.0, <8.12.0\""
      ],
      "metadata": {
        "id": "c07fkVCch1Sq",
        "colab": {
          "base_uri": "https://localhost:8080/"
        },
        "outputId": "5cbf0e76-8bf7-4e07-cdc2-2e6927211a4f"
      },
      "execution_count": 3,
      "outputs": [
        {
          "output_type": "stream",
          "name": "stdout",
          "text": [
            "\u001b[2K     \u001b[90m━━━━━━━━━━━━━━━━━━━━━━━━━━━━━━━━━━━━━━\u001b[0m \u001b[32m519.2/519.2 kB\u001b[0m \u001b[31m14.4 MB/s\u001b[0m eta \u001b[36m0:00:00\u001b[0m\n",
            "\u001b[2K     \u001b[90m━━━━━━━━━━━━━━━━━━━━━━━━━━━━━━━━━━━━━━━━\u001b[0m \u001b[32m1.1/1.1 MB\u001b[0m \u001b[31m57.5 MB/s\u001b[0m eta \u001b[36m0:00:00\u001b[0m\n",
            "\u001b[2K     \u001b[90m━━━━━━━━━━━━━━━━━━━━━━━━━━━━━━━━━━━━━━━━\u001b[0m \u001b[32m1.8/1.8 MB\u001b[0m \u001b[31m85.8 MB/s\u001b[0m eta \u001b[36m0:00:00\u001b[0m\n",
            "\u001b[2K     \u001b[90m━━━━━━━━━━━━━━━━━━━━━━━━━━━━━━━━━━━━━━\u001b[0m \u001b[32m829.5/829.5 kB\u001b[0m \u001b[31m67.4 MB/s\u001b[0m eta \u001b[36m0:00:00\u001b[0m\n",
            "\u001b[2K     \u001b[90m━━━━━━━━━━━━━━━━━━━━━━━━━━━━━━━━━━━━━━━\u001b[0m \u001b[32m887.5/887.5 MB\u001b[0m \u001b[31m1.8 MB/s\u001b[0m eta \u001b[36m0:00:00\u001b[0m\n",
            "\u001b[2K     \u001b[90m━━━━━━━━━━━━━━━━━━━━━━━━━━━━━━━━━━━━━━\u001b[0m \u001b[32m793.3/793.3 kB\u001b[0m \u001b[31m67.0 MB/s\u001b[0m eta \u001b[36m0:00:00\u001b[0m\n",
            "\u001b[2K     \u001b[90m━━━━━━━━━━━━━━━━━━━━━━━━━━━━━━━━━━━━━━━━\u001b[0m \u001b[32m6.0/6.0 MB\u001b[0m \u001b[31m75.1 MB/s\u001b[0m eta \u001b[36m0:00:00\u001b[0m\n",
            "\u001b[2K     \u001b[90m━━━━━━━━━━━━━━━━━━━━━━━━━━━━━━━━━━━━━━━━\u001b[0m \u001b[32m6.0/6.0 MB\u001b[0m \u001b[31m94.6 MB/s\u001b[0m eta \u001b[36m0:00:00\u001b[0m\n",
            "\u001b[2K     \u001b[90m━━━━━━━━━━━━━━━━━━━━━━━━━━━━━━━━━━━━━━━━\u001b[0m \u001b[32m24.2/24.2 MB\u001b[0m \u001b[31m59.9 MB/s\u001b[0m eta \u001b[36m0:00:00\u001b[0m\n",
            "\u001b[2K     \u001b[90m━━━━━━━━━━━━━━━━━━━━━━━━━━━━━━━━━━━━━━\u001b[0m \u001b[32m849.3/849.3 kB\u001b[0m \u001b[31m68.9 MB/s\u001b[0m eta \u001b[36m0:00:00\u001b[0m\n",
            "\u001b[2K     \u001b[90m━━━━━━━━━━━━━━━━━━━━━━━━━━━━━━━━━━━━━━━\u001b[0m \u001b[32m557.1/557.1 MB\u001b[0m \u001b[31m3.0 MB/s\u001b[0m eta \u001b[36m0:00:00\u001b[0m\n",
            "\u001b[2K     \u001b[90m━━━━━━━━━━━━━━━━━━━━━━━━━━━━━━━━━━━━━━━\u001b[0m \u001b[32m317.1/317.1 MB\u001b[0m \u001b[31m2.5 MB/s\u001b[0m eta \u001b[36m0:00:00\u001b[0m\n",
            "\u001b[2K     \u001b[90m━━━━━━━━━━━━━━━━━━━━━━━━━━━━━━━━━━━━━━━━\u001b[0m \u001b[32m21.0/21.0 MB\u001b[0m \u001b[31m77.0 MB/s\u001b[0m eta \u001b[36m0:00:00\u001b[0m\n",
            "\u001b[2K     \u001b[90m━━━━━━━━━━━━━━━━━━━━━━━━━━━━━━━━━━━━━━━━\u001b[0m \u001b[32m66.4/66.4 kB\u001b[0m \u001b[31m7.6 MB/s\u001b[0m eta \u001b[36m0:00:00\u001b[0m\n",
            "\u001b[2K     \u001b[90m━━━━━━━━━━━━━━━━━━━━━━━━━━━━━━━━━━━━━━━━\u001b[0m \u001b[32m69.7/69.7 kB\u001b[0m \u001b[31m8.1 MB/s\u001b[0m eta \u001b[36m0:00:00\u001b[0m\n",
            "\u001b[2K     \u001b[90m━━━━━━━━━━━━━━━━━━━━━━━━━━━━━━━━━━━━━━━━\u001b[0m \u001b[32m58.2/58.2 kB\u001b[0m \u001b[31m7.6 MB/s\u001b[0m eta \u001b[36m0:00:00\u001b[0m\n",
            "\u001b[2K     \u001b[90m━━━━━━━━━━━━━━━━━━━━━━━━━━━━━━━━━━━━━━\u001b[0m \u001b[32m596.7/596.7 kB\u001b[0m \u001b[31m55.0 MB/s\u001b[0m eta \u001b[36m0:00:00\u001b[0m\n",
            "\u001b[2K     \u001b[90m━━━━━━━━━━━━━━━━━━━━━━━━━━━━━━━━━━━━━━━━\u001b[0m \u001b[32m45.7/45.7 kB\u001b[0m \u001b[31m5.5 MB/s\u001b[0m eta \u001b[36m0:00:00\u001b[0m\n",
            "\u001b[2K     \u001b[90m━━━━━━━━━━━━━━━━━━━━━━━━━━━━━━━━━━━━━━━━\u001b[0m \u001b[32m68.9/68.9 kB\u001b[0m \u001b[31m5.9 MB/s\u001b[0m eta \u001b[36m0:00:00\u001b[0m\n",
            "\u001b[2K     \u001b[90m━━━━━━━━━━━━━━━━━━━━━━━━━━━━━━━━━━━━━━━━\u001b[0m \u001b[32m58.3/58.3 kB\u001b[0m \u001b[31m5.4 MB/s\u001b[0m eta \u001b[36m0:00:00\u001b[0m\n",
            "\u001b[2K     \u001b[90m━━━━━━━━━━━━━━━━━━━━━━━━━━━━━━━━━━━━━━\u001b[0m \u001b[32m129.9/129.9 kB\u001b[0m \u001b[31m14.9 MB/s\u001b[0m eta \u001b[36m0:00:00\u001b[0m\n",
            "\u001b[2K     \u001b[90m━━━━━━━━━━━━━━━━━━━━━━━━━━━━━━━━━━━━━━━━\u001b[0m \u001b[32m1.6/1.6 MB\u001b[0m \u001b[31m38.4 MB/s\u001b[0m eta \u001b[36m0:00:00\u001b[0m\n",
            "\u001b[2K     \u001b[90m━━━━━━━━━━━━━━━━━━━━━━━━━━━━━━━━━━━━━━━━\u001b[0m \u001b[32m67.0/67.0 kB\u001b[0m \u001b[31m7.2 MB/s\u001b[0m eta \u001b[36m0:00:00\u001b[0m\n",
            "\u001b[2K     \u001b[90m━━━━━━━━━━━━━━━━━━━━━━━━━━━━━━━━━━━━━━━━\u001b[0m \u001b[32m58.4/58.4 kB\u001b[0m \u001b[31m5.9 MB/s\u001b[0m eta \u001b[36m0:00:00\u001b[0m\n",
            "\u001b[2K     \u001b[90m━━━━━━━━━━━━━━━━━━━━━━━━━━━━━━━━━━━━━━━━\u001b[0m \u001b[32m58.3/58.3 kB\u001b[0m \u001b[31m6.1 MB/s\u001b[0m eta \u001b[36m0:00:00\u001b[0m\n",
            "\u001b[?25h\u001b[31mERROR: pip's dependency resolver does not currently take into account all the packages that are installed. This behaviour is the source of the following dependency conflicts.\n",
            "google-colab 1.0.0 requires ipython==7.34.0, but you have ipython 8.11.0 which is incompatible.\n",
            "torchaudio 2.0.2+cu118 requires torch==2.0.1, but you have torch 1.13.1 which is incompatible.\n",
            "torchdata 0.6.1 requires torch==2.0.1, but you have torch 1.13.1 which is incompatible.\n",
            "torchtext 0.15.2 requires torch==2.0.1, but you have torch 1.13.1 which is incompatible.\u001b[0m\u001b[31m\n",
            "\u001b[0m"
          ]
        }
      ]
    },
    {
      "cell_type": "markdown",
      "source": [
        "시작하기 전에 표준 라이브러리를 가져오고 기본 기능을 설정합니다:"
      ],
      "metadata": {
        "id": "m3JrORt3kTer"
      }
    },
    {
      "cell_type": "code",
      "source": [
        "import json\n",
        "import math\n",
        "import os\n",
        "import urllib.request\n",
        "import warnings\n",
        "from urllib.error import HTTPError\n",
        "\n",
        "import matplotlib.pyplot as plt\n",
        "\n",
        "%matplotlib inline\n",
        "import matplotlib_inline.backend_inline\n",
        "import numpy as np\n",
        "import seaborn as sns\n",
        "import torch\n",
        "import torch.nn as nn\n",
        "import torch.nn.functional as F\n",
        "import torch.optim as optim\n",
        "import torch.utils.data as data\n",
        "import torchvision\n",
        "from torchvision import transforms\n",
        "from torchvision.datasets import FashionMNIST\n",
        "from tqdm.notebook import tqdm\n",
        "\n",
        "matplotlib_inline.backend_inline.set_matplotlib_formats(\"svg\",\"pdf\") #내보내기 위함\n",
        "sns.set()"
      ],
      "metadata": {
        "id": "WG24BQkskuVL"
      },
      "execution_count": 4,
      "outputs": []
    },
    {
      "cell_type": "markdown",
      "source": [
        "우리는 이 튜토리얼에서 numpy와 torch와 같은 모든 라이브러리에 대해 시드를 설정하는 함수를 정의할 것입니다. 이를 통해 우리는 학습을 재현할 수 있습니다. 그러나 CPU와 달리 다른 GPU 아키텍처에서 동일한 시드는 다른 결과를 줄 수 있습니다. 여기서 모든 모델은 NVIDIA GTX1080Ti에서 학습되었습니다.\n",
        "\n",
        "또한 다음 셀에서는 두 개의 경로를 정의합니다: DATASET_PATH 및 CHECKPOINT_PATH입니다. 데이터 세트 경로는 노트북에서 사용하는 데이터 세트를 다운로드 할 디렉토리입니다. PyTorch의 모든 데이터 세트를 하나의 결합된 디렉토리에 저장하는 것이 좋습니다. 중복 다운로드를 방지하기 위해입니다. 체크포인트 경로는 학습된 모델 가중치 및 추가 파일을 저장할 디렉토리입니다. 필요한 파일은 자동으로 다운로드됩니다. Google Colab에 있는 경우, 현재 디렉토리에서 시작하도록 디렉토리를 변경하는 것이 좋습니다 (즉, 데이터 세트 및 체크포인트 경로에서 …/를 제거하십시오)."
      ],
      "metadata": {
        "id": "v1BtB_1Xo-Zw"
      }
    },
    {
      "cell_type": "code",
      "source": [
        "# 데이터 세트를 다운로드해야 하는 폴더의 경로(예: MNIST)\n",
        "DATASET_PATH = os.environ.get(\"PATH_DATASETS\",\"data/\")\n",
        "# 사전 교육된 모델이 저장된 폴더의 경로\n",
        "CHECKPOINT_PATH = os.environ.get(\"PATH_CHECKPOINT\",\"saved_models/Activation_Functions/\")\n",
        "\n",
        "# 시드 설정 함수 정의\n",
        "def set_seed(seed):\n",
        "  np.random.seed(seed)\n",
        "  torch.manual_seed(seed)\n",
        "  if torch.cuda.is_available(): # GPU 작업에는 별도의 시드가 있습니다\n",
        "     torch.cuda.manual_seed(seed)\n",
        "     torch.cuda.manual_seed_all(seed)\n",
        "\n",
        "set_seed(42)\n",
        "\n",
        "# 또한 GPU의 일부 작업은 효율성을 위해 확률적으로 구현됩니다\n",
        "# 재현성을 위해 GPU(사용되는 경우)에서 모든 작업이 결정론적임을 보장하고자 합니다\n",
        "torch.backends.cudnn.deterministic = True\n",
        "torch.backends.cudnn.benchmark = False\n",
        "\n",
        "# 이 노트북 전체에서 사용할 장치를 가져오는 중\n",
        "device = torch.device(\"cpu\") if not torch.cuda.is_available() else torch.device(\"cuda:0\")\n",
        "print(\"Using device\", device) # 런타임\n",
        "\n"
      ],
      "metadata": {
        "colab": {
          "base_uri": "https://localhost:8080/"
        },
        "id": "0_4wKUgQpSoR",
        "outputId": "a1b8b415-9ec1-4bef-c48c-32d7fca0e2cb"
      },
      "execution_count": 5,
      "outputs": [
        {
          "output_type": "stream",
          "name": "stdout",
          "text": [
            "Using device cuda:0\n"
          ]
        }
      ]
    },
    {
      "cell_type": "markdown",
      "source": [
        "다음 셀은 이 노트북에서 사용할 모든 사전 교육된 모델을 다운로드합니다. 파일은 노트북 저장소의 크기를 줄이기 위해 별도의 저장소에 저장되며, 특히 ReadTheDocs에서 문서를 작성하기 위해 저장됩니다. 아래 다운로드가 실패할 경우 Google Drive 폴더에서 모델을 다운로드할 수 있습니다. 오류가 발생하면 모든 학생이 해결할 수 있도록 (필립) 알려주시기 바랍니다."
      ],
      "metadata": {
        "id": "zFKpu4U8tfYd"
      }
    },
    {
      "cell_type": "code",
      "source": [
        "# 이 튜토리얼에 대해 저장된 모델이 저장되는 Github URL\n",
        "base_url = \"https://raw.githubusercontent.com/phlippe/saved_models/main/tutorial3/\"\n",
        "# 다운로드할 파일\n",
        "pretrained_files = [\n",
        "    \"FashionMNIST_elu.config\",\n",
        "    \"FashionMNIST_elu.tar\",\n",
        "    \"FashionMNIST_leakyrelu.config\",\n",
        "    \"FashionMNIST_leakyrelu.tar\",\n",
        "    \"FashionMNIST_relu.config\",\n",
        "    \"FashionMNIST_relu.tar\",\n",
        "    \"FashionMNiST_sigmoid.config\",\n",
        "    \"FashionMNIST_sigmoid.tar\",\n",
        "    \"FashionMNIST_swish.config\",\n",
        "    \"FashionMNIST_swish.tar\",\n",
        "    \"FashionMNIST_tanh.config\",\n",
        "    \"FashionMNIST_tanh.tar\",\n",
        "]\n",
        "# 체크포인트 경로가 아직 없는 경우 생성\n",
        "os.makedirs(CHECKPOINT_PATH, exist_ok=True)\n",
        "\n",
        "# 각 파일에 대해 파일이 이미 있는지 확인합니다. 그렇지 않은 경우 다운로드\n",
        "for file_name in pretrained_files:\n",
        "  file_path = os.path.join(CHECKPOINT_PATH, file_name)\n",
        "  if not os.path.isfile(file_path):\n",
        "    file_url = base_url + file_name\n",
        "    print(f\"Downloading {file_url}...\")\n",
        "    try:\n",
        "      urllib.request.urlretrieve(file_url, file_path)\n",
        "    except HTTPError as e:\n",
        "      print(\n",
        "          \"Something went wrong. Please try to download the file from the GDrive folder, or contact the author with the full output including the following error:\\n\",e,\n",
        "      )\n"
      ],
      "metadata": {
        "colab": {
          "base_uri": "https://localhost:8080/"
        },
        "id": "8FucMZ-4uiue",
        "outputId": "11c5b4dd-b43c-472e-a2fc-4b6594503e0a"
      },
      "execution_count": 6,
      "outputs": [
        {
          "output_type": "stream",
          "name": "stdout",
          "text": [
            "Downloading https://raw.githubusercontent.com/phlippe/saved_models/main/tutorial3/FashionMNIST_elu.config...\n",
            "Downloading https://raw.githubusercontent.com/phlippe/saved_models/main/tutorial3/FashionMNIST_elu.tar...\n",
            "Downloading https://raw.githubusercontent.com/phlippe/saved_models/main/tutorial3/FashionMNIST_leakyrelu.config...\n",
            "Downloading https://raw.githubusercontent.com/phlippe/saved_models/main/tutorial3/FashionMNIST_leakyrelu.tar...\n",
            "Downloading https://raw.githubusercontent.com/phlippe/saved_models/main/tutorial3/FashionMNIST_relu.config...\n",
            "Downloading https://raw.githubusercontent.com/phlippe/saved_models/main/tutorial3/FashionMNIST_relu.tar...\n",
            "Downloading https://raw.githubusercontent.com/phlippe/saved_models/main/tutorial3/FashionMNiST_sigmoid.config...\n",
            "Something went wrong. Please try to download the file from the GDrive folder, or contact the author with the full output including the following error:\n",
            " HTTP Error 404: Not Found\n",
            "Downloading https://raw.githubusercontent.com/phlippe/saved_models/main/tutorial3/FashionMNIST_sigmoid.tar...\n",
            "Downloading https://raw.githubusercontent.com/phlippe/saved_models/main/tutorial3/FashionMNIST_swish.config...\n",
            "Downloading https://raw.githubusercontent.com/phlippe/saved_models/main/tutorial3/FashionMNIST_swish.tar...\n",
            "Downloading https://raw.githubusercontent.com/phlippe/saved_models/main/tutorial3/FashionMNIST_tanh.config...\n",
            "Downloading https://raw.githubusercontent.com/phlippe/saved_models/main/tutorial3/FashionMNIST_tanh.tar...\n"
          ]
        }
      ]
    },
    {
      "cell_type": "markdown",
      "source": [
        "#공통 활성화 기능\n",
        "첫 번째 단계로 몇 가지 일반적인 활성화 기능을 직접 구현합니다. 물론 대부분은 torch.nn 패키지에서도 찾을 수 있습니다(개요는 설명서 참조). 하지만, 우리는 더 나은 이해와 통찰력을 위해 여기에 우리만의 기능을 쓸 것입니다.\n",
        "\n",
        "다양한 활성화 기능을 보다 쉽게 비교할 수 있도록 향후 모든 모듈이 상속될 기본 클래스를 정의하는 것으로 시작합니다:"
      ],
      "metadata": {
        "id": "zNOv5IGFjSVv"
      }
    },
    {
      "cell_type": "code",
      "source": [
        "class ActivationFunction(nn.Module):\n",
        "  def __init__(self):\n",
        "    super().__init__()\n",
        "    self.name = self.__class__.__name__\n",
        "    self.config = {\"name\":self.name}"
      ],
      "metadata": {
        "id": "xAYXC36sjVYV"
      },
      "execution_count": 7,
      "outputs": []
    },
    {
      "cell_type": "markdown",
      "source": [
        "활성화 함수는 모두 nn.Module이어야 하므로 네트워크에 적절하게 통합할 수 있습니다. 일부 활성화 함수에 대한 조정 가능한 매개변수를 저장하기 위해 구성 딕셔너리를 사용합니다.\n",
        "\n",
        "다음으로, 여러 작업에 여전히 널리 사용되는 “가장 오래된” 활성화 함수 중 두 개를 구현합니다 : 시그모이드 및 tanh. 시그모이드 및 tanh 활성화는 PyTorch 함수 (torch.sigmoid, torch.tanh) 또는 모듈 (nn.Sigmoid, nn.Tanh)로도 찾을 수 있습니다. 여기서 우리는 그것들을 직접 구현합니다."
      ],
      "metadata": {
        "id": "DwJ5xChPsj3e"
      }
    },
    {
      "cell_type": "code",
      "source": [
        "class Sigmoid(ActivationFunction):\n",
        "  def forward(self, x):\n",
        "    return 1/(1 + torch.exp(-x))\n",
        "\n",
        "class Tanh(ActivationFunction):\n",
        "  def forward(self, x):\n",
        "    x_exp, neg_x_exp = torch.exp(x), torch.exp(-x)\n",
        "    return (x_exp - neg_x_exp) / (x_exp + neg_x_exp)"
      ],
      "metadata": {
        "id": "6WUKIkFRsrS7"
      },
      "execution_count": 8,
      "outputs": []
    },
    {
      "cell_type": "markdown",
      "source": [
        "ReLU는 단순한 조각선형 함수이지만 sigmoid와 tanh와 비교하여 큰 범위의 값에 대해 강하고 안정적인 기울기를 가지는 장점이 있습니다. 이 아이디어를 기반으로 ReLU의 여러 변형이 제안되었으며, 이 중 LeakyReLU, ELU 및 Swish를 구현할 것입니다. LeakyReLU는 입력의 이러한 부분에서도 기울기가 흐를 수 있도록 음수 부분의 제로 설정을 더 작은 기울기로 대체합니다. 비슷하게, ELU는 음수 부분을 지수적 감쇠로 대체합니다. 세 번째로 최근에 제안된 활성화 함수는 Swish입니다. 이것은 실제로 \"최적\" 활성화 함수를 찾기 위한 대규모 실험의 결과입니다. 다른 활성화 함수와 비교하여 Swish는 매끄럽고 단조적이지 않습니다(즉, 기울기의 부호가 바뀝니다). 이것은 표준 ReLU 활성화와 마찬가지로 깊은 네트워크에서 죽은 뉴런을 방지하는 것으로 나타났습니다. 관심이 있다면, Swish의 이점에 대한 더 자세한 논의는 이 논문에서 찾을 수 있습니다 .\n",
        "\n",
        "아래 네 가지 활성화 함수를 구현해보세요:\n",
        "- ReLU\n",
        "- LeakyReLU\n",
        "- ELU\n",
        "- Swish\n",
        "\n",
        ": https://arxiv.org/abs/1710.05941"
      ],
      "metadata": {
        "id": "9PMgwIwJtzEw"
      }
    },
    {
      "cell_type": "code",
      "source": [
        "# 코드 실행이 안 되면 오타 확인하기\n",
        "\n",
        "class ReLU(ActivationFunction):\n",
        "  def forward(self, x):\n",
        "    return x*(x>0).float()\n",
        "\n",
        "class LeakyReLU(ActivationFunction):\n",
        "  def __init__(self, alpha=0.1):\n",
        "    super().__init__()\n",
        "    self.config[\"alpha\"]= alpha\n",
        "\n",
        "  def forward(self, x):\n",
        "    return torch.where(x>0, x, self.config[\"alpha\"]*x)\n",
        "\n",
        "\n",
        "class ELU(ActivationFunction):\n",
        "  def forward(self,x):\n",
        "    return torch.where(x>0, x, torch.exp(x) - 1)\n",
        "\n",
        "\n",
        "class Swish(ActivationFunction):\n",
        "  def forward(self, x):\n",
        "    return x * torch.sigmoid(x)"
      ],
      "metadata": {
        "id": "624efVms2dmg"
      },
      "execution_count": 9,
      "outputs": []
    },
    {
      "cell_type": "markdown",
      "source": [
        "나중에 사용하기 위해 모든 활성화 기능을 이름과 클래스 객체를 매핑한 딕셔너리로 요약합니다. 직접 새로운 활성화 기능을 구현하면 이곳에 추가하여 나중에 비교할 때 포함시킵니다."
      ],
      "metadata": {
        "id": "El2j1yTnCvKx"
      }
    },
    {
      "cell_type": "code",
      "source": [
        "act_fn_by_name = {\"sigmoid\": Sigmoid, \"tanh\":Tanh, \"relu\": ReLU, \"leakyrelu\":LeakyReLU, \"elu\":ELU, \"swish\": Swish}"
      ],
      "metadata": {
        "id": "XxTiWCE2Cw6I"
      },
      "execution_count": 10,
      "outputs": []
    },
    {
      "cell_type": "markdown",
      "source": [
        "#Visualizing activation functions (활성화 기능 시각화)\n",
        "\n",
        "각 활성화 함수가 실제로 무엇을 하는지 이해하기 위해 다음에서 시각화합니다. 실제 활성화 값 옆에 함수의 기울기는 신경망을 최적화하는 데 중요한 측면입니다. PyTorch는 backward (역전파) 함수를 호출하여 기울기를 계산할 수 있습니다."
      ],
      "metadata": {
        "id": "nfd_MJtAH-ze"
      }
    },
    {
      "cell_type": "code",
      "source": [
        "def get_grads(act_fn, x):\n",
        "    \"\"\"지정된 위치에서 활성화 함수의 기울기를 계산합니다.\n",
        "\n",
        "    인수:\n",
        "        act_fn: \"활성화\" 클래스의 개체입니다Function\"은 전진 패스가 구현된 것입니다.\n",
        "        x: 1D 입력 텐서.\n",
        "    반환:\n",
        "        x에서 act_fn의 기울기를 포함하는 x의 크기가 같은 텐서.\n",
        "    \"\"\"\n",
        "    x = x.clone().requires_grad_() # 그라데이션을 저장할 텐서로 입력 표시\n",
        "    out = act_fn(x)\n",
        "    out.sum().backward() # 합하면 x의 각 원소에 대한 동일한 구배 흐름이 생성됩니다\n",
        "    return x.grad # \"x.grad\"에 의한 x의 기울기 액세스\n",
        "\n",
        "    #이제 기울기를 포함한 모든 활성화 기능을 시각화할 수 있습니다:"
      ],
      "metadata": {
        "id": "lhV2YnYcIfn_"
      },
      "execution_count": 11,
      "outputs": []
    },
    {
      "cell_type": "code",
      "source": [
        "def vis_act_fn(act_fn, ax, x):\n",
        "  # 활성화 기능 실행\n",
        "  y = act_fn(x)\n",
        "  y_grads = get_grads(act_fn, x)\n",
        "\n",
        "  # x, y 및 그라데이션을 CPU로 다시 밀어 표시합니다\n",
        "  x,y,y_grads = x.cpu().numpy(), y.cpu().numpy(), y_grads.cpu().numpy()\n",
        "\n",
        "  # 플롯\n",
        "  ax.plot(x, y, linewidth=2, label=\"ActFn\")\n",
        "  ax.plot(x, y_grads, linewidth=2, label=\"Gradient\")\n",
        "  ax.set_title(act_fn.name)\n",
        "  ax.legend()\n",
        "  ax.set_ylim(-1.5, x.max())\n",
        "\n",
        "# 원하는 경우 활성화 기능 추가\n",
        "act_fns = [act_fn() for act_fn in act_fn_by_name.values()]\n",
        "x = torch.linspace(-5, 5, 1000)  # 활성화 기능을 시각화할 범위\n",
        "\n",
        "#plotting\n",
        "cols = 2\n",
        "rows = math.ceil(len(act_fns) / float(cols))\n",
        "fig, ax = plt.subplots(rows, cols, figsize=(cols*4, rows*4))\n",
        "for i, act_fn in enumerate(act_fns):\n",
        "  vis_act_fn(act_fn, ax[divmod(i, cols)], x)\n",
        "fig.subplots_adjust(hspace=0.3)\n",
        "plt.show()\n",
        "#enumerate(열거하다)\n",
        "#   이 함수는 순서가 있는 자료형(리스트, 튜플, 문자열)을 입력받아 인덱스값에 포함시키는 역할\n",
        "#  쉽게 말하자면 리스트, 튜플, 문자열에 순서를 넣는다고 생각하면 됩니다.\n",
        "\n",
        "#  대부분 순서를 내야하기 때문에 반복문for문과 같이 쓰입니다.\n",
        "# (값 한개당 1번의 반복을 해야하므로)"
      ],
      "metadata": {
        "colab": {
          "base_uri": "https://localhost:8080/",
          "height": 973
        },
        "id": "li4j25CEJ6BU",
        "outputId": "b636ecc1-0133-4e12-9c70-7a2f51268101"
      },
      "execution_count": 12,
      "outputs": [
        {
          "output_type": "display_data",
          "data": {
            "text/plain": [
              "<Figure size 800x1200 with 6 Axes>"
            ],
            "image/svg+xml": "<?xml version=\"1.0\" encoding=\"utf-8\" standalone=\"no\"?>\n<!DOCTYPE svg PUBLIC \"-//W3C//DTD SVG 1.1//EN\"\n  \"http://www.w3.org/Graphics/SVG/1.1/DTD/svg11.dtd\">\n<svg xmlns:xlink=\"http://www.w3.org/1999/xlink\" width=\"486.516406pt\" height=\"714.944062pt\" viewBox=\"0 0 486.516406 714.944062\" xmlns=\"http://www.w3.org/2000/svg\" version=\"1.1\">\n <metadata>\n  <rdf:RDF xmlns:dc=\"http://purl.org/dc/elements/1.1/\" xmlns:cc=\"http://creativecommons.org/ns#\" xmlns:rdf=\"http://www.w3.org/1999/02/22-rdf-syntax-ns#\">\n   <cc:Work>\n    <dc:type rdf:resource=\"http://purl.org/dc/dcmitype/StillImage\"/>\n    <dc:date>2023-07-02T14:06:48.428736</dc:date>\n    <dc:format>image/svg+xml</dc:format>\n    <dc:creator>\n     <cc:Agent>\n      <dc:title>Matplotlib v3.7.1, https://matplotlib.org/</dc:title>\n     </cc:Agent>\n    </dc:creator>\n   </cc:Work>\n  </rdf:RDF>\n </metadata>\n <defs>\n  <style type=\"text/css\">*{stroke-linejoin: round; stroke-linecap: butt}</style>\n </defs>\n <g id=\"figure_1\">\n  <g id=\"patch_1\">\n   <path d=\"M 0 714.944062 \nL 486.516406 714.944062 \nL 486.516406 0 \nL 0 0 \nz\n\" style=\"fill: #ffffff\"/>\n  </g>\n  <g id=\"axes_1\">\n   <g id=\"patch_2\">\n    <path d=\"M 32.916406 207.118125 \nL 235.825497 207.118125 \nL 235.825497 22.318125 \nL 32.916406 22.318125 \nz\n\" style=\"fill: #eaeaf2\"/>\n   </g>\n   <g id=\"matplotlib.axis_1\">\n    <g id=\"xtick_1\">\n     <g id=\"line2d_1\">\n      <path d=\"M 60.585828 207.118125 \nL 60.585828 22.318125 \n\" clip-path=\"url(#pb9a89847b1)\" style=\"fill: none; stroke: #ffffff; stroke-linecap: round\"/>\n     </g>\n     <g id=\"text_1\">\n      <!-- −4 -->\n      <g style=\"fill: #262626\" transform=\"translate(52.477625 224.976406) scale(0.11 -0.11)\">\n       <defs>\n        <path id=\"DejaVuSans-2212\" d=\"M 678 2272 \nL 4684 2272 \nL 4684 1741 \nL 678 1741 \nL 678 2272 \nz\n\" transform=\"scale(0.015625)\"/>\n        <path id=\"DejaVuSans-34\" d=\"M 2419 4116 \nL 825 1625 \nL 2419 1625 \nL 2419 4116 \nz\nM 2253 4666 \nL 3047 4666 \nL 3047 1625 \nL 3713 1625 \nL 3713 1100 \nL 3047 1100 \nL 3047 0 \nL 2419 0 \nL 2419 1100 \nL 313 1100 \nL 313 1709 \nL 2253 4666 \nz\n\" transform=\"scale(0.015625)\"/>\n       </defs>\n       <use xlink:href=\"#DejaVuSans-2212\"/>\n       <use xlink:href=\"#DejaVuSans-34\" x=\"83.789062\"/>\n      </g>\n     </g>\n    </g>\n    <g id=\"xtick_2\">\n     <g id=\"line2d_2\">\n      <path d=\"M 97.47839 207.118125 \nL 97.47839 22.318125 \n\" clip-path=\"url(#pb9a89847b1)\" style=\"fill: none; stroke: #ffffff; stroke-linecap: round\"/>\n     </g>\n     <g id=\"text_2\">\n      <!-- −2 -->\n      <g style=\"fill: #262626\" transform=\"translate(89.370187 224.976406) scale(0.11 -0.11)\">\n       <defs>\n        <path id=\"DejaVuSans-32\" d=\"M 1228 531 \nL 3431 531 \nL 3431 0 \nL 469 0 \nL 469 531 \nQ 828 903 1448 1529 \nQ 2069 2156 2228 2338 \nQ 2531 2678 2651 2914 \nQ 2772 3150 2772 3378 \nQ 2772 3750 2511 3984 \nQ 2250 4219 1831 4219 \nQ 1534 4219 1204 4116 \nQ 875 4013 500 3803 \nL 500 4441 \nQ 881 4594 1212 4672 \nQ 1544 4750 1819 4750 \nQ 2544 4750 2975 4387 \nQ 3406 4025 3406 3419 \nQ 3406 3131 3298 2873 \nQ 3191 2616 2906 2266 \nQ 2828 2175 2409 1742 \nQ 1991 1309 1228 531 \nz\n\" transform=\"scale(0.015625)\"/>\n       </defs>\n       <use xlink:href=\"#DejaVuSans-2212\"/>\n       <use xlink:href=\"#DejaVuSans-32\" x=\"83.789062\"/>\n      </g>\n     </g>\n    </g>\n    <g id=\"xtick_3\">\n     <g id=\"line2d_3\">\n      <path d=\"M 134.370952 207.118125 \nL 134.370952 22.318125 \n\" clip-path=\"url(#pb9a89847b1)\" style=\"fill: none; stroke: #ffffff; stroke-linecap: round\"/>\n     </g>\n     <g id=\"text_3\">\n      <!-- 0 -->\n      <g style=\"fill: #262626\" transform=\"translate(130.871577 224.976406) scale(0.11 -0.11)\">\n       <defs>\n        <path id=\"DejaVuSans-30\" d=\"M 2034 4250 \nQ 1547 4250 1301 3770 \nQ 1056 3291 1056 2328 \nQ 1056 1369 1301 889 \nQ 1547 409 2034 409 \nQ 2525 409 2770 889 \nQ 3016 1369 3016 2328 \nQ 3016 3291 2770 3770 \nQ 2525 4250 2034 4250 \nz\nM 2034 4750 \nQ 2819 4750 3233 4129 \nQ 3647 3509 3647 2328 \nQ 3647 1150 3233 529 \nQ 2819 -91 2034 -91 \nQ 1250 -91 836 529 \nQ 422 1150 422 2328 \nQ 422 3509 836 4129 \nQ 1250 4750 2034 4750 \nz\n\" transform=\"scale(0.015625)\"/>\n       </defs>\n       <use xlink:href=\"#DejaVuSans-30\"/>\n      </g>\n     </g>\n    </g>\n    <g id=\"xtick_4\">\n     <g id=\"line2d_4\">\n      <path d=\"M 171.263514 207.118125 \nL 171.263514 22.318125 \n\" clip-path=\"url(#pb9a89847b1)\" style=\"fill: none; stroke: #ffffff; stroke-linecap: round\"/>\n     </g>\n     <g id=\"text_4\">\n      <!-- 2 -->\n      <g style=\"fill: #262626\" transform=\"translate(167.764139 224.976406) scale(0.11 -0.11)\">\n       <use xlink:href=\"#DejaVuSans-32\"/>\n      </g>\n     </g>\n    </g>\n    <g id=\"xtick_5\">\n     <g id=\"line2d_5\">\n      <path d=\"M 208.156076 207.118125 \nL 208.156076 22.318125 \n\" clip-path=\"url(#pb9a89847b1)\" style=\"fill: none; stroke: #ffffff; stroke-linecap: round\"/>\n     </g>\n     <g id=\"text_5\">\n      <!-- 4 -->\n      <g style=\"fill: #262626\" transform=\"translate(204.656701 224.976406) scale(0.11 -0.11)\">\n       <use xlink:href=\"#DejaVuSans-34\"/>\n      </g>\n     </g>\n    </g>\n   </g>\n   <g id=\"matplotlib.axis_2\">\n    <g id=\"ytick_1\">\n     <g id=\"line2d_6\">\n      <path d=\"M 32.916406 192.90274 \nL 235.825497 192.90274 \n\" clip-path=\"url(#pb9a89847b1)\" style=\"fill: none; stroke: #ffffff; stroke-linecap: round\"/>\n     </g>\n     <g id=\"text_6\">\n      <!-- −1 -->\n      <g style=\"fill: #262626\" transform=\"translate(7.2 197.081881) scale(0.11 -0.11)\">\n       <defs>\n        <path id=\"DejaVuSans-31\" d=\"M 794 531 \nL 1825 531 \nL 1825 4091 \nL 703 3866 \nL 703 4441 \nL 1819 4666 \nL 2450 4666 \nL 2450 531 \nL 3481 531 \nL 3481 0 \nL 794 0 \nL 794 531 \nz\n\" transform=\"scale(0.015625)\"/>\n       </defs>\n       <use xlink:href=\"#DejaVuSans-2212\"/>\n       <use xlink:href=\"#DejaVuSans-31\" x=\"83.789062\"/>\n      </g>\n     </g>\n    </g>\n    <g id=\"ytick_2\">\n     <g id=\"line2d_7\">\n      <path d=\"M 32.916406 164.471971 \nL 235.825497 164.471971 \n\" clip-path=\"url(#pb9a89847b1)\" style=\"fill: none; stroke: #ffffff; stroke-linecap: round\"/>\n     </g>\n     <g id=\"text_7\">\n      <!-- 0 -->\n      <g style=\"fill: #262626\" transform=\"translate(16.417656 168.651112) scale(0.11 -0.11)\">\n       <use xlink:href=\"#DejaVuSans-30\"/>\n      </g>\n     </g>\n    </g>\n    <g id=\"ytick_3\">\n     <g id=\"line2d_8\">\n      <path d=\"M 32.916406 136.041202 \nL 235.825497 136.041202 \n\" clip-path=\"url(#pb9a89847b1)\" style=\"fill: none; stroke: #ffffff; stroke-linecap: round\"/>\n     </g>\n     <g id=\"text_8\">\n      <!-- 1 -->\n      <g style=\"fill: #262626\" transform=\"translate(16.417656 140.220343) scale(0.11 -0.11)\">\n       <use xlink:href=\"#DejaVuSans-31\"/>\n      </g>\n     </g>\n    </g>\n    <g id=\"ytick_4\">\n     <g id=\"line2d_9\">\n      <path d=\"M 32.916406 107.610433 \nL 235.825497 107.610433 \n\" clip-path=\"url(#pb9a89847b1)\" style=\"fill: none; stroke: #ffffff; stroke-linecap: round\"/>\n     </g>\n     <g id=\"text_9\">\n      <!-- 2 -->\n      <g style=\"fill: #262626\" transform=\"translate(16.417656 111.789573) scale(0.11 -0.11)\">\n       <use xlink:href=\"#DejaVuSans-32\"/>\n      </g>\n     </g>\n    </g>\n    <g id=\"ytick_5\">\n     <g id=\"line2d_10\">\n      <path d=\"M 32.916406 79.179663 \nL 235.825497 79.179663 \n\" clip-path=\"url(#pb9a89847b1)\" style=\"fill: none; stroke: #ffffff; stroke-linecap: round\"/>\n     </g>\n     <g id=\"text_10\">\n      <!-- 3 -->\n      <g style=\"fill: #262626\" transform=\"translate(16.417656 83.358804) scale(0.11 -0.11)\">\n       <defs>\n        <path id=\"DejaVuSans-33\" d=\"M 2597 2516 \nQ 3050 2419 3304 2112 \nQ 3559 1806 3559 1356 \nQ 3559 666 3084 287 \nQ 2609 -91 1734 -91 \nQ 1441 -91 1130 -33 \nQ 819 25 488 141 \nL 488 750 \nQ 750 597 1062 519 \nQ 1375 441 1716 441 \nQ 2309 441 2620 675 \nQ 2931 909 2931 1356 \nQ 2931 1769 2642 2001 \nQ 2353 2234 1838 2234 \nL 1294 2234 \nL 1294 2753 \nL 1863 2753 \nQ 2328 2753 2575 2939 \nQ 2822 3125 2822 3475 \nQ 2822 3834 2567 4026 \nQ 2313 4219 1838 4219 \nQ 1578 4219 1281 4162 \nQ 984 4106 628 3988 \nL 628 4550 \nQ 988 4650 1302 4700 \nQ 1616 4750 1894 4750 \nQ 2613 4750 3031 4423 \nQ 3450 4097 3450 3541 \nQ 3450 3153 3228 2886 \nQ 3006 2619 2597 2516 \nz\n\" transform=\"scale(0.015625)\"/>\n       </defs>\n       <use xlink:href=\"#DejaVuSans-33\"/>\n      </g>\n     </g>\n    </g>\n    <g id=\"ytick_6\">\n     <g id=\"line2d_11\">\n      <path d=\"M 32.916406 50.748894 \nL 235.825497 50.748894 \n\" clip-path=\"url(#pb9a89847b1)\" style=\"fill: none; stroke: #ffffff; stroke-linecap: round\"/>\n     </g>\n     <g id=\"text_11\">\n      <!-- 4 -->\n      <g style=\"fill: #262626\" transform=\"translate(16.417656 54.928035) scale(0.11 -0.11)\">\n       <use xlink:href=\"#DejaVuSans-34\"/>\n      </g>\n     </g>\n    </g>\n    <g id=\"ytick_7\">\n     <g id=\"line2d_12\">\n      <path d=\"M 32.916406 22.318125 \nL 235.825497 22.318125 \n\" clip-path=\"url(#pb9a89847b1)\" style=\"fill: none; stroke: #ffffff; stroke-linecap: round\"/>\n     </g>\n     <g id=\"text_12\">\n      <!-- 5 -->\n      <g style=\"fill: #262626\" transform=\"translate(16.417656 26.497266) scale(0.11 -0.11)\">\n       <defs>\n        <path id=\"DejaVuSans-35\" d=\"M 691 4666 \nL 3169 4666 \nL 3169 4134 \nL 1269 4134 \nL 1269 2991 \nQ 1406 3038 1543 3061 \nQ 1681 3084 1819 3084 \nQ 2600 3084 3056 2656 \nQ 3513 2228 3513 1497 \nQ 3513 744 3044 326 \nQ 2575 -91 1722 -91 \nQ 1428 -91 1123 -41 \nQ 819 9 494 109 \nL 494 744 \nQ 775 591 1075 516 \nQ 1375 441 1709 441 \nQ 2250 441 2565 725 \nQ 2881 1009 2881 1497 \nQ 2881 1984 2565 2268 \nQ 2250 2553 1709 2553 \nQ 1456 2553 1204 2497 \nQ 953 2441 691 2322 \nL 691 4666 \nz\n\" transform=\"scale(0.015625)\"/>\n       </defs>\n       <use xlink:href=\"#DejaVuSans-35\"/>\n      </g>\n     </g>\n    </g>\n   </g>\n   <g id=\"line2d_13\">\n    <path d=\"M 42.139547 164.281688 \nL 59.311763 163.994163 \nL 70.944551 163.587333 \nL 79.992275 163.055164 \nL 87.562821 162.3889 \nL 94.025482 161.603108 \nL 99.934199 160.664959 \nL 105.473622 159.561796 \nL 110.828397 158.268812 \nL 116.183175 156.747171 \nL 121.907245 154.884346 \nL 128.739201 152.409904 \nL 148.865779 144.942143 \nL 154.589852 143.162316 \nL 159.944627 141.726937 \nL 165.299402 140.520071 \nL 170.838827 139.499562 \nL 176.747547 138.638269 \nL 183.210204 137.921447 \nL 190.596102 137.329168 \nL 199.459179 136.8518 \nL 210.538024 136.491601 \nL 225.494473 136.24318 \nL 226.602357 136.231484 \nL 226.602357 136.231484 \n\" clip-path=\"url(#pb9a89847b1)\" style=\"fill: none; stroke: #4c72b0; stroke-width: 2; stroke-linecap: round\"/>\n   </g>\n   <g id=\"line2d_14\">\n    <path d=\"M 42.139547 164.282962 \nL 59.496406 163.997627 \nL 71.498493 163.590403 \nL 81.100159 163.051217 \nL 89.593941 162.353112 \nL 97.718429 161.457246 \nL 106.766153 160.222185 \nL 121.907245 158.117553 \nL 127.446669 157.608894 \nL 132.247503 157.387774 \nL 136.863696 157.396629 \nL 141.66453 157.634998 \nL 146.834659 158.117553 \nL 153.481965 158.975855 \nL 174.901069 161.913146 \nL 183.025556 162.700768 \nL 191.519343 163.29719 \nL 201.305657 163.755609 \nL 213.492391 164.092532 \nL 226.602357 164.282962 \nL 226.602357 164.282962 \n\" clip-path=\"url(#pb9a89847b1)\" style=\"fill: none; stroke: #dd8452; stroke-width: 2; stroke-linecap: round\"/>\n   </g>\n   <g id=\"patch_3\">\n    <path d=\"M 32.916406 207.118125 \nL 32.916406 22.318125 \n\" style=\"fill: none; stroke: #ffffff; stroke-width: 1.25; stroke-linejoin: miter; stroke-linecap: square\"/>\n   </g>\n   <g id=\"patch_4\">\n    <path d=\"M 235.825497 207.118125 \nL 235.825497 22.318125 \n\" style=\"fill: none; stroke: #ffffff; stroke-width: 1.25; stroke-linejoin: miter; stroke-linecap: square\"/>\n   </g>\n   <g id=\"patch_5\">\n    <path d=\"M 32.916406 207.118125 \nL 235.825497 207.118125 \n\" style=\"fill: none; stroke: #ffffff; stroke-width: 1.25; stroke-linejoin: miter; stroke-linecap: square\"/>\n   </g>\n   <g id=\"patch_6\">\n    <path d=\"M 32.916406 22.318125 \nL 235.825497 22.318125 \n\" style=\"fill: none; stroke: #ffffff; stroke-width: 1.25; stroke-linejoin: miter; stroke-linecap: square\"/>\n   </g>\n   <g id=\"text_13\">\n    <!-- Sigmoid -->\n    <g style=\"fill: #262626\" transform=\"translate(110.094389 16.318125) scale(0.12 -0.12)\">\n     <defs>\n      <path id=\"DejaVuSans-53\" d=\"M 3425 4513 \nL 3425 3897 \nQ 3066 4069 2747 4153 \nQ 2428 4238 2131 4238 \nQ 1616 4238 1336 4038 \nQ 1056 3838 1056 3469 \nQ 1056 3159 1242 3001 \nQ 1428 2844 1947 2747 \nL 2328 2669 \nQ 3034 2534 3370 2195 \nQ 3706 1856 3706 1288 \nQ 3706 609 3251 259 \nQ 2797 -91 1919 -91 \nQ 1588 -91 1214 -16 \nQ 841 59 441 206 \nL 441 856 \nQ 825 641 1194 531 \nQ 1563 422 1919 422 \nQ 2459 422 2753 634 \nQ 3047 847 3047 1241 \nQ 3047 1584 2836 1778 \nQ 2625 1972 2144 2069 \nL 1759 2144 \nQ 1053 2284 737 2584 \nQ 422 2884 422 3419 \nQ 422 4038 858 4394 \nQ 1294 4750 2059 4750 \nQ 2388 4750 2728 4690 \nQ 3069 4631 3425 4513 \nz\n\" transform=\"scale(0.015625)\"/>\n      <path id=\"DejaVuSans-69\" d=\"M 603 3500 \nL 1178 3500 \nL 1178 0 \nL 603 0 \nL 603 3500 \nz\nM 603 4863 \nL 1178 4863 \nL 1178 4134 \nL 603 4134 \nL 603 4863 \nz\n\" transform=\"scale(0.015625)\"/>\n      <path id=\"DejaVuSans-67\" d=\"M 2906 1791 \nQ 2906 2416 2648 2759 \nQ 2391 3103 1925 3103 \nQ 1463 3103 1205 2759 \nQ 947 2416 947 1791 \nQ 947 1169 1205 825 \nQ 1463 481 1925 481 \nQ 2391 481 2648 825 \nQ 2906 1169 2906 1791 \nz\nM 3481 434 \nQ 3481 -459 3084 -895 \nQ 2688 -1331 1869 -1331 \nQ 1566 -1331 1297 -1286 \nQ 1028 -1241 775 -1147 \nL 775 -588 \nQ 1028 -725 1275 -790 \nQ 1522 -856 1778 -856 \nQ 2344 -856 2625 -561 \nQ 2906 -266 2906 331 \nL 2906 616 \nQ 2728 306 2450 153 \nQ 2172 0 1784 0 \nQ 1141 0 747 490 \nQ 353 981 353 1791 \nQ 353 2603 747 3093 \nQ 1141 3584 1784 3584 \nQ 2172 3584 2450 3431 \nQ 2728 3278 2906 2969 \nL 2906 3500 \nL 3481 3500 \nL 3481 434 \nz\n\" transform=\"scale(0.015625)\"/>\n      <path id=\"DejaVuSans-6d\" d=\"M 3328 2828 \nQ 3544 3216 3844 3400 \nQ 4144 3584 4550 3584 \nQ 5097 3584 5394 3201 \nQ 5691 2819 5691 2113 \nL 5691 0 \nL 5113 0 \nL 5113 2094 \nQ 5113 2597 4934 2840 \nQ 4756 3084 4391 3084 \nQ 3944 3084 3684 2787 \nQ 3425 2491 3425 1978 \nL 3425 0 \nL 2847 0 \nL 2847 2094 \nQ 2847 2600 2669 2842 \nQ 2491 3084 2119 3084 \nQ 1678 3084 1418 2786 \nQ 1159 2488 1159 1978 \nL 1159 0 \nL 581 0 \nL 581 3500 \nL 1159 3500 \nL 1159 2956 \nQ 1356 3278 1631 3431 \nQ 1906 3584 2284 3584 \nQ 2666 3584 2933 3390 \nQ 3200 3197 3328 2828 \nz\n\" transform=\"scale(0.015625)\"/>\n      <path id=\"DejaVuSans-6f\" d=\"M 1959 3097 \nQ 1497 3097 1228 2736 \nQ 959 2375 959 1747 \nQ 959 1119 1226 758 \nQ 1494 397 1959 397 \nQ 2419 397 2687 759 \nQ 2956 1122 2956 1747 \nQ 2956 2369 2687 2733 \nQ 2419 3097 1959 3097 \nz\nM 1959 3584 \nQ 2709 3584 3137 3096 \nQ 3566 2609 3566 1747 \nQ 3566 888 3137 398 \nQ 2709 -91 1959 -91 \nQ 1206 -91 779 398 \nQ 353 888 353 1747 \nQ 353 2609 779 3096 \nQ 1206 3584 1959 3584 \nz\n\" transform=\"scale(0.015625)\"/>\n      <path id=\"DejaVuSans-64\" d=\"M 2906 2969 \nL 2906 4863 \nL 3481 4863 \nL 3481 0 \nL 2906 0 \nL 2906 525 \nQ 2725 213 2448 61 \nQ 2172 -91 1784 -91 \nQ 1150 -91 751 415 \nQ 353 922 353 1747 \nQ 353 2572 751 3078 \nQ 1150 3584 1784 3584 \nQ 2172 3584 2448 3432 \nQ 2725 3281 2906 2969 \nz\nM 947 1747 \nQ 947 1113 1208 752 \nQ 1469 391 1925 391 \nQ 2381 391 2643 752 \nQ 2906 1113 2906 1747 \nQ 2906 2381 2643 2742 \nQ 2381 3103 1925 3103 \nQ 1469 3103 1208 2742 \nQ 947 2381 947 1747 \nz\n\" transform=\"scale(0.015625)\"/>\n     </defs>\n     <use xlink:href=\"#DejaVuSans-53\"/>\n     <use xlink:href=\"#DejaVuSans-69\" x=\"63.476562\"/>\n     <use xlink:href=\"#DejaVuSans-67\" x=\"91.259766\"/>\n     <use xlink:href=\"#DejaVuSans-6d\" x=\"154.736328\"/>\n     <use xlink:href=\"#DejaVuSans-6f\" x=\"252.148438\"/>\n     <use xlink:href=\"#DejaVuSans-69\" x=\"313.330078\"/>\n     <use xlink:href=\"#DejaVuSans-64\" x=\"341.113281\"/>\n    </g>\n   </g>\n   <g id=\"legend_1\">\n    <g id=\"patch_7\">\n     <path d=\"M 145.047997 63.41 \nL 228.125497 63.41 \nQ 230.325497 63.41 230.325497 61.21 \nL 230.325497 30.018125 \nQ 230.325497 27.818125 228.125497 27.818125 \nL 145.047997 27.818125 \nQ 142.847997 27.818125 142.847997 30.018125 \nL 142.847997 61.21 \nQ 142.847997 63.41 145.047997 63.41 \nz\n\" style=\"fill: #eaeaf2; opacity: 0.8; stroke: #cccccc; stroke-linejoin: miter\"/>\n    </g>\n    <g id=\"line2d_15\">\n     <path d=\"M 147.247997 36.726406 \nL 158.247997 36.726406 \nL 169.247997 36.726406 \n\" style=\"fill: none; stroke: #4c72b0; stroke-width: 2; stroke-linecap: round\"/>\n    </g>\n    <g id=\"text_14\">\n     <!-- ActFn -->\n     <g style=\"fill: #262626\" transform=\"translate(178.047997 40.576406) scale(0.11 -0.11)\">\n      <defs>\n       <path id=\"DejaVuSans-41\" d=\"M 2188 4044 \nL 1331 1722 \nL 3047 1722 \nL 2188 4044 \nz\nM 1831 4666 \nL 2547 4666 \nL 4325 0 \nL 3669 0 \nL 3244 1197 \nL 1141 1197 \nL 716 0 \nL 50 0 \nL 1831 4666 \nz\n\" transform=\"scale(0.015625)\"/>\n       <path id=\"DejaVuSans-63\" d=\"M 3122 3366 \nL 3122 2828 \nQ 2878 2963 2633 3030 \nQ 2388 3097 2138 3097 \nQ 1578 3097 1268 2742 \nQ 959 2388 959 1747 \nQ 959 1106 1268 751 \nQ 1578 397 2138 397 \nQ 2388 397 2633 464 \nQ 2878 531 3122 666 \nL 3122 134 \nQ 2881 22 2623 -34 \nQ 2366 -91 2075 -91 \nQ 1284 -91 818 406 \nQ 353 903 353 1747 \nQ 353 2603 823 3093 \nQ 1294 3584 2113 3584 \nQ 2378 3584 2631 3529 \nQ 2884 3475 3122 3366 \nz\n\" transform=\"scale(0.015625)\"/>\n       <path id=\"DejaVuSans-74\" d=\"M 1172 4494 \nL 1172 3500 \nL 2356 3500 \nL 2356 3053 \nL 1172 3053 \nL 1172 1153 \nQ 1172 725 1289 603 \nQ 1406 481 1766 481 \nL 2356 481 \nL 2356 0 \nL 1766 0 \nQ 1100 0 847 248 \nQ 594 497 594 1153 \nL 594 3053 \nL 172 3053 \nL 172 3500 \nL 594 3500 \nL 594 4494 \nL 1172 4494 \nz\n\" transform=\"scale(0.015625)\"/>\n       <path id=\"DejaVuSans-46\" d=\"M 628 4666 \nL 3309 4666 \nL 3309 4134 \nL 1259 4134 \nL 1259 2759 \nL 3109 2759 \nL 3109 2228 \nL 1259 2228 \nL 1259 0 \nL 628 0 \nL 628 4666 \nz\n\" transform=\"scale(0.015625)\"/>\n       <path id=\"DejaVuSans-6e\" d=\"M 3513 2113 \nL 3513 0 \nL 2938 0 \nL 2938 2094 \nQ 2938 2591 2744 2837 \nQ 2550 3084 2163 3084 \nQ 1697 3084 1428 2787 \nQ 1159 2491 1159 1978 \nL 1159 0 \nL 581 0 \nL 581 3500 \nL 1159 3500 \nL 1159 2956 \nQ 1366 3272 1645 3428 \nQ 1925 3584 2291 3584 \nQ 2894 3584 3203 3211 \nQ 3513 2838 3513 2113 \nz\n\" transform=\"scale(0.015625)\"/>\n      </defs>\n      <use xlink:href=\"#DejaVuSans-41\"/>\n      <use xlink:href=\"#DejaVuSans-63\" x=\"66.658203\"/>\n      <use xlink:href=\"#DejaVuSans-74\" x=\"121.638672\"/>\n      <use xlink:href=\"#DejaVuSans-46\" x=\"160.847656\"/>\n      <use xlink:href=\"#DejaVuSans-6e\" x=\"218.367188\"/>\n     </g>\n    </g>\n    <g id=\"line2d_16\">\n     <path d=\"M 147.247997 52.872344 \nL 158.247997 52.872344 \nL 169.247997 52.872344 \n\" style=\"fill: none; stroke: #dd8452; stroke-width: 2; stroke-linecap: round\"/>\n    </g>\n    <g id=\"text_15\">\n     <!-- Gradient -->\n     <g style=\"fill: #262626\" transform=\"translate(178.047997 56.722344) scale(0.11 -0.11)\">\n      <defs>\n       <path id=\"DejaVuSans-47\" d=\"M 3809 666 \nL 3809 1919 \nL 2778 1919 \nL 2778 2438 \nL 4434 2438 \nL 4434 434 \nQ 4069 175 3628 42 \nQ 3188 -91 2688 -91 \nQ 1594 -91 976 548 \nQ 359 1188 359 2328 \nQ 359 3472 976 4111 \nQ 1594 4750 2688 4750 \nQ 3144 4750 3555 4637 \nQ 3966 4525 4313 4306 \nL 4313 3634 \nQ 3963 3931 3569 4081 \nQ 3175 4231 2741 4231 \nQ 1884 4231 1454 3753 \nQ 1025 3275 1025 2328 \nQ 1025 1384 1454 906 \nQ 1884 428 2741 428 \nQ 3075 428 3337 486 \nQ 3600 544 3809 666 \nz\n\" transform=\"scale(0.015625)\"/>\n       <path id=\"DejaVuSans-72\" d=\"M 2631 2963 \nQ 2534 3019 2420 3045 \nQ 2306 3072 2169 3072 \nQ 1681 3072 1420 2755 \nQ 1159 2438 1159 1844 \nL 1159 0 \nL 581 0 \nL 581 3500 \nL 1159 3500 \nL 1159 2956 \nQ 1341 3275 1631 3429 \nQ 1922 3584 2338 3584 \nQ 2397 3584 2469 3576 \nQ 2541 3569 2628 3553 \nL 2631 2963 \nz\n\" transform=\"scale(0.015625)\"/>\n       <path id=\"DejaVuSans-61\" d=\"M 2194 1759 \nQ 1497 1759 1228 1600 \nQ 959 1441 959 1056 \nQ 959 750 1161 570 \nQ 1363 391 1709 391 \nQ 2188 391 2477 730 \nQ 2766 1069 2766 1631 \nL 2766 1759 \nL 2194 1759 \nz\nM 3341 1997 \nL 3341 0 \nL 2766 0 \nL 2766 531 \nQ 2569 213 2275 61 \nQ 1981 -91 1556 -91 \nQ 1019 -91 701 211 \nQ 384 513 384 1019 \nQ 384 1609 779 1909 \nQ 1175 2209 1959 2209 \nL 2766 2209 \nL 2766 2266 \nQ 2766 2663 2505 2880 \nQ 2244 3097 1772 3097 \nQ 1472 3097 1187 3025 \nQ 903 2953 641 2809 \nL 641 3341 \nQ 956 3463 1253 3523 \nQ 1550 3584 1831 3584 \nQ 2591 3584 2966 3190 \nQ 3341 2797 3341 1997 \nz\n\" transform=\"scale(0.015625)\"/>\n       <path id=\"DejaVuSans-65\" d=\"M 3597 1894 \nL 3597 1613 \nL 953 1613 \nQ 991 1019 1311 708 \nQ 1631 397 2203 397 \nQ 2534 397 2845 478 \nQ 3156 559 3463 722 \nL 3463 178 \nQ 3153 47 2828 -22 \nQ 2503 -91 2169 -91 \nQ 1331 -91 842 396 \nQ 353 884 353 1716 \nQ 353 2575 817 3079 \nQ 1281 3584 2069 3584 \nQ 2775 3584 3186 3129 \nQ 3597 2675 3597 1894 \nz\nM 3022 2063 \nQ 3016 2534 2758 2815 \nQ 2500 3097 2075 3097 \nQ 1594 3097 1305 2825 \nQ 1016 2553 972 2059 \nL 3022 2063 \nz\n\" transform=\"scale(0.015625)\"/>\n      </defs>\n      <use xlink:href=\"#DejaVuSans-47\"/>\n      <use xlink:href=\"#DejaVuSans-72\" x=\"77.490234\"/>\n      <use xlink:href=\"#DejaVuSans-61\" x=\"118.603516\"/>\n      <use xlink:href=\"#DejaVuSans-64\" x=\"179.882812\"/>\n      <use xlink:href=\"#DejaVuSans-69\" x=\"243.359375\"/>\n      <use xlink:href=\"#DejaVuSans-65\" x=\"271.142578\"/>\n      <use xlink:href=\"#DejaVuSans-6e\" x=\"332.666016\"/>\n      <use xlink:href=\"#DejaVuSans-74\" x=\"396.044922\"/>\n     </g>\n    </g>\n   </g>\n  </g>\n  <g id=\"axes_2\">\n   <g id=\"patch_8\">\n    <path d=\"M 276.407315 207.118125 \nL 479.316406 207.118125 \nL 479.316406 22.318125 \nL 276.407315 22.318125 \nz\n\" style=\"fill: #eaeaf2\"/>\n   </g>\n   <g id=\"matplotlib.axis_3\">\n    <g id=\"xtick_6\">\n     <g id=\"line2d_17\">\n      <path d=\"M 304.076737 207.118125 \nL 304.076737 22.318125 \n\" clip-path=\"url(#p107a319519)\" style=\"fill: none; stroke: #ffffff; stroke-linecap: round\"/>\n     </g>\n     <g id=\"text_16\">\n      <!-- −4 -->\n      <g style=\"fill: #262626\" transform=\"translate(295.968534 224.976406) scale(0.11 -0.11)\">\n       <use xlink:href=\"#DejaVuSans-2212\"/>\n       <use xlink:href=\"#DejaVuSans-34\" x=\"83.789062\"/>\n      </g>\n     </g>\n    </g>\n    <g id=\"xtick_7\">\n     <g id=\"line2d_18\">\n      <path d=\"M 340.969299 207.118125 \nL 340.969299 22.318125 \n\" clip-path=\"url(#p107a319519)\" style=\"fill: none; stroke: #ffffff; stroke-linecap: round\"/>\n     </g>\n     <g id=\"text_17\">\n      <!-- −2 -->\n      <g style=\"fill: #262626\" transform=\"translate(332.861096 224.976406) scale(0.11 -0.11)\">\n       <use xlink:href=\"#DejaVuSans-2212\"/>\n       <use xlink:href=\"#DejaVuSans-32\" x=\"83.789062\"/>\n      </g>\n     </g>\n    </g>\n    <g id=\"xtick_8\">\n     <g id=\"line2d_19\">\n      <path d=\"M 377.861861 207.118125 \nL 377.861861 22.318125 \n\" clip-path=\"url(#p107a319519)\" style=\"fill: none; stroke: #ffffff; stroke-linecap: round\"/>\n     </g>\n     <g id=\"text_18\">\n      <!-- 0 -->\n      <g style=\"fill: #262626\" transform=\"translate(374.362486 224.976406) scale(0.11 -0.11)\">\n       <use xlink:href=\"#DejaVuSans-30\"/>\n      </g>\n     </g>\n    </g>\n    <g id=\"xtick_9\">\n     <g id=\"line2d_20\">\n      <path d=\"M 414.754423 207.118125 \nL 414.754423 22.318125 \n\" clip-path=\"url(#p107a319519)\" style=\"fill: none; stroke: #ffffff; stroke-linecap: round\"/>\n     </g>\n     <g id=\"text_19\">\n      <!-- 2 -->\n      <g style=\"fill: #262626\" transform=\"translate(411.255048 224.976406) scale(0.11 -0.11)\">\n       <use xlink:href=\"#DejaVuSans-32\"/>\n      </g>\n     </g>\n    </g>\n    <g id=\"xtick_10\">\n     <g id=\"line2d_21\">\n      <path d=\"M 451.646985 207.118125 \nL 451.646985 22.318125 \n\" clip-path=\"url(#p107a319519)\" style=\"fill: none; stroke: #ffffff; stroke-linecap: round\"/>\n     </g>\n     <g id=\"text_20\">\n      <!-- 4 -->\n      <g style=\"fill: #262626\" transform=\"translate(448.14761 224.976406) scale(0.11 -0.11)\">\n       <use xlink:href=\"#DejaVuSans-34\"/>\n      </g>\n     </g>\n    </g>\n   </g>\n   <g id=\"matplotlib.axis_4\">\n    <g id=\"ytick_8\">\n     <g id=\"line2d_22\">\n      <path d=\"M 276.407315 192.90274 \nL 479.316406 192.90274 \n\" clip-path=\"url(#p107a319519)\" style=\"fill: none; stroke: #ffffff; stroke-linecap: round\"/>\n     </g>\n     <g id=\"text_21\">\n      <!-- −1 -->\n      <g style=\"fill: #262626\" transform=\"translate(250.690909 197.081881) scale(0.11 -0.11)\">\n       <use xlink:href=\"#DejaVuSans-2212\"/>\n       <use xlink:href=\"#DejaVuSans-31\" x=\"83.789062\"/>\n      </g>\n     </g>\n    </g>\n    <g id=\"ytick_9\">\n     <g id=\"line2d_23\">\n      <path d=\"M 276.407315 164.471971 \nL 479.316406 164.471971 \n\" clip-path=\"url(#p107a319519)\" style=\"fill: none; stroke: #ffffff; stroke-linecap: round\"/>\n     </g>\n     <g id=\"text_22\">\n      <!-- 0 -->\n      <g style=\"fill: #262626\" transform=\"translate(259.908565 168.651112) scale(0.11 -0.11)\">\n       <use xlink:href=\"#DejaVuSans-30\"/>\n      </g>\n     </g>\n    </g>\n    <g id=\"ytick_10\">\n     <g id=\"line2d_24\">\n      <path d=\"M 276.407315 136.041202 \nL 479.316406 136.041202 \n\" clip-path=\"url(#p107a319519)\" style=\"fill: none; stroke: #ffffff; stroke-linecap: round\"/>\n     </g>\n     <g id=\"text_23\">\n      <!-- 1 -->\n      <g style=\"fill: #262626\" transform=\"translate(259.908565 140.220343) scale(0.11 -0.11)\">\n       <use xlink:href=\"#DejaVuSans-31\"/>\n      </g>\n     </g>\n    </g>\n    <g id=\"ytick_11\">\n     <g id=\"line2d_25\">\n      <path d=\"M 276.407315 107.610433 \nL 479.316406 107.610433 \n\" clip-path=\"url(#p107a319519)\" style=\"fill: none; stroke: #ffffff; stroke-linecap: round\"/>\n     </g>\n     <g id=\"text_24\">\n      <!-- 2 -->\n      <g style=\"fill: #262626\" transform=\"translate(259.908565 111.789573) scale(0.11 -0.11)\">\n       <use xlink:href=\"#DejaVuSans-32\"/>\n      </g>\n     </g>\n    </g>\n    <g id=\"ytick_12\">\n     <g id=\"line2d_26\">\n      <path d=\"M 276.407315 79.179663 \nL 479.316406 79.179663 \n\" clip-path=\"url(#p107a319519)\" style=\"fill: none; stroke: #ffffff; stroke-linecap: round\"/>\n     </g>\n     <g id=\"text_25\">\n      <!-- 3 -->\n      <g style=\"fill: #262626\" transform=\"translate(259.908565 83.358804) scale(0.11 -0.11)\">\n       <use xlink:href=\"#DejaVuSans-33\"/>\n      </g>\n     </g>\n    </g>\n    <g id=\"ytick_13\">\n     <g id=\"line2d_27\">\n      <path d=\"M 276.407315 50.748894 \nL 479.316406 50.748894 \n\" clip-path=\"url(#p107a319519)\" style=\"fill: none; stroke: #ffffff; stroke-linecap: round\"/>\n     </g>\n     <g id=\"text_26\">\n      <!-- 4 -->\n      <g style=\"fill: #262626\" transform=\"translate(259.908565 54.928035) scale(0.11 -0.11)\">\n       <use xlink:href=\"#DejaVuSans-34\"/>\n      </g>\n     </g>\n    </g>\n    <g id=\"ytick_14\">\n     <g id=\"line2d_28\">\n      <path d=\"M 276.407315 22.318125 \nL 479.316406 22.318125 \n\" clip-path=\"url(#p107a319519)\" style=\"fill: none; stroke: #ffffff; stroke-linecap: round\"/>\n     </g>\n     <g id=\"text_27\">\n      <!-- 5 -->\n      <g style=\"fill: #262626\" transform=\"translate(259.908565 26.497266) scale(0.11 -0.11)\">\n       <use xlink:href=\"#DejaVuSans-35\"/>\n      </g>\n     </g>\n    </g>\n   </g>\n   <g id=\"line2d_29\">\n    <path d=\"M 285.630456 192.900156 \nL 321.267411 192.78 \nL 331.423024 192.535191 \nL 337.885686 192.166897 \nL 342.686517 191.675239 \nL 346.564113 191.054593 \nL 349.703121 190.339091 \nL 352.472833 189.494951 \nL 355.057898 188.478309 \nL 357.458314 187.292831 \nL 359.674084 185.955556 \nL 361.889852 184.352689 \nL 364.105622 182.457395 \nL 366.321391 180.251984 \nL 368.537161 177.733105 \nL 370.937578 174.669653 \nL 373.707289 170.769184 \nL 377.769534 164.614271 \nL 382.939669 156.837549 \nL 385.709381 153.057263 \nL 388.109797 150.123745 \nL 390.325568 147.734747 \nL 392.541336 145.659904 \nL 394.757106 143.889239 \nL 396.972874 142.400653 \nL 399.188645 141.164902 \nL 401.58906 140.074083 \nL 404.174125 139.142092 \nL 407.128485 138.326342 \nL 410.45214 137.654535 \nL 414.329736 137.111213 \nL 418.94592 136.694715 \nL 425.039287 136.380633 \nL 433.717716 136.174151 \nL 449.043455 136.066485 \nL 470.093266 136.043786 \nL 470.093266 136.043786 \n\" clip-path=\"url(#p107a319519)\" style=\"fill: none; stroke: #4c72b0; stroke-width: 2; stroke-linecap: round\"/>\n   </g>\n   <g id=\"line2d_30\">\n    <path d=\"M 285.630456 164.466806 \nL 315.543344 164.340017 \nL 325.329657 164.092374 \nL 331.607672 163.72705 \nL 336.408503 163.229556 \nL 340.286101 162.601927 \nL 343.425109 161.879041 \nL 346.194819 161.027396 \nL 348.779884 160.003919 \nL 351.180299 158.814348 \nL 353.39607 157.478838 \nL 355.61184 155.889394 \nL 357.827608 154.030291 \nL 360.228026 151.713895 \nL 362.997737 148.699986 \nL 371.306873 139.349422 \nL 372.968699 137.951518 \nL 374.445879 136.994333 \nL 375.738412 136.414649 \nL 377.030944 136.098812 \nL 378.138829 136.047611 \nL 379.24672 136.200844 \nL 380.354605 136.554135 \nL 381.647137 137.205576 \nL 383.124317 138.235122 \nL 384.786143 139.698955 \nL 386.817266 141.814463 \nL 390.14092 145.675413 \nL 394.387812 150.547023 \nL 396.972874 153.175562 \nL 399.373292 155.300026 \nL 401.58906 156.97827 \nL 403.804831 158.395965 \nL 406.205248 159.664295 \nL 408.605664 160.689686 \nL 411.375376 161.620089 \nL 414.329736 162.372219 \nL 417.653388 162.990737 \nL 421.715634 163.50939 \nL 426.701113 163.907314 \nL 433.348422 164.195905 \nL 443.134735 164.376123 \nL 461.968782 164.459515 \nL 470.093266 164.466806 \nL 470.093266 164.466806 \n\" clip-path=\"url(#p107a319519)\" style=\"fill: none; stroke: #dd8452; stroke-width: 2; stroke-linecap: round\"/>\n   </g>\n   <g id=\"patch_9\">\n    <path d=\"M 276.407315 207.118125 \nL 276.407315 22.318125 \n\" style=\"fill: none; stroke: #ffffff; stroke-width: 1.25; stroke-linejoin: miter; stroke-linecap: square\"/>\n   </g>\n   <g id=\"patch_10\">\n    <path d=\"M 479.316406 207.118125 \nL 479.316406 22.318125 \n\" style=\"fill: none; stroke: #ffffff; stroke-width: 1.25; stroke-linejoin: miter; stroke-linecap: square\"/>\n   </g>\n   <g id=\"patch_11\">\n    <path d=\"M 276.407315 207.118125 \nL 479.316406 207.118125 \n\" style=\"fill: none; stroke: #ffffff; stroke-width: 1.25; stroke-linejoin: miter; stroke-linecap: square\"/>\n   </g>\n   <g id=\"patch_12\">\n    <path d=\"M 276.407315 22.318125 \nL 479.316406 22.318125 \n\" style=\"fill: none; stroke: #ffffff; stroke-width: 1.25; stroke-linejoin: miter; stroke-linecap: square\"/>\n   </g>\n   <g id=\"text_28\">\n    <!-- Tanh -->\n    <g style=\"fill: #262626\" transform=\"translate(363.905298 16.318125) scale(0.12 -0.12)\">\n     <defs>\n      <path id=\"DejaVuSans-54\" d=\"M -19 4666 \nL 3928 4666 \nL 3928 4134 \nL 2272 4134 \nL 2272 0 \nL 1638 0 \nL 1638 4134 \nL -19 4134 \nL -19 4666 \nz\n\" transform=\"scale(0.015625)\"/>\n      <path id=\"DejaVuSans-68\" d=\"M 3513 2113 \nL 3513 0 \nL 2938 0 \nL 2938 2094 \nQ 2938 2591 2744 2837 \nQ 2550 3084 2163 3084 \nQ 1697 3084 1428 2787 \nQ 1159 2491 1159 1978 \nL 1159 0 \nL 581 0 \nL 581 4863 \nL 1159 4863 \nL 1159 2956 \nQ 1366 3272 1645 3428 \nQ 1925 3584 2291 3584 \nQ 2894 3584 3203 3211 \nQ 3513 2838 3513 2113 \nz\n\" transform=\"scale(0.015625)\"/>\n     </defs>\n     <use xlink:href=\"#DejaVuSans-54\"/>\n     <use xlink:href=\"#DejaVuSans-61\" x=\"44.583984\"/>\n     <use xlink:href=\"#DejaVuSans-6e\" x=\"105.863281\"/>\n     <use xlink:href=\"#DejaVuSans-68\" x=\"169.242188\"/>\n    </g>\n   </g>\n   <g id=\"legend_2\">\n    <g id=\"patch_13\">\n     <path d=\"M 388.538906 63.41 \nL 471.616406 63.41 \nQ 473.816406 63.41 473.816406 61.21 \nL 473.816406 30.018125 \nQ 473.816406 27.818125 471.616406 27.818125 \nL 388.538906 27.818125 \nQ 386.338906 27.818125 386.338906 30.018125 \nL 386.338906 61.21 \nQ 386.338906 63.41 388.538906 63.41 \nz\n\" style=\"fill: #eaeaf2; opacity: 0.8; stroke: #cccccc; stroke-linejoin: miter\"/>\n    </g>\n    <g id=\"line2d_31\">\n     <path d=\"M 390.738906 36.726406 \nL 401.738906 36.726406 \nL 412.738906 36.726406 \n\" style=\"fill: none; stroke: #4c72b0; stroke-width: 2; stroke-linecap: round\"/>\n    </g>\n    <g id=\"text_29\">\n     <!-- ActFn -->\n     <g style=\"fill: #262626\" transform=\"translate(421.538906 40.576406) scale(0.11 -0.11)\">\n      <use xlink:href=\"#DejaVuSans-41\"/>\n      <use xlink:href=\"#DejaVuSans-63\" x=\"66.658203\"/>\n      <use xlink:href=\"#DejaVuSans-74\" x=\"121.638672\"/>\n      <use xlink:href=\"#DejaVuSans-46\" x=\"160.847656\"/>\n      <use xlink:href=\"#DejaVuSans-6e\" x=\"218.367188\"/>\n     </g>\n    </g>\n    <g id=\"line2d_32\">\n     <path d=\"M 390.738906 52.872344 \nL 401.738906 52.872344 \nL 412.738906 52.872344 \n\" style=\"fill: none; stroke: #dd8452; stroke-width: 2; stroke-linecap: round\"/>\n    </g>\n    <g id=\"text_30\">\n     <!-- Gradient -->\n     <g style=\"fill: #262626\" transform=\"translate(421.538906 56.722344) scale(0.11 -0.11)\">\n      <use xlink:href=\"#DejaVuSans-47\"/>\n      <use xlink:href=\"#DejaVuSans-72\" x=\"77.490234\"/>\n      <use xlink:href=\"#DejaVuSans-61\" x=\"118.603516\"/>\n      <use xlink:href=\"#DejaVuSans-64\" x=\"179.882812\"/>\n      <use xlink:href=\"#DejaVuSans-69\" x=\"243.359375\"/>\n      <use xlink:href=\"#DejaVuSans-65\" x=\"271.142578\"/>\n      <use xlink:href=\"#DejaVuSans-6e\" x=\"332.666016\"/>\n      <use xlink:href=\"#DejaVuSans-74\" x=\"396.044922\"/>\n     </g>\n    </g>\n   </g>\n  </g>\n  <g id=\"axes_3\">\n   <g id=\"patch_14\">\n    <path d=\"M 32.916406 447.358125 \nL 235.825497 447.358125 \nL 235.825497 262.558125 \nL 32.916406 262.558125 \nz\n\" style=\"fill: #eaeaf2\"/>\n   </g>\n   <g id=\"matplotlib.axis_5\">\n    <g id=\"xtick_11\">\n     <g id=\"line2d_33\">\n      <path d=\"M 60.585828 447.358125 \nL 60.585828 262.558125 \n\" clip-path=\"url(#pde13e98763)\" style=\"fill: none; stroke: #ffffff; stroke-linecap: round\"/>\n     </g>\n     <g id=\"text_31\">\n      <!-- −4 -->\n      <g style=\"fill: #262626\" transform=\"translate(52.477625 465.216406) scale(0.11 -0.11)\">\n       <use xlink:href=\"#DejaVuSans-2212\"/>\n       <use xlink:href=\"#DejaVuSans-34\" x=\"83.789062\"/>\n      </g>\n     </g>\n    </g>\n    <g id=\"xtick_12\">\n     <g id=\"line2d_34\">\n      <path d=\"M 97.47839 447.358125 \nL 97.47839 262.558125 \n\" clip-path=\"url(#pde13e98763)\" style=\"fill: none; stroke: #ffffff; stroke-linecap: round\"/>\n     </g>\n     <g id=\"text_32\">\n      <!-- −2 -->\n      <g style=\"fill: #262626\" transform=\"translate(89.370187 465.216406) scale(0.11 -0.11)\">\n       <use xlink:href=\"#DejaVuSans-2212\"/>\n       <use xlink:href=\"#DejaVuSans-32\" x=\"83.789062\"/>\n      </g>\n     </g>\n    </g>\n    <g id=\"xtick_13\">\n     <g id=\"line2d_35\">\n      <path d=\"M 134.370952 447.358125 \nL 134.370952 262.558125 \n\" clip-path=\"url(#pde13e98763)\" style=\"fill: none; stroke: #ffffff; stroke-linecap: round\"/>\n     </g>\n     <g id=\"text_33\">\n      <!-- 0 -->\n      <g style=\"fill: #262626\" transform=\"translate(130.871577 465.216406) scale(0.11 -0.11)\">\n       <use xlink:href=\"#DejaVuSans-30\"/>\n      </g>\n     </g>\n    </g>\n    <g id=\"xtick_14\">\n     <g id=\"line2d_36\">\n      <path d=\"M 171.263514 447.358125 \nL 171.263514 262.558125 \n\" clip-path=\"url(#pde13e98763)\" style=\"fill: none; stroke: #ffffff; stroke-linecap: round\"/>\n     </g>\n     <g id=\"text_34\">\n      <!-- 2 -->\n      <g style=\"fill: #262626\" transform=\"translate(167.764139 465.216406) scale(0.11 -0.11)\">\n       <use xlink:href=\"#DejaVuSans-32\"/>\n      </g>\n     </g>\n    </g>\n    <g id=\"xtick_15\">\n     <g id=\"line2d_37\">\n      <path d=\"M 208.156076 447.358125 \nL 208.156076 262.558125 \n\" clip-path=\"url(#pde13e98763)\" style=\"fill: none; stroke: #ffffff; stroke-linecap: round\"/>\n     </g>\n     <g id=\"text_35\">\n      <!-- 4 -->\n      <g style=\"fill: #262626\" transform=\"translate(204.656701 465.216406) scale(0.11 -0.11)\">\n       <use xlink:href=\"#DejaVuSans-34\"/>\n      </g>\n     </g>\n    </g>\n   </g>\n   <g id=\"matplotlib.axis_6\">\n    <g id=\"ytick_15\">\n     <g id=\"line2d_38\">\n      <path d=\"M 32.916406 433.14274 \nL 235.825497 433.14274 \n\" clip-path=\"url(#pde13e98763)\" style=\"fill: none; stroke: #ffffff; stroke-linecap: round\"/>\n     </g>\n     <g id=\"text_36\">\n      <!-- −1 -->\n      <g style=\"fill: #262626\" transform=\"translate(7.2 437.321881) scale(0.11 -0.11)\">\n       <use xlink:href=\"#DejaVuSans-2212\"/>\n       <use xlink:href=\"#DejaVuSans-31\" x=\"83.789062\"/>\n      </g>\n     </g>\n    </g>\n    <g id=\"ytick_16\">\n     <g id=\"line2d_39\">\n      <path d=\"M 32.916406 404.711971 \nL 235.825497 404.711971 \n\" clip-path=\"url(#pde13e98763)\" style=\"fill: none; stroke: #ffffff; stroke-linecap: round\"/>\n     </g>\n     <g id=\"text_37\">\n      <!-- 0 -->\n      <g style=\"fill: #262626\" transform=\"translate(16.417656 408.891112) scale(0.11 -0.11)\">\n       <use xlink:href=\"#DejaVuSans-30\"/>\n      </g>\n     </g>\n    </g>\n    <g id=\"ytick_17\">\n     <g id=\"line2d_40\">\n      <path d=\"M 32.916406 376.281202 \nL 235.825497 376.281202 \n\" clip-path=\"url(#pde13e98763)\" style=\"fill: none; stroke: #ffffff; stroke-linecap: round\"/>\n     </g>\n     <g id=\"text_38\">\n      <!-- 1 -->\n      <g style=\"fill: #262626\" transform=\"translate(16.417656 380.460343) scale(0.11 -0.11)\">\n       <use xlink:href=\"#DejaVuSans-31\"/>\n      </g>\n     </g>\n    </g>\n    <g id=\"ytick_18\">\n     <g id=\"line2d_41\">\n      <path d=\"M 32.916406 347.850433 \nL 235.825497 347.850433 \n\" clip-path=\"url(#pde13e98763)\" style=\"fill: none; stroke: #ffffff; stroke-linecap: round\"/>\n     </g>\n     <g id=\"text_39\">\n      <!-- 2 -->\n      <g style=\"fill: #262626\" transform=\"translate(16.417656 352.029573) scale(0.11 -0.11)\">\n       <use xlink:href=\"#DejaVuSans-32\"/>\n      </g>\n     </g>\n    </g>\n    <g id=\"ytick_19\">\n     <g id=\"line2d_42\">\n      <path d=\"M 32.916406 319.419663 \nL 235.825497 319.419663 \n\" clip-path=\"url(#pde13e98763)\" style=\"fill: none; stroke: #ffffff; stroke-linecap: round\"/>\n     </g>\n     <g id=\"text_40\">\n      <!-- 3 -->\n      <g style=\"fill: #262626\" transform=\"translate(16.417656 323.598804) scale(0.11 -0.11)\">\n       <use xlink:href=\"#DejaVuSans-33\"/>\n      </g>\n     </g>\n    </g>\n    <g id=\"ytick_20\">\n     <g id=\"line2d_43\">\n      <path d=\"M 32.916406 290.988894 \nL 235.825497 290.988894 \n\" clip-path=\"url(#pde13e98763)\" style=\"fill: none; stroke: #ffffff; stroke-linecap: round\"/>\n     </g>\n     <g id=\"text_41\">\n      <!-- 4 -->\n      <g style=\"fill: #262626\" transform=\"translate(16.417656 295.168035) scale(0.11 -0.11)\">\n       <use xlink:href=\"#DejaVuSans-34\"/>\n      </g>\n     </g>\n    </g>\n    <g id=\"ytick_21\">\n     <g id=\"line2d_44\">\n      <path d=\"M 32.916406 262.558125 \nL 235.825497 262.558125 \n\" clip-path=\"url(#pde13e98763)\" style=\"fill: none; stroke: #ffffff; stroke-linecap: round\"/>\n     </g>\n     <g id=\"text_42\">\n      <!-- 5 -->\n      <g style=\"fill: #262626\" transform=\"translate(16.417656 266.737266) scale(0.11 -0.11)\">\n       <use xlink:href=\"#DejaVuSans-35\"/>\n      </g>\n     </g>\n    </g>\n   </g>\n   <g id=\"line2d_45\">\n    <path d=\"M 42.139547 404.711971 \nL 134.278624 404.711971 \nL 134.463272 404.56968 \nL 226.602357 262.558125 \nL 226.602357 262.558125 \n\" clip-path=\"url(#pde13e98763)\" style=\"fill: none; stroke: #4c72b0; stroke-width: 2; stroke-linecap: round\"/>\n   </g>\n   <g id=\"line2d_46\">\n    <path d=\"M 42.139547 404.711971 \nL 134.278624 404.711971 \nL 134.463272 376.281202 \nL 226.602357 376.281202 \nL 226.602357 376.281202 \n\" clip-path=\"url(#pde13e98763)\" style=\"fill: none; stroke: #dd8452; stroke-width: 2; stroke-linecap: round\"/>\n   </g>\n   <g id=\"patch_15\">\n    <path d=\"M 32.916406 447.358125 \nL 32.916406 262.558125 \n\" style=\"fill: none; stroke: #ffffff; stroke-width: 1.25; stroke-linejoin: miter; stroke-linecap: square\"/>\n   </g>\n   <g id=\"patch_16\">\n    <path d=\"M 235.825497 447.358125 \nL 235.825497 262.558125 \n\" style=\"fill: none; stroke: #ffffff; stroke-width: 1.25; stroke-linejoin: miter; stroke-linecap: square\"/>\n   </g>\n   <g id=\"patch_17\">\n    <path d=\"M 32.916406 447.358125 \nL 235.825497 447.358125 \n\" style=\"fill: none; stroke: #ffffff; stroke-width: 1.25; stroke-linejoin: miter; stroke-linecap: square\"/>\n   </g>\n   <g id=\"patch_18\">\n    <path d=\"M 32.916406 262.558125 \nL 235.825497 262.558125 \n\" style=\"fill: none; stroke: #ffffff; stroke-width: 1.25; stroke-linejoin: miter; stroke-linecap: square\"/>\n   </g>\n   <g id=\"text_43\">\n    <!-- ReLU -->\n    <g style=\"fill: #262626\" transform=\"translate(119.345639 256.558125) scale(0.12 -0.12)\">\n     <defs>\n      <path id=\"DejaVuSans-52\" d=\"M 2841 2188 \nQ 3044 2119 3236 1894 \nQ 3428 1669 3622 1275 \nL 4263 0 \nL 3584 0 \nL 2988 1197 \nQ 2756 1666 2539 1819 \nQ 2322 1972 1947 1972 \nL 1259 1972 \nL 1259 0 \nL 628 0 \nL 628 4666 \nL 2053 4666 \nQ 2853 4666 3247 4331 \nQ 3641 3997 3641 3322 \nQ 3641 2881 3436 2590 \nQ 3231 2300 2841 2188 \nz\nM 1259 4147 \nL 1259 2491 \nL 2053 2491 \nQ 2509 2491 2742 2702 \nQ 2975 2913 2975 3322 \nQ 2975 3731 2742 3939 \nQ 2509 4147 2053 4147 \nL 1259 4147 \nz\n\" transform=\"scale(0.015625)\"/>\n      <path id=\"DejaVuSans-4c\" d=\"M 628 4666 \nL 1259 4666 \nL 1259 531 \nL 3531 531 \nL 3531 0 \nL 628 0 \nL 628 4666 \nz\n\" transform=\"scale(0.015625)\"/>\n      <path id=\"DejaVuSans-55\" d=\"M 556 4666 \nL 1191 4666 \nL 1191 1831 \nQ 1191 1081 1462 751 \nQ 1734 422 2344 422 \nQ 2950 422 3222 751 \nQ 3494 1081 3494 1831 \nL 3494 4666 \nL 4128 4666 \nL 4128 1753 \nQ 4128 841 3676 375 \nQ 3225 -91 2344 -91 \nQ 1459 -91 1007 375 \nQ 556 841 556 1753 \nL 556 4666 \nz\n\" transform=\"scale(0.015625)\"/>\n     </defs>\n     <use xlink:href=\"#DejaVuSans-52\"/>\n     <use xlink:href=\"#DejaVuSans-65\" x=\"64.982422\"/>\n     <use xlink:href=\"#DejaVuSans-4c\" x=\"126.505859\"/>\n     <use xlink:href=\"#DejaVuSans-55\" x=\"177.21875\"/>\n    </g>\n   </g>\n   <g id=\"legend_3\">\n    <g id=\"patch_19\">\n     <path d=\"M 40.616406 303.65 \nL 123.693906 303.65 \nQ 125.893906 303.65 125.893906 301.45 \nL 125.893906 270.258125 \nQ 125.893906 268.058125 123.693906 268.058125 \nL 40.616406 268.058125 \nQ 38.416406 268.058125 38.416406 270.258125 \nL 38.416406 301.45 \nQ 38.416406 303.65 40.616406 303.65 \nz\n\" style=\"fill: #eaeaf2; opacity: 0.8; stroke: #cccccc; stroke-linejoin: miter\"/>\n    </g>\n    <g id=\"line2d_47\">\n     <path d=\"M 42.816406 276.966406 \nL 53.816406 276.966406 \nL 64.816406 276.966406 \n\" style=\"fill: none; stroke: #4c72b0; stroke-width: 2; stroke-linecap: round\"/>\n    </g>\n    <g id=\"text_44\">\n     <!-- ActFn -->\n     <g style=\"fill: #262626\" transform=\"translate(73.616406 280.816406) scale(0.11 -0.11)\">\n      <use xlink:href=\"#DejaVuSans-41\"/>\n      <use xlink:href=\"#DejaVuSans-63\" x=\"66.658203\"/>\n      <use xlink:href=\"#DejaVuSans-74\" x=\"121.638672\"/>\n      <use xlink:href=\"#DejaVuSans-46\" x=\"160.847656\"/>\n      <use xlink:href=\"#DejaVuSans-6e\" x=\"218.367188\"/>\n     </g>\n    </g>\n    <g id=\"line2d_48\">\n     <path d=\"M 42.816406 293.112344 \nL 53.816406 293.112344 \nL 64.816406 293.112344 \n\" style=\"fill: none; stroke: #dd8452; stroke-width: 2; stroke-linecap: round\"/>\n    </g>\n    <g id=\"text_45\">\n     <!-- Gradient -->\n     <g style=\"fill: #262626\" transform=\"translate(73.616406 296.962344) scale(0.11 -0.11)\">\n      <use xlink:href=\"#DejaVuSans-47\"/>\n      <use xlink:href=\"#DejaVuSans-72\" x=\"77.490234\"/>\n      <use xlink:href=\"#DejaVuSans-61\" x=\"118.603516\"/>\n      <use xlink:href=\"#DejaVuSans-64\" x=\"179.882812\"/>\n      <use xlink:href=\"#DejaVuSans-69\" x=\"243.359375\"/>\n      <use xlink:href=\"#DejaVuSans-65\" x=\"271.142578\"/>\n      <use xlink:href=\"#DejaVuSans-6e\" x=\"332.666016\"/>\n      <use xlink:href=\"#DejaVuSans-74\" x=\"396.044922\"/>\n     </g>\n    </g>\n   </g>\n  </g>\n  <g id=\"axes_4\">\n   <g id=\"patch_20\">\n    <path d=\"M 276.407315 447.358125 \nL 479.316406 447.358125 \nL 479.316406 262.558125 \nL 276.407315 262.558125 \nz\n\" style=\"fill: #eaeaf2\"/>\n   </g>\n   <g id=\"matplotlib.axis_7\">\n    <g id=\"xtick_16\">\n     <g id=\"line2d_49\">\n      <path d=\"M 304.076737 447.358125 \nL 304.076737 262.558125 \n\" clip-path=\"url(#pe05ec853a9)\" style=\"fill: none; stroke: #ffffff; stroke-linecap: round\"/>\n     </g>\n     <g id=\"text_46\">\n      <!-- −4 -->\n      <g style=\"fill: #262626\" transform=\"translate(295.968534 465.216406) scale(0.11 -0.11)\">\n       <use xlink:href=\"#DejaVuSans-2212\"/>\n       <use xlink:href=\"#DejaVuSans-34\" x=\"83.789062\"/>\n      </g>\n     </g>\n    </g>\n    <g id=\"xtick_17\">\n     <g id=\"line2d_50\">\n      <path d=\"M 340.969299 447.358125 \nL 340.969299 262.558125 \n\" clip-path=\"url(#pe05ec853a9)\" style=\"fill: none; stroke: #ffffff; stroke-linecap: round\"/>\n     </g>\n     <g id=\"text_47\">\n      <!-- −2 -->\n      <g style=\"fill: #262626\" transform=\"translate(332.861096 465.216406) scale(0.11 -0.11)\">\n       <use xlink:href=\"#DejaVuSans-2212\"/>\n       <use xlink:href=\"#DejaVuSans-32\" x=\"83.789062\"/>\n      </g>\n     </g>\n    </g>\n    <g id=\"xtick_18\">\n     <g id=\"line2d_51\">\n      <path d=\"M 377.861861 447.358125 \nL 377.861861 262.558125 \n\" clip-path=\"url(#pe05ec853a9)\" style=\"fill: none; stroke: #ffffff; stroke-linecap: round\"/>\n     </g>\n     <g id=\"text_48\">\n      <!-- 0 -->\n      <g style=\"fill: #262626\" transform=\"translate(374.362486 465.216406) scale(0.11 -0.11)\">\n       <use xlink:href=\"#DejaVuSans-30\"/>\n      </g>\n     </g>\n    </g>\n    <g id=\"xtick_19\">\n     <g id=\"line2d_52\">\n      <path d=\"M 414.754423 447.358125 \nL 414.754423 262.558125 \n\" clip-path=\"url(#pe05ec853a9)\" style=\"fill: none; stroke: #ffffff; stroke-linecap: round\"/>\n     </g>\n     <g id=\"text_49\">\n      <!-- 2 -->\n      <g style=\"fill: #262626\" transform=\"translate(411.255048 465.216406) scale(0.11 -0.11)\">\n       <use xlink:href=\"#DejaVuSans-32\"/>\n      </g>\n     </g>\n    </g>\n    <g id=\"xtick_20\">\n     <g id=\"line2d_53\">\n      <path d=\"M 451.646985 447.358125 \nL 451.646985 262.558125 \n\" clip-path=\"url(#pe05ec853a9)\" style=\"fill: none; stroke: #ffffff; stroke-linecap: round\"/>\n     </g>\n     <g id=\"text_50\">\n      <!-- 4 -->\n      <g style=\"fill: #262626\" transform=\"translate(448.14761 465.216406) scale(0.11 -0.11)\">\n       <use xlink:href=\"#DejaVuSans-34\"/>\n      </g>\n     </g>\n    </g>\n   </g>\n   <g id=\"matplotlib.axis_8\">\n    <g id=\"ytick_22\">\n     <g id=\"line2d_54\">\n      <path d=\"M 276.407315 433.14274 \nL 479.316406 433.14274 \n\" clip-path=\"url(#pe05ec853a9)\" style=\"fill: none; stroke: #ffffff; stroke-linecap: round\"/>\n     </g>\n     <g id=\"text_51\">\n      <!-- −1 -->\n      <g style=\"fill: #262626\" transform=\"translate(250.690909 437.321881) scale(0.11 -0.11)\">\n       <use xlink:href=\"#DejaVuSans-2212\"/>\n       <use xlink:href=\"#DejaVuSans-31\" x=\"83.789062\"/>\n      </g>\n     </g>\n    </g>\n    <g id=\"ytick_23\">\n     <g id=\"line2d_55\">\n      <path d=\"M 276.407315 404.711971 \nL 479.316406 404.711971 \n\" clip-path=\"url(#pe05ec853a9)\" style=\"fill: none; stroke: #ffffff; stroke-linecap: round\"/>\n     </g>\n     <g id=\"text_52\">\n      <!-- 0 -->\n      <g style=\"fill: #262626\" transform=\"translate(259.908565 408.891112) scale(0.11 -0.11)\">\n       <use xlink:href=\"#DejaVuSans-30\"/>\n      </g>\n     </g>\n    </g>\n    <g id=\"ytick_24\">\n     <g id=\"line2d_56\">\n      <path d=\"M 276.407315 376.281202 \nL 479.316406 376.281202 \n\" clip-path=\"url(#pe05ec853a9)\" style=\"fill: none; stroke: #ffffff; stroke-linecap: round\"/>\n     </g>\n     <g id=\"text_53\">\n      <!-- 1 -->\n      <g style=\"fill: #262626\" transform=\"translate(259.908565 380.460343) scale(0.11 -0.11)\">\n       <use xlink:href=\"#DejaVuSans-31\"/>\n      </g>\n     </g>\n    </g>\n    <g id=\"ytick_25\">\n     <g id=\"line2d_57\">\n      <path d=\"M 276.407315 347.850433 \nL 479.316406 347.850433 \n\" clip-path=\"url(#pe05ec853a9)\" style=\"fill: none; stroke: #ffffff; stroke-linecap: round\"/>\n     </g>\n     <g id=\"text_54\">\n      <!-- 2 -->\n      <g style=\"fill: #262626\" transform=\"translate(259.908565 352.029573) scale(0.11 -0.11)\">\n       <use xlink:href=\"#DejaVuSans-32\"/>\n      </g>\n     </g>\n    </g>\n    <g id=\"ytick_26\">\n     <g id=\"line2d_58\">\n      <path d=\"M 276.407315 319.419663 \nL 479.316406 319.419663 \n\" clip-path=\"url(#pe05ec853a9)\" style=\"fill: none; stroke: #ffffff; stroke-linecap: round\"/>\n     </g>\n     <g id=\"text_55\">\n      <!-- 3 -->\n      <g style=\"fill: #262626\" transform=\"translate(259.908565 323.598804) scale(0.11 -0.11)\">\n       <use xlink:href=\"#DejaVuSans-33\"/>\n      </g>\n     </g>\n    </g>\n    <g id=\"ytick_27\">\n     <g id=\"line2d_59\">\n      <path d=\"M 276.407315 290.988894 \nL 479.316406 290.988894 \n\" clip-path=\"url(#pe05ec853a9)\" style=\"fill: none; stroke: #ffffff; stroke-linecap: round\"/>\n     </g>\n     <g id=\"text_56\">\n      <!-- 4 -->\n      <g style=\"fill: #262626\" transform=\"translate(259.908565 295.168035) scale(0.11 -0.11)\">\n       <use xlink:href=\"#DejaVuSans-34\"/>\n      </g>\n     </g>\n    </g>\n    <g id=\"ytick_28\">\n     <g id=\"line2d_60\">\n      <path d=\"M 276.407315 262.558125 \nL 479.316406 262.558125 \n\" clip-path=\"url(#pe05ec853a9)\" style=\"fill: none; stroke: #ffffff; stroke-linecap: round\"/>\n     </g>\n     <g id=\"text_57\">\n      <!-- 5 -->\n      <g style=\"fill: #262626\" transform=\"translate(259.908565 266.737266) scale(0.11 -0.11)\">\n       <use xlink:href=\"#DejaVuSans-35\"/>\n      </g>\n     </g>\n    </g>\n   </g>\n   <g id=\"line2d_61\">\n    <path d=\"M 285.630456 418.927356 \nL 377.769534 404.726201 \nL 378.138829 404.285088 \nL 470.093266 262.558125 \nL 470.093266 262.558125 \n\" clip-path=\"url(#pe05ec853a9)\" style=\"fill: none; stroke: #4c72b0; stroke-width: 2; stroke-linecap: round\"/>\n   </g>\n   <g id=\"line2d_62\">\n    <path d=\"M 285.630456 401.868894 \nL 377.769534 401.868894 \nL 377.954181 376.281202 \nL 470.093266 376.281202 \nL 470.093266 376.281202 \n\" clip-path=\"url(#pe05ec853a9)\" style=\"fill: none; stroke: #dd8452; stroke-width: 2; stroke-linecap: round\"/>\n   </g>\n   <g id=\"patch_21\">\n    <path d=\"M 276.407315 447.358125 \nL 276.407315 262.558125 \n\" style=\"fill: none; stroke: #ffffff; stroke-width: 1.25; stroke-linejoin: miter; stroke-linecap: square\"/>\n   </g>\n   <g id=\"patch_22\">\n    <path d=\"M 479.316406 447.358125 \nL 479.316406 262.558125 \n\" style=\"fill: none; stroke: #ffffff; stroke-width: 1.25; stroke-linejoin: miter; stroke-linecap: square\"/>\n   </g>\n   <g id=\"patch_23\">\n    <path d=\"M 276.407315 447.358125 \nL 479.316406 447.358125 \n\" style=\"fill: none; stroke: #ffffff; stroke-width: 1.25; stroke-linejoin: miter; stroke-linecap: square\"/>\n   </g>\n   <g id=\"patch_24\">\n    <path d=\"M 276.407315 262.558125 \nL 479.316406 262.558125 \n\" style=\"fill: none; stroke: #ffffff; stroke-width: 1.25; stroke-linejoin: miter; stroke-linecap: square\"/>\n   </g>\n   <g id=\"text_58\">\n    <!-- LeakyReLU -->\n    <g style=\"fill: #262626\" transform=\"translate(345.421548 256.558125) scale(0.12 -0.12)\">\n     <defs>\n      <path id=\"DejaVuSans-6b\" d=\"M 581 4863 \nL 1159 4863 \nL 1159 1991 \nL 2875 3500 \nL 3609 3500 \nL 1753 1863 \nL 3688 0 \nL 2938 0 \nL 1159 1709 \nL 1159 0 \nL 581 0 \nL 581 4863 \nz\n\" transform=\"scale(0.015625)\"/>\n      <path id=\"DejaVuSans-79\" d=\"M 2059 -325 \nQ 1816 -950 1584 -1140 \nQ 1353 -1331 966 -1331 \nL 506 -1331 \nL 506 -850 \nL 844 -850 \nQ 1081 -850 1212 -737 \nQ 1344 -625 1503 -206 \nL 1606 56 \nL 191 3500 \nL 800 3500 \nL 1894 763 \nL 2988 3500 \nL 3597 3500 \nL 2059 -325 \nz\n\" transform=\"scale(0.015625)\"/>\n     </defs>\n     <use xlink:href=\"#DejaVuSans-4c\"/>\n     <use xlink:href=\"#DejaVuSans-65\" x=\"53.962891\"/>\n     <use xlink:href=\"#DejaVuSans-61\" x=\"115.486328\"/>\n     <use xlink:href=\"#DejaVuSans-6b\" x=\"176.765625\"/>\n     <use xlink:href=\"#DejaVuSans-79\" x=\"231.050781\"/>\n     <use xlink:href=\"#DejaVuSans-52\" x=\"290.230469\"/>\n     <use xlink:href=\"#DejaVuSans-65\" x=\"355.212891\"/>\n     <use xlink:href=\"#DejaVuSans-4c\" x=\"416.736328\"/>\n     <use xlink:href=\"#DejaVuSans-55\" x=\"467.449219\"/>\n    </g>\n   </g>\n   <g id=\"legend_4\">\n    <g id=\"patch_25\">\n     <path d=\"M 284.107315 303.65 \nL 367.184815 303.65 \nQ 369.384815 303.65 369.384815 301.45 \nL 369.384815 270.258125 \nQ 369.384815 268.058125 367.184815 268.058125 \nL 284.107315 268.058125 \nQ 281.907315 268.058125 281.907315 270.258125 \nL 281.907315 301.45 \nQ 281.907315 303.65 284.107315 303.65 \nz\n\" style=\"fill: #eaeaf2; opacity: 0.8; stroke: #cccccc; stroke-linejoin: miter\"/>\n    </g>\n    <g id=\"line2d_63\">\n     <path d=\"M 286.307315 276.966406 \nL 297.307315 276.966406 \nL 308.307315 276.966406 \n\" style=\"fill: none; stroke: #4c72b0; stroke-width: 2; stroke-linecap: round\"/>\n    </g>\n    <g id=\"text_59\">\n     <!-- ActFn -->\n     <g style=\"fill: #262626\" transform=\"translate(317.107315 280.816406) scale(0.11 -0.11)\">\n      <use xlink:href=\"#DejaVuSans-41\"/>\n      <use xlink:href=\"#DejaVuSans-63\" x=\"66.658203\"/>\n      <use xlink:href=\"#DejaVuSans-74\" x=\"121.638672\"/>\n      <use xlink:href=\"#DejaVuSans-46\" x=\"160.847656\"/>\n      <use xlink:href=\"#DejaVuSans-6e\" x=\"218.367188\"/>\n     </g>\n    </g>\n    <g id=\"line2d_64\">\n     <path d=\"M 286.307315 293.112344 \nL 297.307315 293.112344 \nL 308.307315 293.112344 \n\" style=\"fill: none; stroke: #dd8452; stroke-width: 2; stroke-linecap: round\"/>\n    </g>\n    <g id=\"text_60\">\n     <!-- Gradient -->\n     <g style=\"fill: #262626\" transform=\"translate(317.107315 296.962344) scale(0.11 -0.11)\">\n      <use xlink:href=\"#DejaVuSans-47\"/>\n      <use xlink:href=\"#DejaVuSans-72\" x=\"77.490234\"/>\n      <use xlink:href=\"#DejaVuSans-61\" x=\"118.603516\"/>\n      <use xlink:href=\"#DejaVuSans-64\" x=\"179.882812\"/>\n      <use xlink:href=\"#DejaVuSans-69\" x=\"243.359375\"/>\n      <use xlink:href=\"#DejaVuSans-65\" x=\"271.142578\"/>\n      <use xlink:href=\"#DejaVuSans-6e\" x=\"332.666016\"/>\n      <use xlink:href=\"#DejaVuSans-74\" x=\"396.044922\"/>\n     </g>\n    </g>\n   </g>\n  </g>\n  <g id=\"axes_5\">\n   <g id=\"patch_26\">\n    <path d=\"M 32.916406 687.598125 \nL 235.825497 687.598125 \nL 235.825497 502.798125 \nL 32.916406 502.798125 \nz\n\" style=\"fill: #eaeaf2\"/>\n   </g>\n   <g id=\"matplotlib.axis_9\">\n    <g id=\"xtick_21\">\n     <g id=\"line2d_65\">\n      <path d=\"M 60.585828 687.598125 \nL 60.585828 502.798125 \n\" clip-path=\"url(#p7a9d7df2c4)\" style=\"fill: none; stroke: #ffffff; stroke-linecap: round\"/>\n     </g>\n     <g id=\"text_61\">\n      <!-- −4 -->\n      <g style=\"fill: #262626\" transform=\"translate(52.477625 705.456406) scale(0.11 -0.11)\">\n       <use xlink:href=\"#DejaVuSans-2212\"/>\n       <use xlink:href=\"#DejaVuSans-34\" x=\"83.789062\"/>\n      </g>\n     </g>\n    </g>\n    <g id=\"xtick_22\">\n     <g id=\"line2d_66\">\n      <path d=\"M 97.47839 687.598125 \nL 97.47839 502.798125 \n\" clip-path=\"url(#p7a9d7df2c4)\" style=\"fill: none; stroke: #ffffff; stroke-linecap: round\"/>\n     </g>\n     <g id=\"text_62\">\n      <!-- −2 -->\n      <g style=\"fill: #262626\" transform=\"translate(89.370187 705.456406) scale(0.11 -0.11)\">\n       <use xlink:href=\"#DejaVuSans-2212\"/>\n       <use xlink:href=\"#DejaVuSans-32\" x=\"83.789062\"/>\n      </g>\n     </g>\n    </g>\n    <g id=\"xtick_23\">\n     <g id=\"line2d_67\">\n      <path d=\"M 134.370952 687.598125 \nL 134.370952 502.798125 \n\" clip-path=\"url(#p7a9d7df2c4)\" style=\"fill: none; stroke: #ffffff; stroke-linecap: round\"/>\n     </g>\n     <g id=\"text_63\">\n      <!-- 0 -->\n      <g style=\"fill: #262626\" transform=\"translate(130.871577 705.456406) scale(0.11 -0.11)\">\n       <use xlink:href=\"#DejaVuSans-30\"/>\n      </g>\n     </g>\n    </g>\n    <g id=\"xtick_24\">\n     <g id=\"line2d_68\">\n      <path d=\"M 171.263514 687.598125 \nL 171.263514 502.798125 \n\" clip-path=\"url(#p7a9d7df2c4)\" style=\"fill: none; stroke: #ffffff; stroke-linecap: round\"/>\n     </g>\n     <g id=\"text_64\">\n      <!-- 2 -->\n      <g style=\"fill: #262626\" transform=\"translate(167.764139 705.456406) scale(0.11 -0.11)\">\n       <use xlink:href=\"#DejaVuSans-32\"/>\n      </g>\n     </g>\n    </g>\n    <g id=\"xtick_25\">\n     <g id=\"line2d_69\">\n      <path d=\"M 208.156076 687.598125 \nL 208.156076 502.798125 \n\" clip-path=\"url(#p7a9d7df2c4)\" style=\"fill: none; stroke: #ffffff; stroke-linecap: round\"/>\n     </g>\n     <g id=\"text_65\">\n      <!-- 4 -->\n      <g style=\"fill: #262626\" transform=\"translate(204.656701 705.456406) scale(0.11 -0.11)\">\n       <use xlink:href=\"#DejaVuSans-34\"/>\n      </g>\n     </g>\n    </g>\n   </g>\n   <g id=\"matplotlib.axis_10\">\n    <g id=\"ytick_29\">\n     <g id=\"line2d_70\">\n      <path d=\"M 32.916406 673.38274 \nL 235.825497 673.38274 \n\" clip-path=\"url(#p7a9d7df2c4)\" style=\"fill: none; stroke: #ffffff; stroke-linecap: round\"/>\n     </g>\n     <g id=\"text_66\">\n      <!-- −1 -->\n      <g style=\"fill: #262626\" transform=\"translate(7.2 677.561881) scale(0.11 -0.11)\">\n       <use xlink:href=\"#DejaVuSans-2212\"/>\n       <use xlink:href=\"#DejaVuSans-31\" x=\"83.789062\"/>\n      </g>\n     </g>\n    </g>\n    <g id=\"ytick_30\">\n     <g id=\"line2d_71\">\n      <path d=\"M 32.916406 644.951971 \nL 235.825497 644.951971 \n\" clip-path=\"url(#p7a9d7df2c4)\" style=\"fill: none; stroke: #ffffff; stroke-linecap: round\"/>\n     </g>\n     <g id=\"text_67\">\n      <!-- 0 -->\n      <g style=\"fill: #262626\" transform=\"translate(16.417656 649.131112) scale(0.11 -0.11)\">\n       <use xlink:href=\"#DejaVuSans-30\"/>\n      </g>\n     </g>\n    </g>\n    <g id=\"ytick_31\">\n     <g id=\"line2d_72\">\n      <path d=\"M 32.916406 616.521202 \nL 235.825497 616.521202 \n\" clip-path=\"url(#p7a9d7df2c4)\" style=\"fill: none; stroke: #ffffff; stroke-linecap: round\"/>\n     </g>\n     <g id=\"text_68\">\n      <!-- 1 -->\n      <g style=\"fill: #262626\" transform=\"translate(16.417656 620.700343) scale(0.11 -0.11)\">\n       <use xlink:href=\"#DejaVuSans-31\"/>\n      </g>\n     </g>\n    </g>\n    <g id=\"ytick_32\">\n     <g id=\"line2d_73\">\n      <path d=\"M 32.916406 588.090433 \nL 235.825497 588.090433 \n\" clip-path=\"url(#p7a9d7df2c4)\" style=\"fill: none; stroke: #ffffff; stroke-linecap: round\"/>\n     </g>\n     <g id=\"text_69\">\n      <!-- 2 -->\n      <g style=\"fill: #262626\" transform=\"translate(16.417656 592.269573) scale(0.11 -0.11)\">\n       <use xlink:href=\"#DejaVuSans-32\"/>\n      </g>\n     </g>\n    </g>\n    <g id=\"ytick_33\">\n     <g id=\"line2d_74\">\n      <path d=\"M 32.916406 559.659663 \nL 235.825497 559.659663 \n\" clip-path=\"url(#p7a9d7df2c4)\" style=\"fill: none; stroke: #ffffff; stroke-linecap: round\"/>\n     </g>\n     <g id=\"text_70\">\n      <!-- 3 -->\n      <g style=\"fill: #262626\" transform=\"translate(16.417656 563.838804) scale(0.11 -0.11)\">\n       <use xlink:href=\"#DejaVuSans-33\"/>\n      </g>\n     </g>\n    </g>\n    <g id=\"ytick_34\">\n     <g id=\"line2d_75\">\n      <path d=\"M 32.916406 531.228894 \nL 235.825497 531.228894 \n\" clip-path=\"url(#p7a9d7df2c4)\" style=\"fill: none; stroke: #ffffff; stroke-linecap: round\"/>\n     </g>\n     <g id=\"text_71\">\n      <!-- 4 -->\n      <g style=\"fill: #262626\" transform=\"translate(16.417656 535.408035) scale(0.11 -0.11)\">\n       <use xlink:href=\"#DejaVuSans-34\"/>\n      </g>\n     </g>\n    </g>\n    <g id=\"ytick_35\">\n     <g id=\"line2d_76\">\n      <path d=\"M 32.916406 502.798125 \nL 235.825497 502.798125 \n\" clip-path=\"url(#p7a9d7df2c4)\" style=\"fill: none; stroke: #ffffff; stroke-linecap: round\"/>\n     </g>\n     <g id=\"text_72\">\n      <!-- 5 -->\n      <g style=\"fill: #262626\" transform=\"translate(16.417656 506.977266) scale(0.11 -0.11)\">\n       <use xlink:href=\"#DejaVuSans-35\"/>\n      </g>\n     </g>\n    </g>\n   </g>\n   <g id=\"line2d_77\">\n    <path d=\"M 42.139547 673.191175 \nL 58.942469 672.906397 \nL 70.205961 672.505528 \nL 78.699739 671.992531 \nL 85.531695 671.369342 \nL 91.255768 670.63677 \nL 96.24125 669.784645 \nL 100.672789 668.807565 \nL 104.735033 667.680466 \nL 108.243332 666.485955 \nL 111.566989 665.124301 \nL 114.705994 663.592307 \nL 117.660354 661.891719 \nL 120.430066 660.030075 \nL 123.01513 658.021367 \nL 125.415547 655.886494 \nL 127.815964 653.454926 \nL 130.21638 650.685428 \nL 132.43215 647.788516 \nL 134.647919 644.525088 \nL 226.602357 502.798125 \nL 226.602357 502.798125 \n\" clip-path=\"url(#p7a9d7df2c4)\" style=\"fill: none; stroke: #4c72b0; stroke-width: 2; stroke-linecap: round\"/>\n   </g>\n   <g id=\"line2d_78\">\n    <path d=\"M 42.139547 644.760406 \nL 58.942469 644.475628 \nL 70.205961 644.074759 \nL 78.699739 643.561763 \nL 85.531695 642.938573 \nL 91.255768 642.206001 \nL 96.24125 641.353875 \nL 100.672789 640.376796 \nL 104.735033 639.249696 \nL 108.243332 638.055187 \nL 111.566989 636.693531 \nL 114.705994 635.161538 \nL 117.660354 633.460951 \nL 120.430066 631.599305 \nL 123.01513 629.590597 \nL 125.415547 627.455724 \nL 127.815964 625.024156 \nL 130.21638 622.254659 \nL 132.43215 619.357747 \nL 134.463272 616.521202 \nL 226.602357 616.521202 \nL 226.602357 616.521202 \n\" clip-path=\"url(#p7a9d7df2c4)\" style=\"fill: none; stroke: #dd8452; stroke-width: 2; stroke-linecap: round\"/>\n   </g>\n   <g id=\"patch_27\">\n    <path d=\"M 32.916406 687.598125 \nL 32.916406 502.798125 \n\" style=\"fill: none; stroke: #ffffff; stroke-width: 1.25; stroke-linejoin: miter; stroke-linecap: square\"/>\n   </g>\n   <g id=\"patch_28\">\n    <path d=\"M 235.825497 687.598125 \nL 235.825497 502.798125 \n\" style=\"fill: none; stroke: #ffffff; stroke-width: 1.25; stroke-linejoin: miter; stroke-linecap: square\"/>\n   </g>\n   <g id=\"patch_29\">\n    <path d=\"M 32.916406 687.598125 \nL 235.825497 687.598125 \n\" style=\"fill: none; stroke: #ffffff; stroke-width: 1.25; stroke-linejoin: miter; stroke-linecap: square\"/>\n   </g>\n   <g id=\"patch_30\">\n    <path d=\"M 32.916406 502.798125 \nL 235.825497 502.798125 \n\" style=\"fill: none; stroke: #ffffff; stroke-width: 1.25; stroke-linejoin: miter; stroke-linecap: square\"/>\n   </g>\n   <g id=\"text_73\">\n    <!-- ELU -->\n    <g style=\"fill: #262626\" transform=\"translate(123.145327 496.798125) scale(0.12 -0.12)\">\n     <defs>\n      <path id=\"DejaVuSans-45\" d=\"M 628 4666 \nL 3578 4666 \nL 3578 4134 \nL 1259 4134 \nL 1259 2753 \nL 3481 2753 \nL 3481 2222 \nL 1259 2222 \nL 1259 531 \nL 3634 531 \nL 3634 0 \nL 628 0 \nL 628 4666 \nz\n\" transform=\"scale(0.015625)\"/>\n     </defs>\n     <use xlink:href=\"#DejaVuSans-45\"/>\n     <use xlink:href=\"#DejaVuSans-4c\" x=\"63.183594\"/>\n     <use xlink:href=\"#DejaVuSans-55\" x=\"113.896484\"/>\n    </g>\n   </g>\n   <g id=\"legend_5\">\n    <g id=\"patch_31\">\n     <path d=\"M 40.616406 543.89 \nL 123.693906 543.89 \nQ 125.893906 543.89 125.893906 541.69 \nL 125.893906 510.498125 \nQ 125.893906 508.298125 123.693906 508.298125 \nL 40.616406 508.298125 \nQ 38.416406 508.298125 38.416406 510.498125 \nL 38.416406 541.69 \nQ 38.416406 543.89 40.616406 543.89 \nz\n\" style=\"fill: #eaeaf2; opacity: 0.8; stroke: #cccccc; stroke-linejoin: miter\"/>\n    </g>\n    <g id=\"line2d_79\">\n     <path d=\"M 42.816406 517.206406 \nL 53.816406 517.206406 \nL 64.816406 517.206406 \n\" style=\"fill: none; stroke: #4c72b0; stroke-width: 2; stroke-linecap: round\"/>\n    </g>\n    <g id=\"text_74\">\n     <!-- ActFn -->\n     <g style=\"fill: #262626\" transform=\"translate(73.616406 521.056406) scale(0.11 -0.11)\">\n      <use xlink:href=\"#DejaVuSans-41\"/>\n      <use xlink:href=\"#DejaVuSans-63\" x=\"66.658203\"/>\n      <use xlink:href=\"#DejaVuSans-74\" x=\"121.638672\"/>\n      <use xlink:href=\"#DejaVuSans-46\" x=\"160.847656\"/>\n      <use xlink:href=\"#DejaVuSans-6e\" x=\"218.367188\"/>\n     </g>\n    </g>\n    <g id=\"line2d_80\">\n     <path d=\"M 42.816406 533.352344 \nL 53.816406 533.352344 \nL 64.816406 533.352344 \n\" style=\"fill: none; stroke: #dd8452; stroke-width: 2; stroke-linecap: round\"/>\n    </g>\n    <g id=\"text_75\">\n     <!-- Gradient -->\n     <g style=\"fill: #262626\" transform=\"translate(73.616406 537.202344) scale(0.11 -0.11)\">\n      <use xlink:href=\"#DejaVuSans-47\"/>\n      <use xlink:href=\"#DejaVuSans-72\" x=\"77.490234\"/>\n      <use xlink:href=\"#DejaVuSans-61\" x=\"118.603516\"/>\n      <use xlink:href=\"#DejaVuSans-64\" x=\"179.882812\"/>\n      <use xlink:href=\"#DejaVuSans-69\" x=\"243.359375\"/>\n      <use xlink:href=\"#DejaVuSans-65\" x=\"271.142578\"/>\n      <use xlink:href=\"#DejaVuSans-6e\" x=\"332.666016\"/>\n      <use xlink:href=\"#DejaVuSans-74\" x=\"396.044922\"/>\n     </g>\n    </g>\n   </g>\n  </g>\n  <g id=\"axes_6\">\n   <g id=\"patch_32\">\n    <path d=\"M 276.407315 687.598125 \nL 479.316406 687.598125 \nL 479.316406 502.798125 \nL 276.407315 502.798125 \nz\n\" style=\"fill: #eaeaf2\"/>\n   </g>\n   <g id=\"matplotlib.axis_11\">\n    <g id=\"xtick_26\">\n     <g id=\"line2d_81\">\n      <path d=\"M 304.076737 687.598125 \nL 304.076737 502.798125 \n\" clip-path=\"url(#pab33bc6bb1)\" style=\"fill: none; stroke: #ffffff; stroke-linecap: round\"/>\n     </g>\n     <g id=\"text_76\">\n      <!-- −4 -->\n      <g style=\"fill: #262626\" transform=\"translate(295.968534 705.456406) scale(0.11 -0.11)\">\n       <use xlink:href=\"#DejaVuSans-2212\"/>\n       <use xlink:href=\"#DejaVuSans-34\" x=\"83.789062\"/>\n      </g>\n     </g>\n    </g>\n    <g id=\"xtick_27\">\n     <g id=\"line2d_82\">\n      <path d=\"M 340.969299 687.598125 \nL 340.969299 502.798125 \n\" clip-path=\"url(#pab33bc6bb1)\" style=\"fill: none; stroke: #ffffff; stroke-linecap: round\"/>\n     </g>\n     <g id=\"text_77\">\n      <!-- −2 -->\n      <g style=\"fill: #262626\" transform=\"translate(332.861096 705.456406) scale(0.11 -0.11)\">\n       <use xlink:href=\"#DejaVuSans-2212\"/>\n       <use xlink:href=\"#DejaVuSans-32\" x=\"83.789062\"/>\n      </g>\n     </g>\n    </g>\n    <g id=\"xtick_28\">\n     <g id=\"line2d_83\">\n      <path d=\"M 377.861861 687.598125 \nL 377.861861 502.798125 \n\" clip-path=\"url(#pab33bc6bb1)\" style=\"fill: none; stroke: #ffffff; stroke-linecap: round\"/>\n     </g>\n     <g id=\"text_78\">\n      <!-- 0 -->\n      <g style=\"fill: #262626\" transform=\"translate(374.362486 705.456406) scale(0.11 -0.11)\">\n       <use xlink:href=\"#DejaVuSans-30\"/>\n      </g>\n     </g>\n    </g>\n    <g id=\"xtick_29\">\n     <g id=\"line2d_84\">\n      <path d=\"M 414.754423 687.598125 \nL 414.754423 502.798125 \n\" clip-path=\"url(#pab33bc6bb1)\" style=\"fill: none; stroke: #ffffff; stroke-linecap: round\"/>\n     </g>\n     <g id=\"text_79\">\n      <!-- 2 -->\n      <g style=\"fill: #262626\" transform=\"translate(411.255048 705.456406) scale(0.11 -0.11)\">\n       <use xlink:href=\"#DejaVuSans-32\"/>\n      </g>\n     </g>\n    </g>\n    <g id=\"xtick_30\">\n     <g id=\"line2d_85\">\n      <path d=\"M 451.646985 687.598125 \nL 451.646985 502.798125 \n\" clip-path=\"url(#pab33bc6bb1)\" style=\"fill: none; stroke: #ffffff; stroke-linecap: round\"/>\n     </g>\n     <g id=\"text_80\">\n      <!-- 4 -->\n      <g style=\"fill: #262626\" transform=\"translate(448.14761 705.456406) scale(0.11 -0.11)\">\n       <use xlink:href=\"#DejaVuSans-34\"/>\n      </g>\n     </g>\n    </g>\n   </g>\n   <g id=\"matplotlib.axis_12\">\n    <g id=\"ytick_36\">\n     <g id=\"line2d_86\">\n      <path d=\"M 276.407315 673.38274 \nL 479.316406 673.38274 \n\" clip-path=\"url(#pab33bc6bb1)\" style=\"fill: none; stroke: #ffffff; stroke-linecap: round\"/>\n     </g>\n     <g id=\"text_81\">\n      <!-- −1 -->\n      <g style=\"fill: #262626\" transform=\"translate(250.690909 677.561881) scale(0.11 -0.11)\">\n       <use xlink:href=\"#DejaVuSans-2212\"/>\n       <use xlink:href=\"#DejaVuSans-31\" x=\"83.789062\"/>\n      </g>\n     </g>\n    </g>\n    <g id=\"ytick_37\">\n     <g id=\"line2d_87\">\n      <path d=\"M 276.407315 644.951971 \nL 479.316406 644.951971 \n\" clip-path=\"url(#pab33bc6bb1)\" style=\"fill: none; stroke: #ffffff; stroke-linecap: round\"/>\n     </g>\n     <g id=\"text_82\">\n      <!-- 0 -->\n      <g style=\"fill: #262626\" transform=\"translate(259.908565 649.131112) scale(0.11 -0.11)\">\n       <use xlink:href=\"#DejaVuSans-30\"/>\n      </g>\n     </g>\n    </g>\n    <g id=\"ytick_38\">\n     <g id=\"line2d_88\">\n      <path d=\"M 276.407315 616.521202 \nL 479.316406 616.521202 \n\" clip-path=\"url(#pab33bc6bb1)\" style=\"fill: none; stroke: #ffffff; stroke-linecap: round\"/>\n     </g>\n     <g id=\"text_83\">\n      <!-- 1 -->\n      <g style=\"fill: #262626\" transform=\"translate(259.908565 620.700343) scale(0.11 -0.11)\">\n       <use xlink:href=\"#DejaVuSans-31\"/>\n      </g>\n     </g>\n    </g>\n    <g id=\"ytick_39\">\n     <g id=\"line2d_89\">\n      <path d=\"M 276.407315 588.090433 \nL 479.316406 588.090433 \n\" clip-path=\"url(#pab33bc6bb1)\" style=\"fill: none; stroke: #ffffff; stroke-linecap: round\"/>\n     </g>\n     <g id=\"text_84\">\n      <!-- 2 -->\n      <g style=\"fill: #262626\" transform=\"translate(259.908565 592.269573) scale(0.11 -0.11)\">\n       <use xlink:href=\"#DejaVuSans-32\"/>\n      </g>\n     </g>\n    </g>\n    <g id=\"ytick_40\">\n     <g id=\"line2d_90\">\n      <path d=\"M 276.407315 559.659663 \nL 479.316406 559.659663 \n\" clip-path=\"url(#pab33bc6bb1)\" style=\"fill: none; stroke: #ffffff; stroke-linecap: round\"/>\n     </g>\n     <g id=\"text_85\">\n      <!-- 3 -->\n      <g style=\"fill: #262626\" transform=\"translate(259.908565 563.838804) scale(0.11 -0.11)\">\n       <use xlink:href=\"#DejaVuSans-33\"/>\n      </g>\n     </g>\n    </g>\n    <g id=\"ytick_41\">\n     <g id=\"line2d_91\">\n      <path d=\"M 276.407315 531.228894 \nL 479.316406 531.228894 \n\" clip-path=\"url(#pab33bc6bb1)\" style=\"fill: none; stroke: #ffffff; stroke-linecap: round\"/>\n     </g>\n     <g id=\"text_86\">\n      <!-- 4 -->\n      <g style=\"fill: #262626\" transform=\"translate(259.908565 535.408035) scale(0.11 -0.11)\">\n       <use xlink:href=\"#DejaVuSans-34\"/>\n      </g>\n     </g>\n    </g>\n    <g id=\"ytick_42\">\n     <g id=\"line2d_92\">\n      <path d=\"M 276.407315 502.798125 \nL 479.316406 502.798125 \n\" clip-path=\"url(#pab33bc6bb1)\" style=\"fill: none; stroke: #ffffff; stroke-linecap: round\"/>\n     </g>\n     <g id=\"text_87\">\n      <!-- 5 -->\n      <g style=\"fill: #262626\" transform=\"translate(259.908565 506.977266) scale(0.11 -0.11)\">\n       <use xlink:href=\"#DejaVuSans-35\"/>\n      </g>\n     </g>\n    </g>\n   </g>\n   <g id=\"line2d_93\">\n    <path d=\"M 285.630456 645.903386 \nL 296.524663 646.458359 \nL 305.941673 647.153618 \nL 314.620107 648.014444 \nL 323.298537 649.103146 \nL 334.008087 650.691374 \nL 344.348345 652.173971 \nL 349.518473 652.685919 \nL 353.580717 652.864571 \nL 357.089019 652.792099 \nL 360.228026 652.499149 \nL 362.997737 652.026137 \nL 365.767449 651.321834 \nL 368.352514 650.43206 \nL 370.937578 649.298154 \nL 373.522642 647.904428 \nL 376.107707 646.23956 \nL 378.692778 644.297216 \nL 381.277842 642.076436 \nL 384.047554 639.393195 \nL 387.001913 636.198106 \nL 390.14092 632.451145 \nL 393.464574 628.125668 \nL 397.157522 622.944004 \nL 401.404413 616.583401 \nL 406.389896 608.70287 \nL 413.037202 597.748673 \nL 425.962523 575.905166 \nL 439.811083 552.681561 \nL 451.813174 533.004753 \nL 464.92314 511.952752 \nL 470.093266 503.749531 \nL 470.093266 503.749531 \n\" clip-path=\"url(#pab33bc6bb1)\" style=\"fill: none; stroke: #4c72b0; stroke-width: 2; stroke-linecap: round\"/>\n   </g>\n   <g id=\"line2d_94\">\n    <path d=\"M 285.630456 645.706735 \nL 299.848315 646.24508 \nL 315.543344 647.07746 \nL 328.468662 647.70431 \nL 334.746677 647.7853 \nL 339.547512 647.629469 \nL 343.609756 647.279293 \nL 347.302703 646.73405 \nL 350.626357 646.019472 \nL 353.765364 645.121164 \nL 356.904371 643.984777 \nL 360.043379 642.59795 \nL 363.182385 640.959565 \nL 366.506039 638.964931 \nL 370.198988 636.476329 \nL 374.815174 633.073845 \nL 386.447971 624.3512 \nL 390.14092 621.92891 \nL 393.464574 620.006081 \nL 396.60358 618.441024 \nL 399.742587 617.128532 \nL 402.881594 616.063879 \nL 406.020601 615.231969 \nL 409.344253 614.579882 \nL 413.037202 614.093374 \nL 417.099446 613.794561 \nL 421.715634 613.68333 \nL 427.439707 613.774646 \nL 435.933489 614.158816 \nL 463.630604 615.549983 \nL 470.093266 615.766441 \nL 470.093266 615.766441 \n\" clip-path=\"url(#pab33bc6bb1)\" style=\"fill: none; stroke: #dd8452; stroke-width: 2; stroke-linecap: round\"/>\n   </g>\n   <g id=\"patch_33\">\n    <path d=\"M 276.407315 687.598125 \nL 276.407315 502.798125 \n\" style=\"fill: none; stroke: #ffffff; stroke-width: 1.25; stroke-linejoin: miter; stroke-linecap: square\"/>\n   </g>\n   <g id=\"patch_34\">\n    <path d=\"M 479.316406 687.598125 \nL 479.316406 502.798125 \n\" style=\"fill: none; stroke: #ffffff; stroke-width: 1.25; stroke-linejoin: miter; stroke-linecap: square\"/>\n   </g>\n   <g id=\"patch_35\">\n    <path d=\"M 276.407315 687.598125 \nL 479.316406 687.598125 \n\" style=\"fill: none; stroke: #ffffff; stroke-width: 1.25; stroke-linejoin: miter; stroke-linecap: square\"/>\n   </g>\n   <g id=\"patch_36\">\n    <path d=\"M 276.407315 502.798125 \nL 479.316406 502.798125 \n\" style=\"fill: none; stroke: #ffffff; stroke-width: 1.25; stroke-linejoin: miter; stroke-linecap: square\"/>\n   </g>\n   <g id=\"text_88\">\n    <!-- Swish -->\n    <g style=\"fill: #262626\" transform=\"translate(360.550923 496.798125) scale(0.12 -0.12)\">\n     <defs>\n      <path id=\"DejaVuSans-77\" d=\"M 269 3500 \nL 844 3500 \nL 1563 769 \nL 2278 3500 \nL 2956 3500 \nL 3675 769 \nL 4391 3500 \nL 4966 3500 \nL 4050 0 \nL 3372 0 \nL 2619 2869 \nL 1863 0 \nL 1184 0 \nL 269 3500 \nz\n\" transform=\"scale(0.015625)\"/>\n      <path id=\"DejaVuSans-73\" d=\"M 2834 3397 \nL 2834 2853 \nQ 2591 2978 2328 3040 \nQ 2066 3103 1784 3103 \nQ 1356 3103 1142 2972 \nQ 928 2841 928 2578 \nQ 928 2378 1081 2264 \nQ 1234 2150 1697 2047 \nL 1894 2003 \nQ 2506 1872 2764 1633 \nQ 3022 1394 3022 966 \nQ 3022 478 2636 193 \nQ 2250 -91 1575 -91 \nQ 1294 -91 989 -36 \nQ 684 19 347 128 \nL 347 722 \nQ 666 556 975 473 \nQ 1284 391 1588 391 \nQ 1994 391 2212 530 \nQ 2431 669 2431 922 \nQ 2431 1156 2273 1281 \nQ 2116 1406 1581 1522 \nL 1381 1569 \nQ 847 1681 609 1914 \nQ 372 2147 372 2553 \nQ 372 3047 722 3315 \nQ 1072 3584 1716 3584 \nQ 2034 3584 2315 3537 \nQ 2597 3491 2834 3397 \nz\n\" transform=\"scale(0.015625)\"/>\n     </defs>\n     <use xlink:href=\"#DejaVuSans-53\"/>\n     <use xlink:href=\"#DejaVuSans-77\" x=\"63.476562\"/>\n     <use xlink:href=\"#DejaVuSans-69\" x=\"145.263672\"/>\n     <use xlink:href=\"#DejaVuSans-73\" x=\"173.046875\"/>\n     <use xlink:href=\"#DejaVuSans-68\" x=\"225.146484\"/>\n    </g>\n   </g>\n   <g id=\"legend_6\">\n    <g id=\"patch_37\">\n     <path d=\"M 284.107315 543.89 \nL 367.184815 543.89 \nQ 369.384815 543.89 369.384815 541.69 \nL 369.384815 510.498125 \nQ 369.384815 508.298125 367.184815 508.298125 \nL 284.107315 508.298125 \nQ 281.907315 508.298125 281.907315 510.498125 \nL 281.907315 541.69 \nQ 281.907315 543.89 284.107315 543.89 \nz\n\" style=\"fill: #eaeaf2; opacity: 0.8; stroke: #cccccc; stroke-linejoin: miter\"/>\n    </g>\n    <g id=\"line2d_95\">\n     <path d=\"M 286.307315 517.206406 \nL 297.307315 517.206406 \nL 308.307315 517.206406 \n\" style=\"fill: none; stroke: #4c72b0; stroke-width: 2; stroke-linecap: round\"/>\n    </g>\n    <g id=\"text_89\">\n     <!-- ActFn -->\n     <g style=\"fill: #262626\" transform=\"translate(317.107315 521.056406) scale(0.11 -0.11)\">\n      <use xlink:href=\"#DejaVuSans-41\"/>\n      <use xlink:href=\"#DejaVuSans-63\" x=\"66.658203\"/>\n      <use xlink:href=\"#DejaVuSans-74\" x=\"121.638672\"/>\n      <use xlink:href=\"#DejaVuSans-46\" x=\"160.847656\"/>\n      <use xlink:href=\"#DejaVuSans-6e\" x=\"218.367188\"/>\n     </g>\n    </g>\n    <g id=\"line2d_96\">\n     <path d=\"M 286.307315 533.352344 \nL 297.307315 533.352344 \nL 308.307315 533.352344 \n\" style=\"fill: none; stroke: #dd8452; stroke-width: 2; stroke-linecap: round\"/>\n    </g>\n    <g id=\"text_90\">\n     <!-- Gradient -->\n     <g style=\"fill: #262626\" transform=\"translate(317.107315 537.202344) scale(0.11 -0.11)\">\n      <use xlink:href=\"#DejaVuSans-47\"/>\n      <use xlink:href=\"#DejaVuSans-72\" x=\"77.490234\"/>\n      <use xlink:href=\"#DejaVuSans-61\" x=\"118.603516\"/>\n      <use xlink:href=\"#DejaVuSans-64\" x=\"179.882812\"/>\n      <use xlink:href=\"#DejaVuSans-69\" x=\"243.359375\"/>\n      <use xlink:href=\"#DejaVuSans-65\" x=\"271.142578\"/>\n      <use xlink:href=\"#DejaVuSans-6e\" x=\"332.666016\"/>\n      <use xlink:href=\"#DejaVuSans-74\" x=\"396.044922\"/>\n     </g>\n    </g>\n   </g>\n  </g>\n </g>\n <defs>\n  <clipPath id=\"pb9a89847b1\">\n   <rect x=\"32.916406\" y=\"22.318125\" width=\"202.909091\" height=\"184.8\"/>\n  </clipPath>\n  <clipPath id=\"p107a319519\">\n   <rect x=\"276.407315\" y=\"22.318125\" width=\"202.909091\" height=\"184.8\"/>\n  </clipPath>\n  <clipPath id=\"pde13e98763\">\n   <rect x=\"32.916406\" y=\"262.558125\" width=\"202.909091\" height=\"184.8\"/>\n  </clipPath>\n  <clipPath id=\"pe05ec853a9\">\n   <rect x=\"276.407315\" y=\"262.558125\" width=\"202.909091\" height=\"184.8\"/>\n  </clipPath>\n  <clipPath id=\"p7a9d7df2c4\">\n   <rect x=\"32.916406\" y=\"502.798125\" width=\"202.909091\" height=\"184.8\"/>\n  </clipPath>\n  <clipPath id=\"pab33bc6bb1\">\n   <rect x=\"276.407315\" y=\"502.798125\" width=\"202.909091\" height=\"184.8\"/>\n  </clipPath>\n </defs>\n</svg>\n",
            "application/pdf": "[encoded data removed]"
          },
          "metadata": {}
        }
      ]
    },
    {
      "cell_type": "markdown",
      "source": [
        "#Analysing the effect of activation functions(활성화 기능의 효과 분석)\n",
        "\n",
        "활성화 기능을 구현하고 시각화한 후, 우리는 그 효과에 대한 통찰력을 얻는 것을 목표로 합니다. 우리는 FashionMNIST에서 훈련된 간단한 신경망을 사용하여 이를 수행하고 성능 및 기울기 흐름을 포함하여 모델의 다양한 측면을 조사합니다.\n",
        "\n",
        "#Setup\n",
        "\n",
        "먼저, 신경망을 설정해 보겠습니다. 선택한 네트워크는 이미지를 1D 텐서로 보고 일련의 선형 레이어와 지정된 활성화 기능을 통해 이미지를 푸시합니다. 다른 네트워크 아키텍처를 자유롭게 사용해 보십시오."
      ],
      "metadata": {
        "id": "tpT6u5-PXO6Q"
      }
    },
    {
      "cell_type": "code",
      "source": [
        "class BaseNetwork(nn.Module):\n",
        "  def __init__(self, act_fn, input_size=784, num_classes=10, hidden_sizes=[512, 256, 256, 128]):\n",
        "   \"\"\"\n",
        "   인수:\n",
        "      act_fn: 네트워크에서 비선형성으로 사용해야 하는 활성화 함수의 개체입니다.\n",
        "      input_size: 입력 이미지의 크기(픽셀)\n",
        "      num_dll: 예측할 클래스 수\n",
        "      hidden_size: NN의 숨겨진 레이어 크기를 지정하는 정수 목록\n",
        "   \"\"\"\n",
        "   super().__init__()\n",
        "   # 지정된 숨겨진 크기를 기준으로 네트워크 생성\n",
        "   layers = []\n",
        "   layer_sizes = [input_size] + hidden_sizes\n",
        "   layer_size_last =layer_sizes[0]\n",
        "   for layer_size in layer_sizes[1:]:\n",
        "      layers += [nn.Linear(layer_size_last, layer_size), act_fn]\n",
        "      layer_size_last = layer_size\n",
        "   layers += [nn.Linear(layer_sizes[-1], num_classes)]\n",
        "    # nn.Sequential은 모듈 목록을 하나의 모듈로 요약하여 순차적으로 적용합니다\n",
        "   self.layers = nn.Sequential(*layers)\n",
        "\n",
        "   # 모델의 저장 및 로드를 위해 모든 하이퍼 파라미터를 사전에 저장합니다\n",
        "   self.config = {\n",
        "      \"act_fn\": act_fn.config,\n",
        "      \"input_size\": input_size,\n",
        "      \"num_classes\": num_classes,\n",
        "      \"hidden_sizes\": hidden_sizes,\n",
        "      }\n",
        "\n",
        "  def forward(self, x):\n",
        "    x = x.view(x.size(0), -1) # 이미지 모양을 평평한 벡터로 변경\n",
        "    out = self.layers(x)\n",
        "    return out\n"
      ],
      "metadata": {
        "id": "8nhYWxB3YfZJ"
      },
      "execution_count": 13,
      "outputs": []
    },
    {
      "cell_type": "markdown",
      "source": [
        "우리는 또한 모델을 로드하고 저장하는 기능을 추가합니다. 하이퍼 파라미터는 구성 파일(단순 json 파일)에 저장됩니다:"
      ],
      "metadata": {
        "id": "dTz60_hHeEja"
      }
    },
    {
      "cell_type": "code",
      "source": [
        "def _get_config_file(model_path, model_name):\n",
        "  # 하이퍼파라미터 세부 정보를 저장하기 위한 파일 이름\n",
        "  return os.path.join(model_path, model_name + \".config\")\n",
        "\n",
        "def _get_model_file(model_path, model_name):\n",
        "  # 네트워크 매개 변수를 저장하기 위한 파일 이름\n",
        "  return os.path.join(model_path, model_name + \".tar\")\n",
        "\n",
        "def load_model(model_path, model_name, net=None):\n",
        "  \"\"\"디스크에서 저장된 모델을 로드합니다.\n",
        "\n",
        "  인수:\n",
        "      model_path: 체크포인트 디렉터리의 경로\n",
        "      model_name: 모델 이름(str)\n",
        "       net: (선택 사항) 지정된 경우 상태 dict가 이 모델에 로드됩니다. 그렇지 않으면 새 모델이 생성됩니다.\n",
        "  \"\"\"\n",
        "  config_file, model_file = _get_config_file(model_path, model_name), _get_model_file(model_path, model_name)\n",
        "  assert os.path.isfile(config_file), f'Could not find the config file \"{config_file}\". Are you sure this is the correct path and you have your model config stored here?'\n",
        "  assert os.path.isfile(model_file), f'Could not find the config file \"{model_file}\". Are you sure this is the correct path and you have your model config stored here?'\n",
        "  with open(config_file) as f:\n",
        "    config_dict = json.load(f)\n",
        "  if net is None:\n",
        "    act_fn_name = config_dict[\"act_fn\"].pop(\"name\").lower()\n",
        "    act_fn = act_fn_by_name[act_fn_name](**config_dict.pop(\"act_fn\"))\n",
        "    net  = BaseNetwork(act_fn=act_fn, **config_dict)\n",
        "  net.load_state_dict(torch.load(model_file, map_location=device))\n",
        "  return net\n",
        "\n",
        "def save_model(model, model_path, model_name):\n",
        "  \"\"\"모델이 주어지면 state_dict와 하이퍼 파라미터를 저장합니다.\n",
        "\n",
        "  인수:\n",
        "      모형: 매개 변수를 저장할 네트워크 개체\n",
        "      model_path: 체크포인트 디렉터리의 경로\n",
        "      model_name: 모델 이름(str)\n",
        "  \"\"\"\n",
        "  config_dict = model.config\n",
        "  os.makedirs(model_path, exist_ok=True)\n",
        "  config_file, model_file = _get_config_file(model_path, model_name), _get_model_file(model_path, model_name)\n",
        "  with open(config_file, \"w\") as f:\n",
        "    json.dump(config_dict, f)\n",
        "  torch.save(model.state_dict(), model_file)"
      ],
      "metadata": {
        "id": "78lWIHfHeLu1"
      },
      "execution_count": 14,
      "outputs": []
    },
    {
      "cell_type": "markdown",
      "source": [
        "또한 우리는 훈련시킬 데이터 세트, 즉 FashionMNIST를 설정합니다. 패션MNIST는 MNIST의 더 복잡한 버전이며 숫자 대신 흑백의 옷 이미지를 포함합니다. 10개의 클래스에는 바지, 코트, 신발, 가방 등이 포함됩니다. 이 데이터 세트를 로드하기 위해 또 다른 PyTorch 패키지, 즉 토치비전(문서)을 사용할 것입니다. 토치비전 패키지는 널리 사용되는 데이터 세트, 모델 아키텍처 및 컴퓨터 비전을 위한 공통 이미지 변환으로 구성됩니다. 이 과정의 많은 노트북에 패키지를 사용하여 데이터 세트 처리를 간소화할 것입니다.\n",
        "\n",
        "아래 데이터 세트를 로드하고 데이터에 대한 인상을 얻기 위해 몇 가지 이미지를 시각화해 보겠습니다."
      ],
      "metadata": {
        "id": "06kwOSkWyAmG"
      }
    },
    {
      "cell_type": "code",
      "source": [
        "# 각 이미지에 적용된 변환 => 먼저 텐서로 만든 다음 -1~1 범위에서 정규화합니다\n",
        "transform = transforms.Compose([transforms.ToTensor(), transforms.Normalize((0.5,),(0.5,))])\n",
        "\n",
        "# training 데이터 세트를 로드하는 중입니다. training 및 검증 부분으로 분할해야 합니다\n",
        "train_dataset = FashionMNIST(root=DATASET_PATH, train=True, transform=transform, download=True)\n",
        "train_set, val_set = torch.utils.data.random_split(train_dataset,[50000, 10000])\n",
        "\n",
        "# 테스트 세트 로드\n",
        "test_set = FashionMNIST(root=DATASET_PATH, train=False, transform=transform, download=True)"
      ],
      "metadata": {
        "id": "mrpK7PX2yCDC",
        "colab": {
          "base_uri": "https://localhost:8080/",
          "height": 436,
          "referenced_widgets": [
            "48fa9138047546d98746bed13ad786fb",
            "52910a1ecd814de39ccd23bab05b067b",
            "045afbb5d30b4d22b3340645203f8bc1",
            "fb43f3a808224401bba619420a25cda5",
            "922be5e9847a46398e5e23876ecd9a0a",
            "624336b1f7ec44aa894ff47518d49197",
            "f3e1d234e3894010b043738184d54463",
            "4cda49e9c9394fa5bfb8c419929fb377",
            "633a528cc4344ba78247f6dde3b9f424",
            "af4377c02af94e7597709cb4c417f770",
            "ec8cab90d1a34ce1be97bbb4cc1b6f56",
            "315e8cde906f498abbfd9c3c37989cf5",
            "8fa45edfd8804b8da9f04f0dc14c43eb",
            "4d4ef643cfe64e788a18d3545a626523",
            "8adfd33131634e11b51b17761a91b3be",
            "d2c418c3ee4d4077ad93cbaebc78b7a9",
            "636c40c1e12040b1ba904d5e17c5cffc",
            "ac951774e046474a958557c7ee7f7443",
            "a986f237ce9d452dbae5c5e22fb0a5db",
            "530704da075142048f786ae5b062e410",
            "f4eec2b3a19a4b479f020505e8d37caa",
            "f00d0abe568149d782a3214b6a1463c8",
            "24f805923d714302b9e314b5ced958dc",
            "c635455d89b14cbd986b9838dd999c13",
            "dde9fd7718934521afe3426424952399",
            "1938d8f9c6b343f5826b8bf355a13cca",
            "bccd1d8dedfa4c1b9b47cd7f43f902fc",
            "a511e7c0380342ee9a13b0026a2fa307",
            "27624dbea2b7499e93423547e2e4241f",
            "bf16ef8fe4ed43d78d344189a051c1cd",
            "b93d5f6445d44b41b14aa97e6b62a4b1",
            "a62a6e4ab2414680902a412b4bb153f1",
            "e874693fedc94f989c74ad9aa15386d3",
            "63a96c45740545a68563db300f573c2d",
            "e6da4a9371eb45ebb88b644bae19cdc4",
            "a6f4e7dddb3049aaa39e4e6bcd75fd7c",
            "0a318bf3e33b4f03b16e3cabac49f048",
            "7be491a1bec24f0d8b5058981d719b83",
            "f9c5a19ac94341d2a67c13383d101edc",
            "8f6b51e645bb4516bea7eca2c75001d1",
            "555989d153ae4883b9ba0e875eb24b9e",
            "428b3125b9ac4788a5a1563b7ebb040a",
            "4e70ad58a4ef45ba8df392c623ce20d3",
            "b2b056059db1465eaf67580e4a65ce0a"
          ]
        },
        "outputId": "7855b222-e5f1-473d-ebd7-4474971d1f56"
      },
      "execution_count": 15,
      "outputs": [
        {
          "output_type": "stream",
          "name": "stdout",
          "text": [
            "Downloading http://fashion-mnist.s3-website.eu-central-1.amazonaws.com/train-images-idx3-ubyte.gz\n",
            "Downloading http://fashion-mnist.s3-website.eu-central-1.amazonaws.com/train-images-idx3-ubyte.gz to data/FashionMNIST/raw/train-images-idx3-ubyte.gz\n"
          ]
        },
        {
          "output_type": "display_data",
          "data": {
            "text/plain": [
              "  0%|          | 0/26421880 [00:00<?, ?it/s]"
            ],
            "application/vnd.jupyter.widget-view+json": {
              "version_major": 2,
              "version_minor": 0,
              "model_id": "48fa9138047546d98746bed13ad786fb"
            }
          },
          "metadata": {}
        },
        {
          "output_type": "stream",
          "name": "stdout",
          "text": [
            "Extracting data/FashionMNIST/raw/train-images-idx3-ubyte.gz to data/FashionMNIST/raw\n",
            "\n",
            "Downloading http://fashion-mnist.s3-website.eu-central-1.amazonaws.com/train-labels-idx1-ubyte.gz\n",
            "Downloading http://fashion-mnist.s3-website.eu-central-1.amazonaws.com/train-labels-idx1-ubyte.gz to data/FashionMNIST/raw/train-labels-idx1-ubyte.gz\n"
          ]
        },
        {
          "output_type": "display_data",
          "data": {
            "text/plain": [
              "  0%|          | 0/29515 [00:00<?, ?it/s]"
            ],
            "application/vnd.jupyter.widget-view+json": {
              "version_major": 2,
              "version_minor": 0,
              "model_id": "315e8cde906f498abbfd9c3c37989cf5"
            }
          },
          "metadata": {}
        },
        {
          "output_type": "stream",
          "name": "stdout",
          "text": [
            "Extracting data/FashionMNIST/raw/train-labels-idx1-ubyte.gz to data/FashionMNIST/raw\n",
            "\n",
            "Downloading http://fashion-mnist.s3-website.eu-central-1.amazonaws.com/t10k-images-idx3-ubyte.gz\n",
            "Downloading http://fashion-mnist.s3-website.eu-central-1.amazonaws.com/t10k-images-idx3-ubyte.gz to data/FashionMNIST/raw/t10k-images-idx3-ubyte.gz\n"
          ]
        },
        {
          "output_type": "display_data",
          "data": {
            "text/plain": [
              "  0%|          | 0/4422102 [00:00<?, ?it/s]"
            ],
            "application/vnd.jupyter.widget-view+json": {
              "version_major": 2,
              "version_minor": 0,
              "model_id": "24f805923d714302b9e314b5ced958dc"
            }
          },
          "metadata": {}
        },
        {
          "output_type": "stream",
          "name": "stdout",
          "text": [
            "Extracting data/FashionMNIST/raw/t10k-images-idx3-ubyte.gz to data/FashionMNIST/raw\n",
            "\n",
            "Downloading http://fashion-mnist.s3-website.eu-central-1.amazonaws.com/t10k-labels-idx1-ubyte.gz\n",
            "Downloading http://fashion-mnist.s3-website.eu-central-1.amazonaws.com/t10k-labels-idx1-ubyte.gz to data/FashionMNIST/raw/t10k-labels-idx1-ubyte.gz\n"
          ]
        },
        {
          "output_type": "display_data",
          "data": {
            "text/plain": [
              "  0%|          | 0/5148 [00:00<?, ?it/s]"
            ],
            "application/vnd.jupyter.widget-view+json": {
              "version_major": 2,
              "version_minor": 0,
              "model_id": "63a96c45740545a68563db300f573c2d"
            }
          },
          "metadata": {}
        },
        {
          "output_type": "stream",
          "name": "stdout",
          "text": [
            "Extracting data/FashionMNIST/raw/t10k-labels-idx1-ubyte.gz to data/FashionMNIST/raw\n",
            "\n"
          ]
        }
      ]
    },
    {
      "cell_type": "markdown",
      "source": [
        "나중에 다양한 용도로 사용할 수 있는 데이터 로더 세트를 정의합니다. 모델을 실제로 교육하기 위해 배치 크기가 더 작은 다른 데이터 로더를 사용합니다."
      ],
      "metadata": {
        "id": "MhkPvxvh66Ak"
      }
    },
    {
      "cell_type": "code",
      "source": [
        "train_loader = data.DataLoader(train_set, batch_size=1024, shuffle=True, drop_last=False)\n",
        "val_loader = data.DataLoader(val_set, batch_size=1024, shuffle=False, drop_last=False)\n",
        "test_loader = data.DataLoader(test_set, batch_size=1024, shuffle=False, drop_last=False)"
      ],
      "metadata": {
        "id": "OsTqBJcH687e"
      },
      "execution_count": 16,
      "outputs": []
    },
    {
      "cell_type": "code",
      "source": [
        "exmp_imgs = [test_set[i][0] for i in range(16)]\n",
        "\n",
        "# 이미지를 그리드로 구성하여 시각화 개선\n",
        "img_grid = torchvision.utils.make_grid(torch.stack(exmp_imgs, dim=0), nrow=4, normalize=True, pad_value=0.5)\n",
        "img_grid = img_grid.permute(1, 2, 0)\n",
        "\n",
        "plt.figure(figsize=(8, 8))\n",
        "plt. title(\"FashinMNIST examples\")\n",
        "plt.imshow(img_grid)\n",
        "plt.axis(\"off\")\n",
        "plt.show()\n",
        "plt.close()\n"
      ],
      "metadata": {
        "colab": {
          "base_uri": "https://localhost:8080/",
          "height": 650
        },
        "id": "sThp0AXW8BC3",
        "outputId": "f33279ee-5873-4166-c670-1cbbe5055c77"
      },
      "execution_count": 17,
      "outputs": [
        {
          "output_type": "display_data",
          "data": {
            "text/plain": [
              "<Figure size 800x800 with 1 Axes>"
            ],
            "image/svg+xml": "<?xml version=\"1.0\" encoding=\"utf-8\" standalone=\"no\"?>\n<!DOCTYPE svg PUBLIC \"-//W3C//DTD SVG 1.1//EN\"\n  \"http://www.w3.org/Graphics/SVG/1.1/DTD/svg11.dtd\">\n<svg xmlns:xlink=\"http://www.w3.org/1999/xlink\" width=\"457.92pt\" height=\"473.038125pt\" viewBox=\"0 0 457.92 473.038125\" xmlns=\"http://www.w3.org/2000/svg\" version=\"1.1\">\n <metadata>\n  <rdf:RDF xmlns:dc=\"http://purl.org/dc/elements/1.1/\" xmlns:cc=\"http://creativecommons.org/ns#\" xmlns:rdf=\"http://www.w3.org/1999/02/22-rdf-syntax-ns#\">\n   <cc:Work>\n    <dc:type rdf:resource=\"http://purl.org/dc/dcmitype/StillImage\"/>\n    <dc:date>2023-07-02T14:23:25.749677</dc:date>\n    <dc:format>image/svg+xml</dc:format>\n    <dc:creator>\n     <cc:Agent>\n      <dc:title>Matplotlib v3.7.1, https://matplotlib.org/</dc:title>\n     </cc:Agent>\n    </dc:creator>\n   </cc:Work>\n  </rdf:RDF>\n </metadata>\n <defs>\n  <style type=\"text/css\">*{stroke-linejoin: round; stroke-linecap: butt}</style>\n </defs>\n <g id=\"figure_1\">\n  <g id=\"patch_1\">\n   <path d=\"M 0 473.038125 \nL 457.92 473.038125 \nL 457.92 0 \nL 0 0 \nz\n\" style=\"fill: #ffffff\"/>\n  </g>\n  <g id=\"axes_1\">\n   <g clip-path=\"url(#pa4ada130bc)\">\n    <image xlink:href=\"data:image/png;base64,\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\" id=\"imageec9bc6f7b2\" transform=\"scale(1 -1) translate(0 -443.52)\" x=\"7.2\" y=\"-22.318125\" width=\"443.52\" height=\"443.52\"/>\n   </g>\n   <g id=\"text_1\">\n    <!-- FashinMNIST examples -->\n    <g style=\"fill: #262626\" transform=\"translate(160.213125 16.318125) scale(0.12 -0.12)\">\n     <defs>\n      <path id=\"DejaVuSans-46\" d=\"M 628 4666 \nL 3309 4666 \nL 3309 4134 \nL 1259 4134 \nL 1259 2759 \nL 3109 2759 \nL 3109 2228 \nL 1259 2228 \nL 1259 0 \nL 628 0 \nL 628 4666 \nz\n\" transform=\"scale(0.015625)\"/>\n      <path id=\"DejaVuSans-61\" d=\"M 2194 1759 \nQ 1497 1759 1228 1600 \nQ 959 1441 959 1056 \nQ 959 750 1161 570 \nQ 1363 391 1709 391 \nQ 2188 391 2477 730 \nQ 2766 1069 2766 1631 \nL 2766 1759 \nL 2194 1759 \nz\nM 3341 1997 \nL 3341 0 \nL 2766 0 \nL 2766 531 \nQ 2569 213 2275 61 \nQ 1981 -91 1556 -91 \nQ 1019 -91 701 211 \nQ 384 513 384 1019 \nQ 384 1609 779 1909 \nQ 1175 2209 1959 2209 \nL 2766 2209 \nL 2766 2266 \nQ 2766 2663 2505 2880 \nQ 2244 3097 1772 3097 \nQ 1472 3097 1187 3025 \nQ 903 2953 641 2809 \nL 641 3341 \nQ 956 3463 1253 3523 \nQ 1550 3584 1831 3584 \nQ 2591 3584 2966 3190 \nQ 3341 2797 3341 1997 \nz\n\" transform=\"scale(0.015625)\"/>\n      <path id=\"DejaVuSans-73\" d=\"M 2834 3397 \nL 2834 2853 \nQ 2591 2978 2328 3040 \nQ 2066 3103 1784 3103 \nQ 1356 3103 1142 2972 \nQ 928 2841 928 2578 \nQ 928 2378 1081 2264 \nQ 1234 2150 1697 2047 \nL 1894 2003 \nQ 2506 1872 2764 1633 \nQ 3022 1394 3022 966 \nQ 3022 478 2636 193 \nQ 2250 -91 1575 -91 \nQ 1294 -91 989 -36 \nQ 684 19 347 128 \nL 347 722 \nQ 666 556 975 473 \nQ 1284 391 1588 391 \nQ 1994 391 2212 530 \nQ 2431 669 2431 922 \nQ 2431 1156 2273 1281 \nQ 2116 1406 1581 1522 \nL 1381 1569 \nQ 847 1681 609 1914 \nQ 372 2147 372 2553 \nQ 372 3047 722 3315 \nQ 1072 3584 1716 3584 \nQ 2034 3584 2315 3537 \nQ 2597 3491 2834 3397 \nz\n\" transform=\"scale(0.015625)\"/>\n      <path id=\"DejaVuSans-68\" d=\"M 3513 2113 \nL 3513 0 \nL 2938 0 \nL 2938 2094 \nQ 2938 2591 2744 2837 \nQ 2550 3084 2163 3084 \nQ 1697 3084 1428 2787 \nQ 1159 2491 1159 1978 \nL 1159 0 \nL 581 0 \nL 581 4863 \nL 1159 4863 \nL 1159 2956 \nQ 1366 3272 1645 3428 \nQ 1925 3584 2291 3584 \nQ 2894 3584 3203 3211 \nQ 3513 2838 3513 2113 \nz\n\" transform=\"scale(0.015625)\"/>\n      <path id=\"DejaVuSans-69\" d=\"M 603 3500 \nL 1178 3500 \nL 1178 0 \nL 603 0 \nL 603 3500 \nz\nM 603 4863 \nL 1178 4863 \nL 1178 4134 \nL 603 4134 \nL 603 4863 \nz\n\" transform=\"scale(0.015625)\"/>\n      <path id=\"DejaVuSans-6e\" d=\"M 3513 2113 \nL 3513 0 \nL 2938 0 \nL 2938 2094 \nQ 2938 2591 2744 2837 \nQ 2550 3084 2163 3084 \nQ 1697 3084 1428 2787 \nQ 1159 2491 1159 1978 \nL 1159 0 \nL 581 0 \nL 581 3500 \nL 1159 3500 \nL 1159 2956 \nQ 1366 3272 1645 3428 \nQ 1925 3584 2291 3584 \nQ 2894 3584 3203 3211 \nQ 3513 2838 3513 2113 \nz\n\" transform=\"scale(0.015625)\"/>\n      <path id=\"DejaVuSans-4d\" d=\"M 628 4666 \nL 1569 4666 \nL 2759 1491 \nL 3956 4666 \nL 4897 4666 \nL 4897 0 \nL 4281 0 \nL 4281 4097 \nL 3078 897 \nL 2444 897 \nL 1241 4097 \nL 1241 0 \nL 628 0 \nL 628 4666 \nz\n\" transform=\"scale(0.015625)\"/>\n      <path id=\"DejaVuSans-4e\" d=\"M 628 4666 \nL 1478 4666 \nL 3547 763 \nL 3547 4666 \nL 4159 4666 \nL 4159 0 \nL 3309 0 \nL 1241 3903 \nL 1241 0 \nL 628 0 \nL 628 4666 \nz\n\" transform=\"scale(0.015625)\"/>\n      <path id=\"DejaVuSans-49\" d=\"M 628 4666 \nL 1259 4666 \nL 1259 0 \nL 628 0 \nL 628 4666 \nz\n\" transform=\"scale(0.015625)\"/>\n      <path id=\"DejaVuSans-53\" d=\"M 3425 4513 \nL 3425 3897 \nQ 3066 4069 2747 4153 \nQ 2428 4238 2131 4238 \nQ 1616 4238 1336 4038 \nQ 1056 3838 1056 3469 \nQ 1056 3159 1242 3001 \nQ 1428 2844 1947 2747 \nL 2328 2669 \nQ 3034 2534 3370 2195 \nQ 3706 1856 3706 1288 \nQ 3706 609 3251 259 \nQ 2797 -91 1919 -91 \nQ 1588 -91 1214 -16 \nQ 841 59 441 206 \nL 441 856 \nQ 825 641 1194 531 \nQ 1563 422 1919 422 \nQ 2459 422 2753 634 \nQ 3047 847 3047 1241 \nQ 3047 1584 2836 1778 \nQ 2625 1972 2144 2069 \nL 1759 2144 \nQ 1053 2284 737 2584 \nQ 422 2884 422 3419 \nQ 422 4038 858 4394 \nQ 1294 4750 2059 4750 \nQ 2388 4750 2728 4690 \nQ 3069 4631 3425 4513 \nz\n\" transform=\"scale(0.015625)\"/>\n      <path id=\"DejaVuSans-54\" d=\"M -19 4666 \nL 3928 4666 \nL 3928 4134 \nL 2272 4134 \nL 2272 0 \nL 1638 0 \nL 1638 4134 \nL -19 4134 \nL -19 4666 \nz\n\" transform=\"scale(0.015625)\"/>\n      <path id=\"DejaVuSans-20\" transform=\"scale(0.015625)\"/>\n      <path id=\"DejaVuSans-65\" d=\"M 3597 1894 \nL 3597 1613 \nL 953 1613 \nQ 991 1019 1311 708 \nQ 1631 397 2203 397 \nQ 2534 397 2845 478 \nQ 3156 559 3463 722 \nL 3463 178 \nQ 3153 47 2828 -22 \nQ 2503 -91 2169 -91 \nQ 1331 -91 842 396 \nQ 353 884 353 1716 \nQ 353 2575 817 3079 \nQ 1281 3584 2069 3584 \nQ 2775 3584 3186 3129 \nQ 3597 2675 3597 1894 \nz\nM 3022 2063 \nQ 3016 2534 2758 2815 \nQ 2500 3097 2075 3097 \nQ 1594 3097 1305 2825 \nQ 1016 2553 972 2059 \nL 3022 2063 \nz\n\" transform=\"scale(0.015625)\"/>\n      <path id=\"DejaVuSans-78\" d=\"M 3513 3500 \nL 2247 1797 \nL 3578 0 \nL 2900 0 \nL 1881 1375 \nL 863 0 \nL 184 0 \nL 1544 1831 \nL 300 3500 \nL 978 3500 \nL 1906 2253 \nL 2834 3500 \nL 3513 3500 \nz\n\" transform=\"scale(0.015625)\"/>\n      <path id=\"DejaVuSans-6d\" d=\"M 3328 2828 \nQ 3544 3216 3844 3400 \nQ 4144 3584 4550 3584 \nQ 5097 3584 5394 3201 \nQ 5691 2819 5691 2113 \nL 5691 0 \nL 5113 0 \nL 5113 2094 \nQ 5113 2597 4934 2840 \nQ 4756 3084 4391 3084 \nQ 3944 3084 3684 2787 \nQ 3425 2491 3425 1978 \nL 3425 0 \nL 2847 0 \nL 2847 2094 \nQ 2847 2600 2669 2842 \nQ 2491 3084 2119 3084 \nQ 1678 3084 1418 2786 \nQ 1159 2488 1159 1978 \nL 1159 0 \nL 581 0 \nL 581 3500 \nL 1159 3500 \nL 1159 2956 \nQ 1356 3278 1631 3431 \nQ 1906 3584 2284 3584 \nQ 2666 3584 2933 3390 \nQ 3200 3197 3328 2828 \nz\n\" transform=\"scale(0.015625)\"/>\n      <path id=\"DejaVuSans-70\" d=\"M 1159 525 \nL 1159 -1331 \nL 581 -1331 \nL 581 3500 \nL 1159 3500 \nL 1159 2969 \nQ 1341 3281 1617 3432 \nQ 1894 3584 2278 3584 \nQ 2916 3584 3314 3078 \nQ 3713 2572 3713 1747 \nQ 3713 922 3314 415 \nQ 2916 -91 2278 -91 \nQ 1894 -91 1617 61 \nQ 1341 213 1159 525 \nz\nM 3116 1747 \nQ 3116 2381 2855 2742 \nQ 2594 3103 2138 3103 \nQ 1681 3103 1420 2742 \nQ 1159 2381 1159 1747 \nQ 1159 1113 1420 752 \nQ 1681 391 2138 391 \nQ 2594 391 2855 752 \nQ 3116 1113 3116 1747 \nz\n\" transform=\"scale(0.015625)\"/>\n      <path id=\"DejaVuSans-6c\" d=\"M 603 4863 \nL 1178 4863 \nL 1178 0 \nL 603 0 \nL 603 4863 \nz\n\" transform=\"scale(0.015625)\"/>\n     </defs>\n     <use xlink:href=\"#DejaVuSans-46\"/>\n     <use xlink:href=\"#DejaVuSans-61\" x=\"48.394531\"/>\n     <use xlink:href=\"#DejaVuSans-73\" x=\"109.673828\"/>\n     <use xlink:href=\"#DejaVuSans-68\" x=\"161.773438\"/>\n     <use xlink:href=\"#DejaVuSans-69\" x=\"225.152344\"/>\n     <use xlink:href=\"#DejaVuSans-6e\" x=\"252.935547\"/>\n     <use xlink:href=\"#DejaVuSans-4d\" x=\"316.314453\"/>\n     <use xlink:href=\"#DejaVuSans-4e\" x=\"402.59375\"/>\n     <use xlink:href=\"#DejaVuSans-49\" x=\"477.398438\"/>\n     <use xlink:href=\"#DejaVuSans-53\" x=\"506.890625\"/>\n     <use xlink:href=\"#DejaVuSans-54\" x=\"570.367188\"/>\n     <use xlink:href=\"#DejaVuSans-20\" x=\"631.451172\"/>\n     <use xlink:href=\"#DejaVuSans-65\" x=\"663.238281\"/>\n     <use xlink:href=\"#DejaVuSans-78\" x=\"723.011719\"/>\n     <use xlink:href=\"#DejaVuSans-61\" x=\"782.191406\"/>\n     <use xlink:href=\"#DejaVuSans-6d\" x=\"843.470703\"/>\n     <use xlink:href=\"#DejaVuSans-70\" x=\"940.882812\"/>\n     <use xlink:href=\"#DejaVuSans-6c\" x=\"1004.359375\"/>\n     <use xlink:href=\"#DejaVuSans-65\" x=\"1032.142578\"/>\n     <use xlink:href=\"#DejaVuSans-73\" x=\"1093.666016\"/>\n    </g>\n   </g>\n  </g>\n </g>\n <defs>\n  <clipPath id=\"pa4ada130bc\">\n   <rect x=\"7.2\" y=\"22.318125\" width=\"443.52\" height=\"443.52\"/>\n  </clipPath>\n </defs>\n</svg>\n",
            "application/pdf": "[encoded data removed]"
          },
          "metadata": {}
        }
      ]
    }
  ]
}